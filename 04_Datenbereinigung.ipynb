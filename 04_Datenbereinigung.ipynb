{
 "cells": [
  {
   "cell_type": "markdown",
   "metadata": {},
   "source": [
    "# Datenbereinigung"
   ]
  },
  {
   "cell_type": "markdown",
   "metadata": {},
   "source": [
    "# Inhalt\n",
    "\n",
    "* [Daten aus Scopus](#data_scopus)\n",
    "   * [Deduplikation](#data_scopus_deduplikation)\n",
    "   * [Titelbereinigung](#data_scopus_bereinigung)\n",
    "* [Daten aus OpenAlex](#data_openalex)\n",
    "  * [Deduplikation](#data_openalex_deduplikation)\n",
    "  * [Titelbereinigung](#data_openalex_bereinigung)"
   ]
  },
  {
   "cell_type": "code",
   "execution_count": 1,
   "metadata": {},
   "outputs": [],
   "source": [
    "# import pybliometrics\n",
    "import pandas as pd\n",
    "import matplotlib.pyplot as plt\n",
    "\n",
    "# from pybliometrics.scopus import ScopusSearch, AbstractRetrieval\n",
    "\n",
    "# pybliometrics.scopus.init()  # read API keys\n",
    "pd.options.mode.copy_on_write = True\n",
    "\n",
    "# Daten für Publikation: für Scopus wird nur die id geseichert\n",
    "# AUF False setzen, damit alle Daten aus Scopus gespeichert werden\n",
    "publication = True "
   ]
  },
  {
   "cell_type": "code",
   "execution_count": 2,
   "metadata": {},
   "outputs": [],
   "source": [
    "import jupyter_black\n",
    "\n",
    "jupyter_black.load()"
   ]
  },
  {
   "cell_type": "code",
   "execution_count": 3,
   "metadata": {},
   "outputs": [
    {
     "name": "stdout",
     "output_type": "stream",
     "text": [
      "Python implementation: CPython\n",
      "Python version       : 3.11.2\n",
      "IPython version      : 8.5.0\n",
      "\n",
      "matplotlib   : 3.6.3\n",
      "pandas       : 1.5.3\n",
      "jupyter_black: 0.4.0\n",
      "\n"
     ]
    }
   ],
   "source": [
    "%load_ext watermark\n",
    "%watermark -v --iversions"
   ]
  },
  {
   "cell_type": "code",
   "execution_count": 4,
   "metadata": {},
   "outputs": [],
   "source": [
    "#  html text entfernen\n",
    "# https://stackoverflow.com/questions/9662346/python-code-to-remove-html-tags-from-a-string\n",
    "\n",
    "import re\n",
    "\n",
    "# remove anything between < and >\n",
    "CLEANR = re.compile(\"<.*?>\")\n",
    "# CLEANR = re.compile('<.*?>|&([a-z0-9]+|#[0-9]{1,6}|#x[0-9a-f]{1,6});')\n",
    "\n",
    "\n",
    "def cleanhtml(raw_html):\n",
    "    \"\"\" Remove html text from string :string -> string\"\"\"\n",
    "    cleantext = re.sub(CLEANR, \"\", raw_html)\n",
    "    return cleantext"
   ]
  },
  {
   "cell_type": "markdown",
   "metadata": {},
   "source": [
    "## Daten aus Scopus<a class=\"anchor\" id=\"data_scopus\"></a>"
   ]
  },
  {
   "cell_type": "code",
   "execution_count": 5,
   "metadata": {},
   "outputs": [
    {
     "name": "stdout",
     "output_type": "stream",
     "text": [
      "4086\n",
      "6505\n"
     ]
    }
   ],
   "source": [
    "# Daten einlesen\n",
    "data_scopus_2010 = pd.read_csv(\"../data/raw/data_scopus_2010.csv\")\n",
    "data_scopus_2020 = pd.read_csv(\"../data/raw/data_scopus_2020.csv\")\n",
    "\n",
    "print(data_scopus_2010.shape[0])\n",
    "print(data_scopus_2020.shape[0])"
   ]
  },
  {
   "cell_type": "code",
   "execution_count": 6,
   "metadata": {},
   "outputs": [
    {
     "data": {
      "text/plain": [
       "Index(['eid', 'doi', 'pii', 'pubmed_id', 'title', 'subtype',\n",
       "       'subtypeDescription', 'creator', 'afid', 'affilname',\n",
       "       'affiliation_city', 'affiliation_country', 'author_count',\n",
       "       'author_names', 'author_ids', 'author_afids', 'coverDate',\n",
       "       'coverDisplayDate', 'publicationName', 'issn', 'source_id', 'eIssn',\n",
       "       'aggregationType', 'volume', 'issueIdentifier', 'article_number',\n",
       "       'pageRange', 'description', 'authkeywords', 'citedby_count',\n",
       "       'openaccess', 'freetoread', 'freetoreadLabel', 'fund_acr', 'fund_no',\n",
       "       'fund_sponsor'],\n",
       "      dtype='object')"
      ]
     },
     "execution_count": 6,
     "metadata": {},
     "output_type": "execute_result"
    }
   ],
   "source": [
    "data_scopus_2010.columns"
   ]
  },
  {
   "cell_type": "code",
   "execution_count": 7,
   "metadata": {},
   "outputs": [
    {
     "name": "stdout",
     "output_type": "stream",
     "text": [
      "4030\n",
      "6487\n"
     ]
    }
   ],
   "source": [
    "# für Scopus werden Publikationen vom Typ Conference Review nicht mit berücksichtigt\n",
    "data_scopus_2010 = data_scopus_2010[\n",
    "    data_scopus_2010[\"subtypeDescription\"] != \"Conference Review\"\n",
    "]\n",
    "data_scopus_2020 = data_scopus_2020[\n",
    "    data_scopus_2020[\"subtypeDescription\"] != \"Conference Review\"\n",
    "]\n",
    "\n",
    "print(data_scopus_2010.shape[0])\n",
    "print(data_scopus_2020.shape[0])"
   ]
  },
  {
   "cell_type": "code",
   "execution_count": 8,
   "metadata": {},
   "outputs": [
    {
     "name": "stdout",
     "output_type": "stream",
     "text": [
      "4021\n",
      "6486\n"
     ]
    }
   ],
   "source": [
    "# für Scopus werden Publikationsquellen vom Typ Trade Journal nicht mit berücksichtigt\n",
    "data_scopus_2010 = data_scopus_2010[\n",
    "    data_scopus_2010[\"aggregationType\"] != \"Trade Journal\"\n",
    "]\n",
    "data_scopus_2020 = data_scopus_2020[\n",
    "    data_scopus_2020[\"aggregationType\"] != \"Trade Journal\"\n",
    "]\n",
    "\n",
    "print(data_scopus_2010.shape[0])\n",
    "print(data_scopus_2020.shape[0])"
   ]
  },
  {
   "cell_type": "code",
   "execution_count": 9,
   "metadata": {},
   "outputs": [],
   "source": [
    "# Buchstaben einheitlich Kleinschreibung\n",
    "data_scopus_2010[\"doi\"] = data_scopus_2010[\"doi\"].str.lower()\n",
    "data_scopus_2020[\"doi\"] = data_scopus_2020[\"doi\"].str.lower()\n",
    "\n",
    "data_scopus_2010[\"title\"] = data_scopus_2010[\"title\"].str.lower()\n",
    "data_scopus_2020[\"title\"] = data_scopus_2020[\"title\"].str.lower()\n",
    "\n",
    "data_scopus_2010[\"publicationName\"] = data_scopus_2010[\"publicationName\"].str.lower()\n",
    "data_scopus_2020[\"publicationName\"] = data_scopus_2020[\"publicationName\"].str.lower()"
   ]
  },
  {
   "cell_type": "markdown",
   "metadata": {},
   "source": [
    "### Deduplikation<a class=\"anchor\" id=\"data_scopus_deduplikation\"></a>"
   ]
  },
  {
   "cell_type": "code",
   "execution_count": 10,
   "metadata": {},
   "outputs": [
    {
     "name": "stdout",
     "output_type": "stream",
     "text": [
      "Für 2010-2013 wurden 4021 Einträge in Scopus gefunden. Hiervon haben 3841 eine DOI und 180 keine DOI.\n",
      "Für 2020-2023 wurden 6486 Einträge in Scopus gefunden. Hiervon haben 6392 eine DOI und 94 keine DOI.\n"
     ]
    }
   ],
   "source": [
    "# Aufteilung in Daten mit und ohne DOI\n",
    "data_scopus_2010_nodoi = data_scopus_2010[data_scopus_2010[\"doi\"].isnull()]\n",
    "data_scopus_2010_mitdoi = data_scopus_2010[data_scopus_2010[\"doi\"].notnull()]\n",
    "\n",
    "data_scopus_2020_nodoi = data_scopus_2020[data_scopus_2020[\"doi\"].isnull()]\n",
    "data_scopus_2020_mitdoi = data_scopus_2020[data_scopus_2020[\"doi\"].notnull()]\n",
    "\n",
    "print(\n",
    "    f\"Für 2010-2013 wurden {data_scopus_2010.shape[0]} Einträge in Scopus gefunden. Hiervon haben {data_scopus_2010_mitdoi.shape[0]} eine DOI und {data_scopus_2010_nodoi.shape[0]} keine DOI.\"\n",
    ")\n",
    "print(\n",
    "    f\"Für 2020-2023 wurden {data_scopus_2020.shape[0]} Einträge in Scopus gefunden. Hiervon haben {data_scopus_2020_mitdoi.shape[0]} eine DOI und {data_scopus_2020_nodoi.shape[0]} keine DOI.\"\n",
    ")"
   ]
  },
  {
   "cell_type": "code",
   "execution_count": 11,
   "metadata": {},
   "outputs": [
    {
     "name": "stdout",
     "output_type": "stream",
     "text": [
      "Für 2010-2013 wurden 8 Duplikate gefunden.\n",
      "Für 2020-2023 wurden 8 Duplikate gefunden.\n"
     ]
    }
   ],
   "source": [
    "# Prüfung anhand der DOI: gibt es Dopplungen?\n",
    "\n",
    "duplicates_doi_data_scopus_2010 = data_scopus_2010_mitdoi[\n",
    "    data_scopus_2010_mitdoi.duplicated(\"doi\", keep=False)\n",
    "]\n",
    "duplicates_doi_data_scopus_2020 = data_scopus_2020_mitdoi[\n",
    "    data_scopus_2020_mitdoi.duplicated(\"doi\", keep=False)\n",
    "]\n",
    "\n",
    "print(\n",
    "    f\"Für 2010-2013 wurden {duplicates_doi_data_scopus_2010.shape[0]} Duplikate gefunden.\"\n",
    ")\n",
    "print(\n",
    "    f\"Für 2020-2023 wurden {duplicates_doi_data_scopus_2020.shape[0]} Duplikate gefunden.\"\n",
    ")\n",
    "\n",
    "# Duplikate abspeichern (zur manuellen Sichtung)\n",
    "duplicates_doi_data_scopus_2010.to_csv(\n",
    "    \"../data/processed/duplicates_doi_data_scopus_2010.csv\"\n",
    ")\n",
    "duplicates_doi_data_scopus_2020.to_csv(\n",
    "    \"../data/processed/duplicates_doi_data_scopus_2020.csv\"\n",
    ")"
   ]
  },
  {
   "cell_type": "code",
   "execution_count": 12,
   "metadata": {},
   "outputs": [
    {
     "name": "stdout",
     "output_type": "stream",
     "text": [
      "4017\n",
      "6482\n"
     ]
    }
   ],
   "source": [
    "# Dopplungen entfernen\n",
    "# zu entfernende Einträge, wurden manuell ermittelt\n",
    "eid_2010_to_be_removed = [\n",
    "    \"2-s2.0-84892646502\",\n",
    "    \"2-s2.0-84863704406\",\n",
    "    \"2-s2.0-84897092929\",\n",
    "    \"2-s2.0-84928953432\",\n",
    "]\n",
    "eid_2020_to_be_removed = [\n",
    "    \"2-s2.0-85175387039\",\n",
    "    \"2-s2.0-85175381055\",\n",
    "    \"2-s2.0-85136175695\",\n",
    "    \"2-s2.0-85112657532\",\n",
    "]\n",
    "\n",
    "data_scopus_2010 = data_scopus_2010.query(\"eid not in @eid_2010_to_be_removed\")\n",
    "data_scopus_2020 = data_scopus_2020.query(\"eid not in @eid_2020_to_be_removed\")\n",
    "\n",
    "print(data_scopus_2010.shape[0])\n",
    "print(data_scopus_2020.shape[0])"
   ]
  },
  {
   "cell_type": "code",
   "execution_count": 13,
   "metadata": {},
   "outputs": [
    {
     "name": "stdout",
     "output_type": "stream",
     "text": [
      "Für 2010-2013 wurden 0 Duplikate gefunden.\n",
      "Für 2020-2023 wurden 0 Duplikate gefunden.\n"
     ]
    }
   ],
   "source": [
    "# Gibt es weitere Dopplungen? -> Prüfung aller Felder\n",
    "\n",
    "duplicates_data_scopus_2010 = data_scopus_2010[data_scopus_2010.duplicated(keep=False)]\n",
    "duplicates_data_scopus_2020 = data_scopus_2020[data_scopus_2020.duplicated(keep=False)]\n",
    "\n",
    "print(\n",
    "    f\"Für 2010-2013 wurden {duplicates_data_scopus_2010.shape[0]} Duplikate gefunden.\"\n",
    ")\n",
    "print(\n",
    "    f\"Für 2020-2023 wurden {duplicates_data_scopus_2020.shape[0]} Duplikate gefunden.\"\n",
    ")"
   ]
  },
  {
   "cell_type": "code",
   "execution_count": 14,
   "metadata": {},
   "outputs": [
    {
     "name": "stdout",
     "output_type": "stream",
     "text": [
      "Für 2010-2013 wurden 33 Duplikate gefunden.\n",
      "Für 2020-2023 wurden 14 Duplikate gefunden.\n"
     ]
    }
   ],
   "source": [
    "# Gibt es weitere Dopplungen? -> Prüfung anhand der Felder 'title' und 'subTypeDescription'\n",
    "# damit können bei gleichen Titel Journalartikel und Konferenzproceedings getrennt werden\n",
    "\n",
    "duplicates_title_data_scopus_2010 = data_scopus_2010[\n",
    "    data_scopus_2010.duplicated(subset=[\"title\", \"subtypeDescription\"], keep=False)\n",
    "]\n",
    "duplicates_title_data_scopus_2020 = data_scopus_2020[\n",
    "    data_scopus_2020.duplicated(subset=[\"title\", \"subtypeDescription\"], keep=False)\n",
    "]\n",
    "\n",
    "print(\n",
    "    f\"Für 2010-2013 wurden {duplicates_title_data_scopus_2010.shape[0]} Duplikate gefunden.\"\n",
    ")\n",
    "print(\n",
    "    f\"Für 2020-2023 wurden {duplicates_title_data_scopus_2020.shape[0]} Duplikate gefunden.\"\n",
    ")\n",
    "\n",
    "# Duplikate abspeichern (zur manuellen Sichtung)\n",
    "duplicates_title_data_scopus_2010.sort_values(\"title\", inplace=True)\n",
    "duplicates_title_data_scopus_2020.sort_values(\"title\", inplace=True)\n",
    "duplicates_title_data_scopus_2010.to_csv(\n",
    "    \"../data/processed/duplicates_title_data_scopus_2010.csv\"\n",
    ")\n",
    "duplicates_title_data_scopus_2020.to_csv(\n",
    "    \"../data/processed/duplicates_title_data_scopus_2020.csv\"\n",
    ")"
   ]
  },
  {
   "cell_type": "code",
   "execution_count": 15,
   "metadata": {},
   "outputs": [
    {
     "name": "stdout",
     "output_type": "stream",
     "text": [
      "4006\n",
      "6476\n"
     ]
    }
   ],
   "source": [
    "# Dopplungen entfernen\n",
    "# zu entfernende Einträge, wurden manuell ermittelt\n",
    "eid_2010_to_be_removed = [\n",
    "    \"2-s2.0-80755169735\",\n",
    "    \"2-s2.0-84887704819\",\n",
    "    \"2-s2.0-85120467391\",\n",
    "    \"2-s2.0-84866000852\",\n",
    "    \"2-s2.0-85030027095\",\n",
    "    \"2-s2.0-84864102613\",\n",
    "    \"2-s2.0-84893581577\",\n",
    "    \"2-s2.0-79951619054\",\n",
    "    \"2-s2.0-84898069435\",\n",
    "    \"2-s2.0-84898070949\",\n",
    "    \"2-s2.0-84898076009\",\n",
    "    \"2-s2.0-79956106131\",\n",
    "]\n",
    "eid_2020_to_be_removed = [\n",
    "    \"2-s2.0-85184127860\",\n",
    "    \"2-s2.0-85120049152\",\n",
    "    \"2-s2.0-85120036757\",\n",
    "    \"2-s2.0-85091649541\",\n",
    "    \"2-s2.0-85120050705\",\n",
    "    \"2-s2.0-85145874050\",\n",
    "]\n",
    "\n",
    "data_scopus_2010 = data_scopus_2010.query(\"eid not in @eid_2010_to_be_removed\")\n",
    "data_scopus_2020 = data_scopus_2020.query(\"eid not in @eid_2020_to_be_removed\")\n",
    "\n",
    "print(data_scopus_2010.shape[0])\n",
    "print(data_scopus_2020.shape[0])"
   ]
  },
  {
   "cell_type": "code",
   "execution_count": 16,
   "metadata": {},
   "outputs": [
    {
     "name": "stdout",
     "output_type": "stream",
     "text": [
      "Finaler Datensatz für Scopus in 2010 - 2013: 4006 Einträge davon 169 (4.22 %) ohne DOI.\n",
      "Finaler Datensatz für Scopus in 2020 - 2023: 6476 Einträge davon 88 (1.36 %) ohne DOI.\n"
     ]
    }
   ],
   "source": [
    "nodoi_2010 = data_scopus_2010[data_scopus_2010[\"doi\"].isnull()]\n",
    "nodoi_2020 = data_scopus_2020[data_scopus_2020[\"doi\"].isnull()]\n",
    "\n",
    "print(\n",
    "    f\"Finaler Datensatz für Scopus in 2010 - 2013: {data_scopus_2010.shape[0]} Einträge davon {nodoi_2010.shape[0]} ({nodoi_2010.shape[0]/data_scopus_2010.shape[0]*100:.2f} %) ohne DOI.\"\n",
    ")\n",
    "print(\n",
    "    f\"Finaler Datensatz für Scopus in 2020 - 2023: {data_scopus_2020.shape[0]} Einträge davon {nodoi_2020.shape[0]} ({nodoi_2020.shape[0]/data_scopus_2020.shape[0]*100:.2f} %) ohne DOI.\"\n",
    ")"
   ]
  },
  {
   "cell_type": "markdown",
   "metadata": {},
   "source": [
    "### Titelbereinigung<a class=\"anchor\" id=\"data_scopus_bereinigung\"></a>\n",
    "\n",
    "Für die Einträge ohne DOI wird vorallem der Titel genutzt. Hier kann es vorallem durch Formelzeichen zu uneinheitlichen Schreibweisen kommen, was das Matching erschwert.\n",
    "Hier findet sich u.a. html-Notation wie: hfo<inf>2</inf>. "
   ]
  },
  {
   "cell_type": "code",
   "execution_count": null,
   "metadata": {},
   "outputs": [],
   "source": [
    "title_to_fix_2010 = data_scopus_2010[data_scopus_2010[\"title\"].str.contains(\"<inf>\")]\n",
    "title_to_fix_2020 = data_scopus_2020[data_scopus_2020[\"title\"].str.contains(\"<inf>\")]\n",
    "\n",
    "pd.options.display.max_colwidth = 200\n",
    "print(title_to_fix_2010[\"title\"])\n",
    "print(title_to_fix_2020[\"title\"])"
   ]
  },
  {
   "cell_type": "code",
   "execution_count": 18,
   "metadata": {},
   "outputs": [
    {
     "name": "stdout",
     "output_type": "stream",
     "text": [
      "Empty DataFrame\n",
      "Columns: [eid, doi, pii, pubmed_id, title, subtype, subtypeDescription, creator, afid, affilname, affiliation_city, affiliation_country, author_count, author_names, author_ids, author_afids, coverDate, coverDisplayDate, publicationName, issn, source_id, eIssn, aggregationType, volume, issueIdentifier, article_number, pageRange, description, authkeywords, citedby_count, openaccess, freetoread, freetoreadLabel, fund_acr, fund_no, fund_sponsor]\n",
      "Index: []\n",
      "\n",
      "[0 rows x 36 columns]\n",
      "Empty DataFrame\n",
      "Columns: [eid, doi, pii, pubmed_id, title, subtype, subtypeDescription, creator, afid, affilname, affiliation_city, affiliation_country, author_count, author_names, author_ids, author_afids, coverDate, coverDisplayDate, publicationName, issn, source_id, eIssn, aggregationType, volume, issueIdentifier, article_number, pageRange, description, authkeywords, citedby_count, openaccess, freetoread, freetoreadLabel, fund_acr, fund_no, fund_sponsor]\n",
      "Index: []\n",
      "\n",
      "[0 rows x 36 columns]\n"
     ]
    }
   ],
   "source": [
    "data_scopus_2010[\"title\"] = data_scopus_2010[\"title\"].apply(cleanhtml)\n",
    "data_scopus_2020[\"title\"] = data_scopus_2020[\"title\"].apply(cleanhtml)\n",
    "\n",
    "print(data_scopus_2010[data_scopus_2010[\"title\"].str.contains(\"<inf>\")])\n",
    "print(data_scopus_2020[data_scopus_2020[\"title\"].str.contains(\"<inf>\")])"
   ]
  },
  {
   "cell_type": "code",
   "execution_count": 19,
   "metadata": {},
   "outputs": [],
   "source": [
    "# Nachname ErstautorIn in separater Spalte\n",
    "data_scopus_2010[\"name_1st_author\"] = (\n",
    "    data_scopus_2010[\"author_names\"].str.split(\",\").str[0]\n",
    ")\n",
    "data_scopus_2020[\"name_1st_author\"] = (\n",
    "    data_scopus_2020[\"author_names\"].str.split(\",\").str[0]\n",
    ")"
   ]
  },
  {
   "cell_type": "code",
   "execution_count": 20,
   "metadata": {},
   "outputs": [],
   "source": [
    "# Publikationsjahr in separater Spalte\n",
    "data_scopus_2010[\"publication_year\"] = (\n",
    "    data_scopus_2010[\"coverDate\"].str.split(\"-\").str[0]\n",
    ")\n",
    "data_scopus_2020[\"publication_year\"] = (\n",
    "    data_scopus_2020[\"coverDate\"].str.split(\"-\").str[0]\n",
    ")"
   ]
  },
  {
   "cell_type": "markdown",
   "metadata": {},
   "source": [
    "## Daten aus OpenAlex<a class=\"anchor\" id=\"data_openalex\"></a>"
   ]
  },
  {
   "cell_type": "code",
   "execution_count": 21,
   "metadata": {},
   "outputs": [
    {
     "name": "stdout",
     "output_type": "stream",
     "text": [
      "5530\n",
      "7622\n"
     ]
    }
   ],
   "source": [
    "# Daten einlesen\n",
    "data_openalex_2010 = pd.read_csv(\"../data/raw/data_openalex_2010.csv\")\n",
    "data_openalex_2020 = pd.read_csv(\"../data/raw/data_openalex_2020.csv\")\n",
    "\n",
    "print(data_openalex_2010.shape[0])\n",
    "print(data_openalex_2020.shape[0])"
   ]
  },
  {
   "cell_type": "code",
   "execution_count": 22,
   "metadata": {},
   "outputs": [
    {
     "name": "stdout",
     "output_type": "stream",
     "text": [
      "5266\n",
      "6968\n"
     ]
    }
   ],
   "source": [
    "# für OpenAlex werden Publikationen vom Typ paratext, preprint, dissertation, grant, pee-review, standard nicht mit berücksichtigt\n",
    "types_not_considered = [\n",
    "    \"paratext\",\n",
    "    \"preprint\",\n",
    "    \"grant\",\n",
    "    \"dissertation\",\n",
    "    \"dataset\",\n",
    "    \"peer-review\",\n",
    "    \"standard\",\n",
    "]\n",
    "\n",
    "data_openalex_2010 = data_openalex_2010.query(\"type not in @types_not_considered\")\n",
    "data_openalex_2020 = data_openalex_2020.query(\"type not in @types_not_considered\")\n",
    "\n",
    "print(data_openalex_2010.shape[0])\n",
    "print(data_openalex_2020.shape[0])"
   ]
  },
  {
   "cell_type": "code",
   "execution_count": 23,
   "metadata": {},
   "outputs": [],
   "source": [
    "# Buchstaben einheitlich Kleinschreibung\n",
    "data_openalex_2010[\"doi\"] = data_openalex_2010[\"doi\"].str.lower()\n",
    "data_openalex_2020[\"doi\"] = data_openalex_2020[\"doi\"].str.lower()\n",
    "\n",
    "data_openalex_2010[\"title\"] = data_openalex_2010[\"title\"].str.lower()\n",
    "data_openalex_2020[\"title\"] = data_openalex_2020[\"title\"].str.lower()\n",
    "\n",
    "data_openalex_2010[\"source_title\"] = data_openalex_2010[\"source_title\"].str.lower()\n",
    "data_openalex_2020[\"source_title\"] = data_openalex_2020[\"source_title\"].str.lower()"
   ]
  },
  {
   "cell_type": "code",
   "execution_count": 24,
   "metadata": {},
   "outputs": [],
   "source": [
    "# DOI bereinigen\n",
    "# DOI in OpenAlex starten mit  https://doi.org/, in Scopus ist dies bereits entfernt\n",
    "\n",
    "data_openalex_2010[\"doi\"] = data_openalex_2010[\"doi\"].str.lstrip(\"https://doi.org/\")\n",
    "data_openalex_2020[\"doi\"] = data_openalex_2020[\"doi\"].str.lstrip(\"https://doi.org/\")"
   ]
  },
  {
   "cell_type": "markdown",
   "metadata": {},
   "source": [
    "### Deduplikation<a class=\"anchor\" id=\"data_openalex_deduplikation\"></a>"
   ]
  },
  {
   "cell_type": "code",
   "execution_count": 25,
   "metadata": {},
   "outputs": [
    {
     "name": "stdout",
     "output_type": "stream",
     "text": [
      "Für 2010-2013 wurden 26 Duplikate gefunden.\n",
      "Für 2020-2023 wurden 24 Duplikate gefunden.\n",
      "5253\n",
      "6956\n"
     ]
    }
   ],
   "source": [
    "# Prüfung anhand der ID: Gibt es Dopplungen?\n",
    "# Dopplungen sind identische Einträge, daher keine manuelle Entfernung\n",
    "# Herkunft unklar\n",
    "\n",
    "# Duplikate finden\n",
    "duplicates_id_data_openalex_2010 = data_openalex_2010[\n",
    "    data_openalex_2010.duplicated(\"id\", keep=False)\n",
    "]\n",
    "duplicates_id_data_openalex_2020 = data_openalex_2020[\n",
    "    data_openalex_2020.duplicated(\"id\", keep=False)\n",
    "]\n",
    "\n",
    "print(\n",
    "    f\"Für 2010-2013 wurden {duplicates_id_data_openalex_2010.shape[0]} Duplikate gefunden.\"\n",
    ")\n",
    "print(\n",
    "    f\"Für 2020-2023 wurden {duplicates_id_data_openalex_2020.shape[0]} Duplikate gefunden.\"\n",
    ")\n",
    "\n",
    "# Duplikate abspeichern (zur manuellen Sichtung)\n",
    "# duplicates_id_data_openalex_2010.to_csv(\n",
    "#     \"data/processed/duplicates_id_data_openalex_2010.csv\", encoding=\"utf-8\"\n",
    "# )\n",
    "# duplicates_id_data_openalex_2020.to_csv(\n",
    "#     \"data/processed/duplicates_id_data_openalex_2020.csv\", encoding=\"utf-8\"\n",
    "# )\n",
    "\n",
    "# Duplikate entfernen\n",
    "data_openalex_2010.drop_duplicates(subset=[\"id\"], inplace=True)\n",
    "data_openalex_2020.drop_duplicates(subset=[\"id\"], inplace=True)\n",
    "\n",
    "print(data_openalex_2010.shape[0])\n",
    "print(data_openalex_2020.shape[0])"
   ]
  },
  {
   "cell_type": "code",
   "execution_count": 26,
   "metadata": {},
   "outputs": [
    {
     "name": "stdout",
     "output_type": "stream",
     "text": [
      "Für 2010-2013 wurden 5253 Einträge in OpenAlex gefunden. Hiervon haben 4603 eine DOI und 650 keine DOI.\n",
      "Für 2020-2023 wurden 6956 Einträge in OpenAlex gefunden. Hiervon haben 6780 eine DOI und 176 keine DOI.\n"
     ]
    }
   ],
   "source": [
    "# Aufteilung in Daten mit und ohne DOI\n",
    "data_openalex_2010_nodoi = data_openalex_2010[data_openalex_2010[\"doi\"].isnull()]\n",
    "data_openalex_2010_mitdoi = data_openalex_2010[data_openalex_2010[\"doi\"].notnull()]\n",
    "\n",
    "data_openalex_2020_nodoi = data_openalex_2020[data_openalex_2020[\"doi\"].isnull()]\n",
    "data_openalex_2020_mitdoi = data_openalex_2020[data_openalex_2020[\"doi\"].notnull()]\n",
    "\n",
    "print(\n",
    "    f\"Für 2010-2013 wurden {data_openalex_2010.shape[0]} Einträge in OpenAlex gefunden. Hiervon haben {data_openalex_2010_mitdoi.shape[0]} eine DOI und {data_openalex_2010_nodoi.shape[0]} keine DOI.\"\n",
    ")\n",
    "print(\n",
    "    f\"Für 2020-2023 wurden {data_openalex_2020.shape[0]} Einträge in OpenAlex gefunden. Hiervon haben {data_openalex_2020_mitdoi.shape[0]} eine DOI und {data_openalex_2020_nodoi.shape[0]} keine DOI.\"\n",
    ")"
   ]
  },
  {
   "cell_type": "code",
   "execution_count": 27,
   "metadata": {},
   "outputs": [
    {
     "name": "stdout",
     "output_type": "stream",
     "text": [
      "2010-2013: 4603, 4603\n",
      "2020-2023: 6780, 6780\n"
     ]
    }
   ],
   "source": [
    "# überprüfung: alle DOIs starten mit 10.1\n",
    "print(\n",
    "    f\"2010-2013: {data_openalex_2010_mitdoi.shape[0]}, {data_openalex_2010_mitdoi[data_openalex_2010_mitdoi['doi'].str.startswith('10.')].shape[0]}\"\n",
    ")\n",
    "print(\n",
    "    f\"2020-2023: {data_openalex_2020_mitdoi.shape[0]}, {data_openalex_2020_mitdoi[data_openalex_2020_mitdoi['doi'].str.startswith('10.')].shape[0]}\"\n",
    ")"
   ]
  },
  {
   "cell_type": "code",
   "execution_count": 28,
   "metadata": {},
   "outputs": [
    {
     "name": "stdout",
     "output_type": "stream",
     "text": [
      "Für 2010-2013 wurden 0 Duplikate gefunden.\n",
      "Für 2020-2023 wurden 0 Duplikate gefunden.\n"
     ]
    }
   ],
   "source": [
    "# Prüfung anhand der DOI: Gibt es Dopplungen?\n",
    "\n",
    "duplicates_doi_data_openalex_2010 = data_openalex_2010_mitdoi[\n",
    "    data_openalex_2010_mitdoi.duplicated(\"doi\", keep=False)\n",
    "]\n",
    "duplicates_doi_data_openalex_2020 = data_openalex_2020_mitdoi[\n",
    "    data_openalex_2020_mitdoi.duplicated(\"doi\", keep=False)\n",
    "]\n",
    "\n",
    "print(\n",
    "    f\"Für 2010-2013 wurden {duplicates_doi_data_openalex_2010.shape[0]} Duplikate gefunden.\"\n",
    ")\n",
    "print(\n",
    "    f\"Für 2020-2023 wurden {duplicates_doi_data_openalex_2020.shape[0]} Duplikate gefunden.\"\n",
    ")\n",
    "\n",
    "# Duplikate abspeichern\n",
    "# duplicates_doi_data_openalex_2010.to_csv(\"data/processed/duplicates_doi_data_openalex_2010.csv\", mode='x')\n",
    "# duplicates_doi_data_openalex_2020.to_csv(\"data/processed/duplicates_doi_data_openalex_2020.csv\", mode='x')"
   ]
  },
  {
   "cell_type": "code",
   "execution_count": 29,
   "metadata": {},
   "outputs": [
    {
     "name": "stdout",
     "output_type": "stream",
     "text": [
      "Für 2010-2013 wurden 214 Duplikate gefunden.\n",
      "Für 2020-2023 wurden 248 Duplikate gefunden.\n"
     ]
    }
   ],
   "source": [
    "# Prüfung anhand des Titels: Gibt es Dopplungen?\n",
    "duplicates_title_data_openalex_2010 = data_openalex_2010[\n",
    "    data_openalex_2010.duplicated(subset=[\"title\", \"type\"], keep=False)\n",
    "]\n",
    "duplicates_title_data_openalex_2020 = data_openalex_2020[\n",
    "    data_openalex_2020.duplicated(subset=[\"title\", \"type\"], keep=False)\n",
    "]\n",
    "\n",
    "print(\n",
    "    f\"Für 2010-2013 wurden {duplicates_title_data_openalex_2010.shape[0]} Duplikate gefunden.\"\n",
    ")\n",
    "print(\n",
    "    f\"Für 2020-2023 wurden {duplicates_title_data_openalex_2020.shape[0]} Duplikate gefunden.\"\n",
    ")\n",
    "\n",
    "# Duplikate abspeichern (zur manuellen Sichtung)\n",
    "# duplicates_title_data_openalex_2010.sort_values(\"title\", inplace=True)\n",
    "# duplicates_title_data_openalex_2020.sort_values(\"title\", inplace=True)\n",
    "# duplicates_title_data_openalex_2010.to_csv(\n",
    "#     \"data/processed/duplicates_title_data_openalex_2010.csv\"\n",
    "# )\n",
    "# duplicates_title_data_openalex_2020.to_csv(\n",
    "#     \"data/processed/duplicates_title_data_openalex_2020.csv\"\n",
    "# )"
   ]
  },
  {
   "cell_type": "code",
   "execution_count": 30,
   "metadata": {},
   "outputs": [
    {
     "data": {
      "text/plain": [
       "188"
      ]
     },
     "execution_count": 30,
     "metadata": {},
     "output_type": "execute_result"
    }
   ],
   "source": [
    "# Datensätze ohne DOI\n",
    "duplicates_title_data_openalex_2010[\n",
    "    duplicates_title_data_openalex_2010[\"doi\"].notnull()\n",
    "].shape[0]"
   ]
  },
  {
   "cell_type": "code",
   "execution_count": 31,
   "metadata": {},
   "outputs": [
    {
     "data": {
      "text/plain": [
       "236"
      ]
     },
     "execution_count": 31,
     "metadata": {},
     "output_type": "execute_result"
    }
   ],
   "source": [
    "# Datensätze ohne DOI\n",
    "duplicates_title_data_openalex_2020[\n",
    "    duplicates_title_data_openalex_2020[\"doi\"].notnull()\n",
    "].shape[0]"
   ]
  },
  {
   "cell_type": "code",
   "execution_count": 32,
   "metadata": {},
   "outputs": [
    {
     "name": "stdout",
     "output_type": "stream",
     "text": [
      "5172\n",
      "6951\n"
     ]
    }
   ],
   "source": [
    "# Dopplungen für das Journal Japanese Journal of Applied Physics entfernen (doppelte Einträge mit unterschiedlichen DOI Prefixen)\n",
    "\n",
    "data_openalex_2010 = data_openalex_2010[\n",
    "    ~data_openalex_2010[\"doi\"].str.startswith(\"10.7567\", na=False)\n",
    "]\n",
    "data_openalex_2020 = data_openalex_2020[\n",
    "    ~data_openalex_2020[\"doi\"].str.startswith(\"10.7567\", na=False)\n",
    "]\n",
    "\n",
    "print(data_openalex_2010.shape[0])\n",
    "print(data_openalex_2020.shape[0])"
   ]
  },
  {
   "cell_type": "code",
   "execution_count": 33,
   "metadata": {},
   "outputs": [
    {
     "name": "stdout",
     "output_type": "stream",
     "text": [
      "5172\n",
      "6806\n"
     ]
    }
   ],
   "source": [
    "# Article des Preprintservers SSRN werden nicht mit berücksichtigt\n",
    "# DOI starten mit 10.2139/ssrn\n",
    "\n",
    "data_openalex_2010 = data_openalex_2010[\n",
    "    ~data_openalex_2010[\"doi\"].str.startswith(\"10.2139/ssrn\", na=False)\n",
    "]\n",
    "data_openalex_2020 = data_openalex_2020[\n",
    "    ~data_openalex_2020[\"doi\"].str.startswith(\"10.2139/ssrn\", na=False)\n",
    "]\n",
    "\n",
    "print(data_openalex_2010.shape[0])\n",
    "print(data_openalex_2020.shape[0])"
   ]
  },
  {
   "cell_type": "code",
   "execution_count": 34,
   "metadata": {},
   "outputs": [
    {
     "name": "stdout",
     "output_type": "stream",
     "text": [
      "5028\n",
      "6294\n"
     ]
    }
   ],
   "source": [
    "# Meeting Abstract der ECS transactions entfernen (Proceedings bleiben erhalten)\n",
    "# DOI starten mit 10.1149/ma\n",
    "\n",
    "data_openalex_2010 = data_openalex_2010[\n",
    "    ~data_openalex_2010[\"doi\"].str.startswith(\"10.1149/ma\", na=False)\n",
    "]\n",
    "data_openalex_2020 = data_openalex_2020[\n",
    "    ~data_openalex_2020[\"doi\"].str.startswith(\"10.1149/ma\", na=False)\n",
    "]\n",
    "\n",
    "print(data_openalex_2010.shape[0])\n",
    "print(data_openalex_2020.shape[0])"
   ]
  },
  {
   "cell_type": "code",
   "execution_count": 35,
   "metadata": {},
   "outputs": [
    {
     "name": "stdout",
     "output_type": "stream",
     "text": [
      "5025\n"
     ]
    }
   ],
   "source": [
    "# Beträge zur Asia Communications and Photonics Conference sind teilweise doppelt enthalten\n",
    "# Beiträge starten mit DOI 10.1364/acp und 10.1364/acpc., führen aber zum gleichen Dokument\n",
    "# DOI mit Beginn 10.1364/acp. werden entfernt, wenn Dopplung vorhanden (manuell)\n",
    "\n",
    "doi_2010_to_be_removed = [\n",
    "    \"10.1364/acp.2013.aw4c.5\",\n",
    "    \"10.1364/acp.2013.af2d.29\",\n",
    "    \"10.1364/acp.2013.af2b.44\",\n",
    "]\n",
    "# keine Dopplung hier für 2020\n",
    "\n",
    "data_openalex_2010 = data_openalex_2010.query(\"doi not in @doi_2010_to_be_removed\")\n",
    "\n",
    "print(data_openalex_2010.shape[0])"
   ]
  },
  {
   "cell_type": "code",
   "execution_count": 36,
   "metadata": {},
   "outputs": [
    {
     "data": {
      "text/html": [
       "<div>\n",
       "<style scoped>\n",
       "    .dataframe tbody tr th:only-of-type {\n",
       "        vertical-align: middle;\n",
       "    }\n",
       "\n",
       "    .dataframe tbody tr th {\n",
       "        vertical-align: top;\n",
       "    }\n",
       "\n",
       "    .dataframe thead th {\n",
       "        text-align: right;\n",
       "    }\n",
       "</style>\n",
       "<table border=\"1\" class=\"dataframe\">\n",
       "  <thead>\n",
       "    <tr style=\"text-align: right;\">\n",
       "      <th></th>\n",
       "      <th>eid</th>\n",
       "      <th>doi</th>\n",
       "      <th>pii</th>\n",
       "      <th>pubmed_id</th>\n",
       "      <th>title</th>\n",
       "      <th>subtype</th>\n",
       "      <th>subtypeDescription</th>\n",
       "      <th>creator</th>\n",
       "      <th>afid</th>\n",
       "      <th>affilname</th>\n",
       "      <th>...</th>\n",
       "      <th>authkeywords</th>\n",
       "      <th>citedby_count</th>\n",
       "      <th>openaccess</th>\n",
       "      <th>freetoread</th>\n",
       "      <th>freetoreadLabel</th>\n",
       "      <th>fund_acr</th>\n",
       "      <th>fund_no</th>\n",
       "      <th>fund_sponsor</th>\n",
       "      <th>name_1st_author</th>\n",
       "      <th>publication_year</th>\n",
       "    </tr>\n",
       "  </thead>\n",
       "  <tbody>\n",
       "  </tbody>\n",
       "</table>\n",
       "<p>0 rows × 38 columns</p>\n",
       "</div>"
      ],
      "text/plain": [
       "Empty DataFrame\n",
       "Columns: [eid, doi, pii, pubmed_id, title, subtype, subtypeDescription, creator, afid, affilname, affiliation_city, affiliation_country, author_count, author_names, author_ids, author_afids, coverDate, coverDisplayDate, publicationName, issn, source_id, eIssn, aggregationType, volume, issueIdentifier, article_number, pageRange, description, authkeywords, citedby_count, openaccess, freetoread, freetoreadLabel, fund_acr, fund_no, fund_sponsor, name_1st_author, publication_year]\n",
       "Index: []\n",
       "\n",
       "[0 rows x 38 columns]"
      ]
     },
     "execution_count": 36,
     "metadata": {},
     "output_type": "execute_result"
    }
   ],
   "source": [
    "# Welche der beiden DOI-Varianten sind in Scopus zu finden?\n",
    "data_scopus_2010[\n",
    "    data_scopus_2010[\"doi\"] == \"10.1364/acp\"\n",
    "]  # weder noch in Scopus vorhanden"
   ]
  },
  {
   "cell_type": "code",
   "execution_count": 37,
   "metadata": {},
   "outputs": [
    {
     "name": "stdout",
     "output_type": "stream",
     "text": [
      "['https://openalex.org/W1578420299', 'https://openalex.org/W3142023407', 'https://openalex.org/W1483626592', 'https://openalex.org/W3042542394', 'https://openalex.org/W3150415440', 'https://openalex.org/W2295937238', 'https://openalex.org/W601724471', 'https://openalex.org/W2244171064', 'https://openalex.org/W2139056038', 'https://openalex.org/W3147880047', 'https://openalex.org/W2784558900', 'https://openalex.org/W3144557893', 'https://openalex.org/W179212451', 'https://openalex.org/W1605062476', 'https://openalex.org/W3151139258', 'https://openalex.org/W3143281919', 'https://openalex.org/W2347179810', 'https://openalex.org/W2969997526', 'https://openalex.org/W2093006866', 'https://openalex.org/W2134029727', 'https://openalex.org/W3006286394', 'https://openalex.org/W3181416261', 'https://openalex.org/W2752407893', 'https://openalex.org/W2994728064']\n",
      "['https://openalex.org/W3030573482', 'https://openalex.org/W3209633430', 'https://openalex.org/W4315751225', 'https://openalex.org/W3149142834', 'https://openalex.org/W3183449914', 'https://openalex.org/W3028785246', 'https://openalex.org/W3186343796', 'https://openalex.org/W3024105116', 'https://openalex.org/W3081891319', 'https://openalex.org/W3016998987', 'https://openalex.org/W3015749287', 'https://openalex.org/W3198572991']\n",
      "5001\n",
      "6282\n"
     ]
    }
   ],
   "source": [
    "# Dopplungen, wo nur ein Eintrag eine DOI besitzt -> dieser wurde behalten und der Eintrag ohne DOI entfernt (manuell)\n",
    "\n",
    "# Einträge ohne DOI, welche behalten werden -> alle sonstigen ohne DOI werden entfernt\n",
    "id_2010_to_keep_nodoi = [\n",
    "    \"https://openalex.org/W1838703554\",\n",
    "    \"https://openalex.org/W1531779540\",\n",
    "]\n",
    "# für 2020 werden alle Einträge ohne DOI entfernt, da hier immer ein weiterer Eintrag mit DOI vorhanden ist\n",
    "\n",
    "duplicates_nodoi_2010 = duplicates_title_data_openalex_2010[\n",
    "    duplicates_title_data_openalex_2010[\"doi\"].isnull()\n",
    "]\n",
    "duplicates_nodoi_2020 = duplicates_title_data_openalex_2020[\n",
    "    duplicates_title_data_openalex_2020[\"doi\"].isnull()\n",
    "]\n",
    "\n",
    "id_2010_to_be_removed = [\n",
    "    x for x in duplicates_nodoi_2010[\"id\"] if x not in id_2010_to_keep_nodoi\n",
    "]\n",
    "id_2020_to_be_removed = duplicates_nodoi_2020[\"id\"].to_list()\n",
    "\n",
    "print(id_2010_to_be_removed)\n",
    "print(id_2020_to_be_removed)\n",
    "\n",
    "data_openalex_2010 = data_openalex_2010.query(\"id not in @id_2010_to_be_removed\")\n",
    "data_openalex_2020 = data_openalex_2020.query(\"id not in @id_2020_to_be_removed\")\n",
    "\n",
    "# Finale Datensatzgröße\n",
    "print(data_openalex_2010.shape[0])\n",
    "print(data_openalex_2020.shape[0])"
   ]
  },
  {
   "cell_type": "code",
   "execution_count": 38,
   "metadata": {},
   "outputs": [
    {
     "name": "stdout",
     "output_type": "stream",
     "text": [
      "Für 2010-2013 wurden 44 Duplikate gefunden.\n",
      "Für 2020-2023 wurden 81 Duplikate gefunden.\n"
     ]
    }
   ],
   "source": [
    "# Prüfung anhand des Titels: Welche Dopplungen sind noch verblieben?\n",
    "duplicates_title_data_openalex_2010 = data_openalex_2010[\n",
    "    data_openalex_2010.duplicated(\n",
    "        subset=[\"title\", \"type\", \"publication_year\"], keep=False\n",
    "    )\n",
    "]\n",
    "duplicates_title_data_openalex_2020 = data_openalex_2020[\n",
    "    data_openalex_2020.duplicated(\n",
    "        subset=[\"title\", \"type\", \"publication_year\"], keep=False\n",
    "    )\n",
    "]\n",
    "\n",
    "print(\n",
    "    f\"Für 2010-2013 wurden {duplicates_title_data_openalex_2010.shape[0]} Duplikate gefunden.\"\n",
    ")\n",
    "print(\n",
    "    f\"Für 2020-2023 wurden {duplicates_title_data_openalex_2020.shape[0]} Duplikate gefunden.\"\n",
    ")\n",
    "\n",
    "# Duplikate abspeichern (zur manuellen Sichtung)\n",
    "# duplicates_title_data_openalex_2010.sort_values(\"title\", inplace=True)\n",
    "# duplicates_title_data_openalex_2020.sort_values(\"title\", inplace=True)\n",
    "# duplicates_title_data_openalex_2010.to_csv(\n",
    "#     \"../data/processed/duplicates_title2_data_openalex_2010.csv\"\n",
    "# )\n",
    "# duplicates_title_data_openalex_2020.to_csv(\n",
    "#     \"../data/processed/duplicates_title2_data_openalex_2020.csv\"\n",
    "# )"
   ]
  },
  {
   "cell_type": "markdown",
   "metadata": {},
   "source": [
    "Die verbleibenden Dopplungen werden beibehalten. \n",
    "Alle Publikationen haben eine DOI."
   ]
  },
  {
   "cell_type": "code",
   "execution_count": 39,
   "metadata": {},
   "outputs": [
    {
     "name": "stdout",
     "output_type": "stream",
     "text": [
      "Finaler Datensatz für OpenAlex in 2010 - 2013: 5001 Einträge davon 626 (12.52 %) ohne DOI.\n",
      "Finaler Datensatz für OpenAlex in 2020 - 2023: 6282 Einträge davon 164 (2.61 %) ohne DOI.\n"
     ]
    }
   ],
   "source": [
    "nodoi_2010 = data_openalex_2010[data_openalex_2010[\"doi\"].isnull()]\n",
    "nodoi_2020 = data_openalex_2020[data_openalex_2020[\"doi\"].isnull()]\n",
    "\n",
    "print(\n",
    "    f\"Finaler Datensatz für OpenAlex in 2010 - 2013: {data_openalex_2010.shape[0]} Einträge davon {nodoi_2010.shape[0]} ({nodoi_2010.shape[0]/data_openalex_2010.shape[0]*100:.2f} %) ohne DOI.\"\n",
    ")\n",
    "print(\n",
    "    f\"Finaler Datensatz für OpenAlex in 2020 - 2023: {data_openalex_2020.shape[0]} Einträge davon {nodoi_2020.shape[0]} ({nodoi_2020.shape[0]/data_openalex_2020.shape[0]*100:.2f} %) ohne DOI.\"\n",
    ")"
   ]
  },
  {
   "cell_type": "markdown",
   "metadata": {},
   "source": [
    "### Titelbereinigung<a class=\"anchor\" id=\"data_openalex_bereinigung\"></a>\n",
    "\n",
    "Für die Einträge ohne DOI wird vorallem der Titel genutzt. Hier kann es durch Formelzeichen zu uneinheitlichen Schreibweisen kommen, was das Matching erschwert.\n",
    "Hier findet sich u.a. html-Notation wie: hfo<inf>2</inf>. "
   ]
  },
  {
   "cell_type": "code",
   "execution_count": 40,
   "metadata": {},
   "outputs": [
    {
     "name": "stdout",
     "output_type": "stream",
     "text": [
      "5144    high-performance enhancement-mode in<inf>0.53</inf>ga<inf>0.47</inf>as surface channels n-mosfet with thin in<inf>0.2</inf>ga<inf>0.8</inf>as capping and laser anneal effect\n",
      "5169                                                                                                                  band alignment of high-k dielectric on sio<inf>2</inf>/si stack\n",
      "Name: title, dtype: object\n",
      "Series([], Name: title, dtype: object)\n"
     ]
    }
   ],
   "source": [
    "title_to_fix_2010 = data_openalex_2010[\n",
    "    data_openalex_2010[\"title\"].str.contains(\"<inf>\")\n",
    "]\n",
    "title_to_fix_2020 = data_openalex_2020[\n",
    "    data_openalex_2020[\"title\"].str.contains(\"<inf>\")\n",
    "]\n",
    "\n",
    "pd.options.display.max_colwidth = 200\n",
    "print(title_to_fix_2010[\"title\"])\n",
    "print(title_to_fix_2020[\"title\"])"
   ]
  },
  {
   "cell_type": "code",
   "execution_count": 41,
   "metadata": {},
   "outputs": [],
   "source": [
    "title_to_fix_2010 = data_openalex_2010[data_openalex_2010[\"title\"].str.contains(\"xml\")]\n",
    "title_to_fix_2020 = data_openalex_2020[data_openalex_2020[\"title\"].str.contains(\"xml\")]"
   ]
  },
  {
   "cell_type": "code",
   "execution_count": 42,
   "metadata": {},
   "outputs": [],
   "source": [
    "data_openalex_2010[\"title\"] = data_openalex_2010[\"title\"].apply(cleanhtml)\n",
    "data_openalex_2020[\"title\"] = data_openalex_2020[\"title\"].apply(cleanhtml)"
   ]
  },
  {
   "cell_type": "code",
   "execution_count": 43,
   "metadata": {},
   "outputs": [
    {
     "name": "stdout",
     "output_type": "stream",
     "text": [
      "                                    id                         doi  \\\n",
      "3858  https://openalex.org/W2325674568  10.1103/physrevb.87.035418   \n",
      "\n",
      "                                                                                                                         title  \\\n",
      "3858  structural phase transition and spontaneous interface reconstruction in la2/3ca1/3mno<mml:math xmlns:mml=\"http://www.w3…   \n",
      "\n",
      "         type publication_date  publication_year volume issue first_page  \\\n",
      "3858  article       2013-01-22              2013     87     3        NaN   \n",
      "\n",
      "     last_page  \\\n",
      "3858       NaN   \n",
      "\n",
      "                                                                                        authors  \\\n",
      "3858  Stuart Turner, Oleg I. Lebedev, Johan Verbeeck, Kai Gehrke, V. Moshnyaga, G. Van Tendeloo   \n",
      "\n",
      "     keywords  \\\n",
      "3858      NaN   \n",
      "\n",
      "                                                                                                                                                                                                     abstract  \\\n",
      "3858  (La${}_{2/3}$Ca${}_{1/3}$MnO${}_{3}$)${}_{n}$/(BaTiO${}_{3}$)${}_{m}$ (LCMO${}_{n}$/BTO${}_{m}$) superlattices on MgO and SrTiO${}_{3}$ substrates with different layer thicknesses ($n$ $=$ 10, 38,...   \n",
      "\n",
      "           source_title                              source_issn source_type  \\\n",
      "3858  physical review b  ['1098-0121', '1538-4489', '1550-235X']     journal   \n",
      "\n",
      "      cited_by_count  \\\n",
      "3858              14   \n",
      "\n",
      "                                                                                                                                                                                             referenced_works  \n",
      "3858  ['https://openalex.org/W1506580641', 'https://openalex.org/W1575492558', 'https://openalex.org/W1587101927', 'https://openalex.org/W1591044264', 'https://openalex.org/W1606406114', 'https://openal...  \n",
      "Empty DataFrame\n",
      "Columns: [id, doi, title, type, publication_date, publication_year, volume, issue, first_page, last_page, authors, keywords, abstract, source_title, source_issn, source_type, cited_by_count, referenced_works]\n",
      "Index: []\n"
     ]
    }
   ],
   "source": [
    "print(data_openalex_2010[data_openalex_2010[\"title\"].str.contains(\"xml\")])\n",
    "print(data_openalex_2020[data_openalex_2020[\"title\"].str.contains(\"xml\")])"
   ]
  },
  {
   "cell_type": "code",
   "execution_count": 44,
   "metadata": {},
   "outputs": [
    {
     "data": {
      "text/plain": [
       "id                                                                                                                                                                                         https://openalex.org/W2320409272\n",
       "doi                                                                                                                                                                                                   10.1166/jnn.2011.5102\n",
       "title                                                                                                                        growth of tio&lt;sub&gt;2&lt;/sub&gt; with thermal and plasma enhanced atomic layer deposition\n",
       "type                                                                                                                                                                                                                article\n",
       "publication_date                                                                                                                                                                                                 2011-09-01\n",
       "publication_year                                                                                                                                                                                                       2011\n",
       "volume                                                                                                                                                                                                                   11\n",
       "issue                                                                                                                                                                                                                     9\n",
       "first_page                                                                                                                                                                                                             8049\n",
       "last_page                                                                                                                                                                                                              8053\n",
       "authors                                                                                                                            Massimo Tallarida, Daniel Friedrich, Matthias Städter, Marcel Michling, Dieter Schmeißer\n",
       "keywords                                                                                                                                                                              X-ray absorption spectroscopy, Rutile\n",
       "abstract            We show a comparative study of the TiO2 ALD with TTIP and either O2 or O2-plasma on Si/SiO2 substrates. In particular we compare the surface morphology and crystalline phase by means of Atomic For...\n",
       "source_title                                                                                                                                                                      journal of nanoscience and nanotechnology\n",
       "source_issn                                                                                                                                                                                      ['1533-4880', '1533-4899']\n",
       "source_type                                                                                                                                                                                                         journal\n",
       "cited_by_count                                                                                                                                                                                                           14\n",
       "referenced_works                                                                                                                                                                                                         []\n",
       "Name: 1180, dtype: object"
      ]
     },
     "execution_count": 44,
     "metadata": {},
     "output_type": "execute_result"
    }
   ],
   "source": [
    "data_openalex_2010[data_openalex_2010[\"title\"].str.contains(\"&lt;\")].iloc[0]"
   ]
  },
  {
   "cell_type": "code",
   "execution_count": 45,
   "metadata": {},
   "outputs": [],
   "source": [
    "# remove other html stuff\n",
    "# 2010\n",
    "data_openalex_2010[\"title\"] = data_openalex_2010[\"title\"].str.replace(\n",
    "    \"&lt;sub&gt;\", \" \"\n",
    ")\n",
    "data_openalex_2010[\"title\"] = data_openalex_2010[\"title\"].str.replace(\n",
    "    \"&lt;/sub&gt;\", \" \"\n",
    ")\n",
    "data_openalex_2010[\"title\"] = data_openalex_2010[\"title\"].str.replace(\n",
    "    \"&lt;inf&gt;\", \" \"\n",
    ")\n",
    "data_openalex_2010[\"title\"] = data_openalex_2010[\"title\"].str.replace(\n",
    "    \"&lt;/inf&gt;\", \" \"\n",
    ")\n",
    "\n",
    "# 2020\n",
    "data_openalex_2020[\"title\"] = data_openalex_2020[\"title\"].str.replace(\n",
    "    \"&lt;sub&gt;\", \" \"\n",
    ")\n",
    "data_openalex_2020[\"title\"] = data_openalex_2020[\"title\"].str.replace(\n",
    "    \"&lt;/sub&gt;\", \" \"\n",
    ")\n",
    "data_openalex_2020[\"title\"] = data_openalex_2020[\"title\"].str.replace(\n",
    "    \"&lt;inf&gt;\", \" \"\n",
    ")\n",
    "data_openalex_2020[\"title\"] = data_openalex_2020[\"title\"].str.replace(\n",
    "    \"&lt;/inf&gt;\", \" \"\n",
    ")"
   ]
  },
  {
   "cell_type": "code",
   "execution_count": 46,
   "metadata": {},
   "outputs": [],
   "source": [
    "data_openalex_2010[\"name_1st_author\"] = (\n",
    "    data_openalex_2010[\"authors\"].str.split(\",\").str[0].str.split(\" \").str[-1]\n",
    ")\n",
    "data_openalex_2020[\"name_1st_author\"] = (\n",
    "    data_openalex_2020[\"authors\"].str.split(\",\").str[0].str.split(\" \").str[-1]\n",
    ")"
   ]
  },
  {
   "cell_type": "code",
   "execution_count": 47,
   "metadata": {},
   "outputs": [],
   "source": [
    "# Speichern der bereinigten Datensätze\n",
    "\n",
    "## Scopus\n",
    "if publication:\n",
    "    # Daten für Veröffentlichung nur mit eid\n",
    "    data_scopus_2010[\"eid\"].to_csv(\n",
    "        \"data/processed/data_scopus_2010_cleaned_pub.csv\", index=False\n",
    "    )\n",
    "    data_scopus_2020[\"eid\"].to_csv(\n",
    "        \"data/processed/data_scopus_2020_cleaned_pub.csv\", index=False\n",
    "    )\n",
    "else:\n",
    "    data_scopus_2010.to_csv(\n",
    "        \"data/processed/data_scopus_2010_cleaned.csv\", index=False\n",
    "    )\n",
    "    data_scopus_2020.to_csv(\n",
    "        \"data/processed/data_scopus_2020_cleaned.csv\", index=False\n",
    "    )\n",
    "\n",
    "## OpenAlex\n",
    "data_openalex_2010.to_csv(\n",
    "    \"data/processed/data_openalex_2010_cleaned.csv\", index=False\n",
    ")\n",
    "data_openalex_2020.to_csv(\n",
    "    \"data/processed/data_openalex_2020_cleaned.csv\", index=False\n",
    ")"
   ]
  }
 ],
 "metadata": {
  "kernelspec": {
   "display_name": "Python 3 (ipykernel)",
   "language": "python",
   "name": "python3"
  },
  "language_info": {
   "codemirror_mode": {
    "name": "ipython",
    "version": 3
   },
   "file_extension": ".py",
   "mimetype": "text/x-python",
   "name": "python",
   "nbconvert_exporter": "python",
   "pygments_lexer": "ipython3",
   "version": "3.11.2"
  }
 },
 "nbformat": 4,
 "nbformat_minor": 2
}
