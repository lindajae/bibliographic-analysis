{
 "cells": [
  {
   "cell_type": "markdown",
   "metadata": {},
   "source": [
    "# Datenabfrage von Scopus\n",
    "\n",
    "Die Python-Bibliothek [pybliometrics](https://pybliometrics.readthedocs.io/en/stable/index.html) wird genutzt."
   ]
  },
  {
   "cell_type": "code",
   "execution_count": 118,
   "metadata": {},
   "outputs": [],
   "source": [
    "import pybliometrics\n",
    "import pandas as pd\n",
    "from datetime import datetime\n",
    "\n",
    "import squarify\n",
    "import matplotlib.pyplot as plt\n",
    "\n",
    "from pybliometrics.scopus import ScopusSearch\n",
    "\n",
    "pybliometrics.scopus.init()  # read API keys\n",
    "\n",
    "import squarify\n",
    "import matplotlib.pyplot as plt"
   ]
  },
  {
   "cell_type": "code",
   "execution_count": 119,
   "metadata": {},
   "outputs": [],
   "source": [
    "import jupyter_black\n",
    "\n",
    "jupyter_black.load()"
   ]
  },
  {
   "cell_type": "code",
   "execution_count": 120,
   "metadata": {},
   "outputs": [
    {
     "name": "stdout",
     "output_type": "stream",
     "text": [
      "The watermark extension is already loaded. To reload it, use:\n",
      "  %reload_ext watermark\n",
      "Python implementation: CPython\n",
      "Python version       : 3.11.2\n",
      "IPython version      : 8.5.0\n",
      "\n",
      "jupyter_black: 0.4.0\n",
      "pandas       : 1.5.3\n",
      "squarify     : 0.4.4\n",
      "matplotlib   : 3.6.3\n",
      "pybliometrics: 4.1\n",
      "\n"
     ]
    }
   ],
   "source": [
    "%load_ext watermark\n",
    "%watermark -v --iversions"
   ]
  },
  {
   "cell_type": "markdown",
   "metadata": {},
   "source": [
    "## Datenabfrage für ALD\n",
    "\n",
    "Zu erst werden die Daten für ALD anhand des Begriffes ALD abgefragt. Es soll untersucht werden, ob sich Kernjournale definieren lassen, welche für die Untersuchung zur Informationsabdeckung genutzt werden können.\n"
   ]
  },
  {
   "cell_type": "code",
   "execution_count": null,
   "metadata": {},
   "outputs": [],
   "source": [
    "# Datenabfrage für ALD (ca. 15 Min.)\n",
    "query_ALD = 'TITLE-ABS-Key(\"atomic layer deposition\")'\n",
    "search_ALD = ScopusSearch(query_ALD, verbose=True, download=True)\n",
    "\n",
    "#print(search_ALD.get_results_size())\n",
    "#print(search_ALD.results[0])"
   ]
  },
  {
   "cell_type": "code",
   "execution_count": 107,
   "metadata": {},
   "outputs": [],
   "source": [
    "# Daten in DataFrame umwandeln für weitere Datenanalyse\n",
    "search_ALD_df = pd.DataFrame([doc._asdict() for doc in search_ALD.results])\n",
    "# Betrachtung der Journaltitel für Journalartikel\n",
    "search_ALD_df = search_ALD_df[search_ALD_df[\"subtypeDescription\"] == \"Article\"]\n",
    "journal_counts = search_ALD_df[\"publicationName\"].value_counts()\n",
    "# journal_counts = journal_counts[journal_counts.values > journal_counts.median()]\n",
    "# journal_counts.mean()"
   ]
  },
  {
   "cell_type": "code",
   "execution_count": 128,
   "metadata": {},
   "outputs": [
    {
     "data": {
      "text/plain": [
       "1184"
      ]
     },
     "execution_count": 128,
     "metadata": {},
     "output_type": "execute_result"
    }
   ],
   "source": [
    "journal_counts.shape[0]"
   ]
  },
  {
   "cell_type": "code",
   "execution_count": 108,
   "metadata": {},
   "outputs": [
    {
     "data": {
      "text/plain": [
       "Journal of Vacuum Science and Technology A Vacuum Surfaces and Films    927\n",
       "Applied Physics Letters                                                 882\n",
       "ACS Applied Materials and Interfaces                                    820\n",
       "Applied Surface Science                                                 625\n",
       "Chemistry of Materials                                                  524\n",
       "Thin Solid Films                                                        453\n",
       "Journal of Physical Chemistry C                                         444\n",
       "Journal of Applied Physics                                              426\n",
       "Nanotechnology                                                          353\n",
       "Journal of the Electrochemical Society                                  352\n",
       "IEEE Electron Device Letters                                            287\n",
       "IEEE Transactions on Electron Devices                                   266\n",
       "Rsc Advances                                                            194\n",
       "Journal of Materials Chemistry C                                        186\n",
       "Journal of Materials Chemistry A                                        184\n",
       "Advanced Materials Interfaces                                           181\n",
       "Nanoscale                                                               179\n",
       "Journal of Alloys and Compounds                                         179\n",
       "Microelectronic Engineering                                             175\n",
       "Nano Letters                                                            167\n",
       "Ceramics International                                                  164\n",
       "Electrochemical and Solid State Letters                                 159\n",
       "Japanese Journal of Applied Physics                                     159\n",
       "ACS Nano                                                                156\n",
       "Ecs Journal of Solid State Science and Technology                       151\n",
       "Name: publicationName, dtype: int64"
      ]
     },
     "execution_count": 108,
     "metadata": {},
     "output_type": "execute_result"
    }
   ],
   "source": [
    "journal_counts.head(25)"
   ]
  },
  {
   "cell_type": "code",
   "execution_count": 114,
   "metadata": {},
   "outputs": [
    {
     "name": "stdout",
     "output_type": "stream",
     "text": [
      "Diese 25 Journale beinhalten 43.76 % aller gefundenen Journalartikel.\n"
     ]
    }
   ],
   "source": [
    "print(\n",
    "    f\"Diese 25 Journale beinhalten {sum(journal_counts.head(25).values) / sum(journal_counts.values) * 100:.2f} % aller gefundenen Journalartikel.\"\n",
    ")"
   ]
  },
  {
   "cell_type": "code",
   "execution_count": 131,
   "metadata": {},
   "outputs": [
    {
     "data": {
      "image/png": "[encoded data removed]",
      "text/plain": [
       "<Figure size 640x480 with 1 Axes>"
      ]
     },
     "metadata": {},
     "output_type": "display_data"
    }
   ],
   "source": [
    "# Plot treemap\n",
    "norms = squarify.normalize_sizes(journal_counts.values.tolist(), dx=3, dy=3)\n",
    "squarify.plot(sizes=norms, alpha=1, pad=False)\n",
    "plt.axis(\"off\")\n",
    "\n",
    "plt.savefig(\n",
    "    \"figures/plot_treemap_journale_ALD_scopus.png\", bbox_inches=\"tight\", dpi=300\n",
    ")\n",
    "plt.show()"
   ]
  },
  {
   "cell_type": "markdown",
   "metadata": {},
   "source": [
    "Es zeigt sich, dass es keine definierten Kernjournale gibt. Dies ist für das interdisziplinäre Forschungsfeld der ALD nicht überraschend.\n",
    "\n",
    "Für die Bewertung der Informationsabdeckung wird daher ein dokumentenbasierter Ansatz gewählt. Zur Suche werden keywords verwendet.\n",
    "\n",
    "Für die Datenabfrage für ALD wird iterativ vorgegangen. Zuerst wird nur nach dem Begriff \"atomic layer deposition\" gesucht. Anhand dieser Daten kann nun eine Optimierung der genutzen Keywords für die Suche vorgenommen werden."
   ]
  },
  {
   "cell_type": "code",
   "execution_count": null,
   "metadata": {},
   "outputs": [],
   "source": [
    "# Datenabfrage für ALD, Zeitscheibe 2020 - 2023\n",
    "query = 'TITLE-ABS-Key(\"atomic layer deposition\") AND PUBYEAR > 2019 AND PUBYEAR < 2024'\n",
    "search = ScopusSearch(query, verbose=True, download=True)\n",
    "\n",
    "print(search.get_results_size())\n",
    "print(search.results[0])\n"
   ]
  },
  {
   "cell_type": "code",
   "execution_count": null,
   "metadata": {},
   "outputs": [],
   "source": [
    "# Daten in DataFrame umwandeln für weitere Datenanalyse\n",
    "search_df = pd.DataFrame([doc._asdict() for doc in search.results])\n",
    "print(search_df.head())\n"
   ]
  },
  {
   "cell_type": "code",
   "execution_count": 25,
   "metadata": {},
   "outputs": [
    {
     "data": {
      "text/plain": [
       "Index(['eid', 'doi', 'pii', 'pubmed_id', 'title', 'subtype',\n",
       "       'subtypeDescription', 'creator', 'afid', 'affilname',\n",
       "       'affiliation_city', 'affiliation_country', 'author_count',\n",
       "       'author_names', 'author_ids', 'author_afids', 'coverDate',\n",
       "       'coverDisplayDate', 'publicationName', 'issn', 'source_id', 'eIssn',\n",
       "       'aggregationType', 'volume', 'issueIdentifier', 'article_number',\n",
       "       'pageRange', 'description', 'authkeywords', 'citedby_count',\n",
       "       'openaccess', 'freetoread', 'freetoreadLabel', 'fund_acr', 'fund_no',\n",
       "       'fund_sponsor'],\n",
       "      dtype='object')"
      ]
     },
     "execution_count": 25,
     "metadata": {},
     "output_type": "execute_result"
    }
   ],
   "source": [
    "search_df.columns"
   ]
  },
  {
   "cell_type": "markdown",
   "metadata": {},
   "source": [
    "### Publikationsarten\n"
   ]
  },
  {
   "cell_type": "code",
   "execution_count": 26,
   "metadata": {},
   "outputs": [
    {
     "data": {
      "text/plain": [
       "Article              5442\n",
       "Conference Paper      584\n",
       "Review                286\n",
       "Book Chapter           85\n",
       "Erratum                25\n",
       "Conference Review      18\n",
       "Book                    7\n",
       "Note                    5\n",
       "Editorial               4\n",
       "Letter                  4\n",
       "Short Survey            3\n",
       "Retracted               1\n",
       "Data Paper              1\n",
       "Name: subtypeDescription, dtype: int64"
      ]
     },
     "execution_count": 26,
     "metadata": {},
     "output_type": "execute_result"
    }
   ],
   "source": [
    "# Publikationsarten\n",
    "search_df[\"subtypeDescription\"].value_counts()"
   ]
  },
  {
   "cell_type": "code",
   "execution_count": null,
   "metadata": {},
   "outputs": [],
   "source": [
    "# conference paper\n",
    "search_df_conf_pap = search_df[search_df[\"subtypeDescription\"] == \"Conference Paper\"]\n",
    "search_df_conf_pap[['eid', 'doi','title', 'subtype','creator', 'author_names', 'coverDate', 'publicationName', 'article_number']]"
   ]
  },
  {
   "cell_type": "code",
   "execution_count": null,
   "metadata": {},
   "outputs": [],
   "source": [
    "# conference review\n",
    "search_df_conf_rev = search_df[search_df[\"subtypeDescription\"] == \"Conference Review\"]\n",
    "search_df_conf_rev[['eid', 'title', 'subtype', 'subtypeDescription','coverDate', 'publicationName', 'article_number']]"
   ]
  },
  {
   "cell_type": "code",
   "execution_count": null,
   "metadata": {},
   "outputs": [],
   "source": [
    "# book chapter\n",
    "search_df_book_chapter = search_df[search_df[\"subtypeDescription\"] == \"Book Chapter\"]\n",
    "search_df_book_chapter[['eid', 'doi','title', 'subtype','creator', 'author_names', 'coverDate', 'publicationName', 'article_number']]"
   ]
  },
  {
   "cell_type": "code",
   "execution_count": null,
   "metadata": {},
   "outputs": [],
   "source": [
    "# Erratum\n",
    "search_df[search_df[\"subtypeDescription\"] == \"Erratum\"]"
   ]
  },
  {
   "cell_type": "code",
   "execution_count": 32,
   "metadata": {},
   "outputs": [
    {
     "data": {
      "text/plain": [
       "(5754, 36)"
      ]
     },
     "execution_count": 32,
     "metadata": {},
     "output_type": "execute_result"
    }
   ],
   "source": [
    "# Eingrenzung auf Article (ar) und Review (re), wo ein peer review process anzunehmen ist\n",
    "# zusätzlich werden Erratum (er) und Retracted (tb) berücksichtigt\n",
    "search_df_reduced = search_df[search_df[\"subtype\"].isin(['ar','re','er','tb'])]\n",
    "search_df_reduced.shape"
   ]
  },
  {
   "cell_type": "code",
   "execution_count": 33,
   "metadata": {},
   "outputs": [
    {
     "data": {
      "text/plain": [
       "(14, 36)"
      ]
     },
     "execution_count": 33,
     "metadata": {},
     "output_type": "execute_result"
    }
   ],
   "source": [
    "# No DOI\n",
    "search_df_reduced_nodoi = search_df_reduced[search_df_reduced[\"doi\"].isnull()]\n",
    "search_df_reduced_nodoi.shape\n"
   ]
  },
  {
   "cell_type": "code",
   "execution_count": 34,
   "metadata": {},
   "outputs": [
    {
     "data": {
      "text/plain": [
       "Article    14\n",
       "Name: subtypeDescription, dtype: int64"
      ]
     },
     "execution_count": 34,
     "metadata": {},
     "output_type": "execute_result"
    }
   ],
   "source": [
    "# search_df_reduced[\"doi\"].str.startswith(\"1\").value_counts() # 5740 von 5754\n",
    "\n",
    "search_df_reduced_nodoi[\"subtypeDescription\"].value_counts()"
   ]
  },
  {
   "cell_type": "code",
   "execution_count": 35,
   "metadata": {},
   "outputs": [
    {
     "data": {
      "text/plain": [
       "(2, 36)"
      ]
     },
     "execution_count": 35,
     "metadata": {},
     "output_type": "execute_result"
    }
   ],
   "source": [
    "# No Abstract\n",
    "search_df_reduced[search_df_reduced[\"description\"].isnull()].shape\n"
   ]
  },
  {
   "cell_type": "code",
   "execution_count": 36,
   "metadata": {},
   "outputs": [
    {
     "data": {
      "text/html": [
       "<div>\n",
       "<style scoped>\n",
       "    .dataframe tbody tr th:only-of-type {\n",
       "        vertical-align: middle;\n",
       "    }\n",
       "\n",
       "    .dataframe tbody tr th {\n",
       "        vertical-align: top;\n",
       "    }\n",
       "\n",
       "    .dataframe thead th {\n",
       "        text-align: right;\n",
       "    }\n",
       "</style>\n",
       "<table border=\"1\" class=\"dataframe\">\n",
       "  <thead>\n",
       "    <tr style=\"text-align: right;\">\n",
       "      <th></th>\n",
       "      <th>eid</th>\n",
       "      <th>doi</th>\n",
       "      <th>pii</th>\n",
       "      <th>pubmed_id</th>\n",
       "      <th>title</th>\n",
       "      <th>subtype</th>\n",
       "      <th>subtypeDescription</th>\n",
       "      <th>creator</th>\n",
       "      <th>afid</th>\n",
       "      <th>affilname</th>\n",
       "      <th>...</th>\n",
       "      <th>pageRange</th>\n",
       "      <th>description</th>\n",
       "      <th>authkeywords</th>\n",
       "      <th>citedby_count</th>\n",
       "      <th>openaccess</th>\n",
       "      <th>freetoread</th>\n",
       "      <th>freetoreadLabel</th>\n",
       "      <th>fund_acr</th>\n",
       "      <th>fund_no</th>\n",
       "      <th>fund_sponsor</th>\n",
       "    </tr>\n",
       "  </thead>\n",
       "  <tbody>\n",
       "  </tbody>\n",
       "</table>\n",
       "<p>0 rows × 36 columns</p>\n",
       "</div>"
      ],
      "text/plain": [
       "Empty DataFrame\n",
       "Columns: [eid, doi, pii, pubmed_id, title, subtype, subtypeDescription, creator, afid, affilname, affiliation_city, affiliation_country, author_count, author_names, author_ids, author_afids, coverDate, coverDisplayDate, publicationName, issn, source_id, eIssn, aggregationType, volume, issueIdentifier, article_number, pageRange, description, authkeywords, citedby_count, openaccess, freetoread, freetoreadLabel, fund_acr, fund_no, fund_sponsor]\n",
       "Index: []\n",
       "\n",
       "[0 rows x 36 columns]"
      ]
     },
     "execution_count": 36,
     "metadata": {},
     "output_type": "execute_result"
    }
   ],
   "source": [
    "# No abtract AND no keywords\n",
    "search_df_reduced[search_df_reduced[\"description\"].isnull() & search_df_reduced[\"authkeywords\"].isnull()]"
   ]
  },
  {
   "cell_type": "code",
   "execution_count": 37,
   "metadata": {},
   "outputs": [
    {
     "data": {
      "text/plain": [
       "(1746, 36)"
      ]
     },
     "execution_count": 37,
     "metadata": {},
     "output_type": "execute_result"
    }
   ],
   "source": [
    "# no keywords\n",
    "search_df_reduced[search_df_reduced[\"authkeywords\"].isnull()].shape"
   ]
  },
  {
   "cell_type": "markdown",
   "metadata": {},
   "source": [
    "### Analyse Keywords\n",
    "\n",
    "Mithilfe der Keywords wird geschaut, welche der Keywords zur Optimierung des Suchstrings genutzt werden können.\n",
    "Scopus nutzt die von AutorInnen vergebenen Keywords als `authkeywords`."
   ]
  },
  {
   "cell_type": "code",
   "execution_count": null,
   "metadata": {},
   "outputs": [],
   "source": [
    "keywords = search_df_reduced[\"authkeywords\"]\n",
    "print(keywords)\n",
    "print(keywords.isnull().value_counts())"
   ]
  },
  {
   "cell_type": "code",
   "execution_count": null,
   "metadata": {},
   "outputs": [],
   "source": [
    "# multiple keywords are separate via | \n",
    "# https://pandas.pydata.org/pandas-docs/stable/whatsnew/v0.25.0.html#series-explode-to-split-list-like-values-to-rows\n",
    "\n",
    "keywords_split = keywords.str.split(pat='|').explode(\"authkeywords\")\n",
    "keywords_splitted = keywords_split.str.split(pat='(').explode(\"authkeywords\")\n",
    "# remove spaces\n",
    "keywords_splitted = keywords_splitted.str.strip()\n",
    "\n",
    "# remove trailing )\n",
    "for row, keyword in enumerate(keywords_splitted):\n",
    "    if keyword: # could be none\n",
    "        if keyword.endswith(\")\"):\n",
    "            keywords_splitted[row] = keyword[:-1]\n",
    "            \n",
    "# transform to lower case\n",
    "keywords_splitted = keywords_splitted.str.lower()\n",
    "print(keywords_splitted)\n"
   ]
  },
  {
   "cell_type": "code",
   "execution_count": null,
   "metadata": {},
   "outputs": [],
   "source": [
    "# count occurence of keywords and sort by occurence\n",
    "print(len(keywords_splitted.value_counts(sort=True)))\n",
    "keywords_splitted.value_counts(sort=True).head(25)"
   ]
  },
  {
   "cell_type": "code",
   "execution_count": 41,
   "metadata": {},
   "outputs": [
    {
     "data": {
      "text/plain": [
       "6467"
      ]
     },
     "execution_count": 41,
     "metadata": {},
     "output_type": "execute_result"
    }
   ],
   "source": [
    "# query = 'TITLE-ABS-Key(\"atomic layer deposition\") AND PUBYEAR > 2019 AND PUBYEAR < 2025'\n",
    "query2 = 'TITLE-ABS-Key(\"atomic layer deposition\" OR \"Atomic layer deposition\") AND PUBYEAR > 2019 AND PUBYEAR < 2024'\n",
    "search2 = ScopusSearch(query2, verbose=True, download=False)\n",
    "\n",
    "search2.get_results_size()"
   ]
  },
  {
   "cell_type": "markdown",
   "metadata": {},
   "source": [
    "Groß- und Kleinschreibung hat keinen Einfluss."
   ]
  },
  {
   "cell_type": "code",
   "execution_count": 42,
   "metadata": {},
   "outputs": [
    {
     "name": "stdout",
     "output_type": "stream",
     "text": [
      "2237\n"
     ]
    }
   ],
   "source": [
    "query4 = 'TITLE-ABS-Key(\"atomic layer deposition\" AND \"thin film*\") AND PUBYEAR > 2019 AND PUBYEAR < 2024'\n",
    "search4 = ScopusSearch(query4, verbose=True, download=False)\n",
    "\n",
    "print(search4.get_results_size())"
   ]
  },
  {
   "cell_type": "markdown",
   "metadata": {},
   "source": [
    "Die mit ALD erzeugten dünnen Schichten werden häufig durch das Keyword \"thin films\" oder \"thin film\" beschrieben. Eine Eingrenzung der Suche auf \"thin film*\" liefert jedoch deutlich weniger Suchergebnisse. Stattdessen können diese beiden Suchansätzen mittels OR verknüpft werden."
   ]
  },
  {
   "cell_type": "code",
   "execution_count": 43,
   "metadata": {},
   "outputs": [
    {
     "name": "stdout",
     "output_type": "stream",
     "text": [
      "6506\n"
     ]
    }
   ],
   "source": [
    "query5 = 'TITLE-ABS-Key(\"atomic layer deposition\" OR (\"ALD\" AND \"thin film*\")) AND PUBYEAR > 2019 AND PUBYEAR < 2024'\n",
    "search5 = ScopusSearch(query5, verbose=True, download=False)\n",
    "\n",
    "print(search5.get_results_size())"
   ]
  },
  {
   "cell_type": "code",
   "execution_count": null,
   "metadata": {},
   "outputs": [],
   "source": [
    "query6 = 'TITLE-ABS-KEY ( ( \"ALD\" AND \"thin film*\" ) AND NOT \"atomic layer deposition\") AND PUBYEAR > 2019 AND PUBYEAR < 2024'\n",
    "search6 = ScopusSearch(query6, verbose=True, download=True)\n",
    "\n",
    "print(search6.get_results_size())\n",
    "search_diff = pd.DataFrame([doc._asdict() for doc in search6.results])\n",
    "\n",
    "# only consider articles and reviews\n",
    "search_diff_reduced = search_diff[search_diff[\"subtype\"].isin(['ar','re','er','tb'])]\n",
    "\n",
    "df = search_diff_reduced[[\"title\"]]\n",
    "pd.options.display.max_colwidth = 200\n",
    "print(df)"
   ]
  },
  {
   "cell_type": "markdown",
   "metadata": {},
   "source": [
    "Ein Ergebnis beschäftigt sich, laut Titel, mit Ratten. Das ist für ALD eher ungewöhnlich. Eine genaue Analyse der Quelle zeigt, das ALD auch für \"alcohol-related liver disease\" stehen kann. Dies ist in der Suche auszuschließen."
   ]
  },
  {
   "cell_type": "code",
   "execution_count": 45,
   "metadata": {},
   "outputs": [
    {
     "name": "stdout",
     "output_type": "stream",
     "text": [
      "6505\n"
     ]
    }
   ],
   "source": [
    "query7 = 'TITLE-ABS-Key(\"atomic layer deposition\" OR (\"ALD\" AND \"thin film*\" AND NOT (\"alcohol-related liver disease\"))) AND PUBYEAR > 2019 AND PUBYEAR < 2024'\n",
    "search7 = ScopusSearch(query7, verbose=True, download=False)\n",
    "\n",
    "print(search7.get_results_size())"
   ]
  },
  {
   "cell_type": "code",
   "execution_count": 47,
   "metadata": {},
   "outputs": [
    {
     "data": {
      "text/plain": [
       "8030"
      ]
     },
     "execution_count": 47,
     "metadata": {},
     "output_type": "execute_result"
    }
   ],
   "source": [
    "# Einträe de auch in en enthalten? -> ja\n",
    "query_en_de = 'TITLE-ABS-Key(\"atomic layer deposition\" OR \"Atomlagenabscheidung\") AND PUBYEAR > 2019 AND PUBYEAR < 2025'\n",
    "search_all_en_de = ScopusSearch(query_en_de, download=False)\n",
    "search_all_en_de.get_results_size()"
   ]
  },
  {
   "cell_type": "markdown",
   "metadata": {},
   "source": [
    "## Zeitscheibe 2010 - 2013\n",
    "\n",
    "Es werden zwei Zeitscheiben betrachtet. Die obige Anlayse bezieht sich nur auf die Suchergebnisse für 2020 - 2023. Es wird vermutet, dass der obige Suchstring für beide Zeitscheiben gut funktioniert. Dies wird für 2010 - 2013 hier überprüft."
   ]
  },
  {
   "cell_type": "code",
   "execution_count": null,
   "metadata": {},
   "outputs": [],
   "source": [
    "# Datenabfrage für ALD, Zeitscheibe 2010 - 2013\n",
    "query2010 = 'TITLE-ABS-Key(\"atomic layer deposition\") AND PUBYEAR > 2009 AND PUBYEAR < 2014'\n",
    "search2010 = ScopusSearch(query2010, verbose=True, download=True)\n",
    "\n",
    "print(search2010.get_results_size())\n",
    "print(search2010.results[0])"
   ]
  },
  {
   "cell_type": "code",
   "execution_count": 49,
   "metadata": {},
   "outputs": [],
   "source": [
    "# Daten in DataFrame umwandeln für weitere Datenanalyse\n",
    "search2010_df = pd.DataFrame([doc._asdict() for doc in search2010.results])"
   ]
  },
  {
   "cell_type": "code",
   "execution_count": 50,
   "metadata": {},
   "outputs": [
    {
     "data": {
      "text/plain": [
       "Article              2670\n",
       "Conference Paper     1185\n",
       "Review                 57\n",
       "Conference Review      52\n",
       "Book Chapter           50\n",
       "Erratum                10\n",
       "Letter                  8\n",
       "Short Survey            2\n",
       "Editorial               2\n",
       "Book                    2\n",
       "Name: subtypeDescription, dtype: int64"
      ]
     },
     "execution_count": 50,
     "metadata": {},
     "output_type": "execute_result"
    }
   ],
   "source": [
    "# Publikationsarten\n",
    "search2010_df[\"subtypeDescription\"].value_counts()"
   ]
  },
  {
   "cell_type": "code",
   "execution_count": null,
   "metadata": {},
   "outputs": [],
   "source": [
    "# Eingrenzung auf Article (ar) und Review (re), wo ein peer review process anzunehmen ist\n",
    "# zusätzlich werden Erratum (er) und Retracted (tb) berücksichtigt\n",
    "search_df_reduced_2010 = search2010_df[search2010_df[\"subtype\"].isin(['ar','re','er','tb'])]\n",
    "search_df_reduced_2010.shape"
   ]
  },
  {
   "cell_type": "code",
   "execution_count": null,
   "metadata": {},
   "outputs": [],
   "source": [
    "# keyword für alle Daten\n",
    "pd.options.mode.chained_assignment = None  # default='warn'\n",
    "# https://stackoverflow.com/questions/20625582/how-to-deal-with-settingwithcopywarning-in-pandas\n",
    "\n",
    "keywords = search2010_df[\"authkeywords\"]\n",
    "# split \n",
    "keywords_split = keywords.str.split(pat='|').explode(\"authkeywords\")\n",
    "keywords_splitted = keywords_split.str.split(pat='(').explode(\"authkeywords\")\n",
    "\n",
    "# remove spaces\n",
    "keywords_splitted = keywords_splitted.str.strip()\n",
    "\n",
    "# remove trailing )\n",
    "for row, keyword in enumerate(keywords_splitted):\n",
    "    if keyword: # could be none\n",
    "        if keyword.endswith(\")\"):\n",
    "            keywords_splitted[row] = keyword[:-1]\n",
    "\n",
    "# transform to lower case\n",
    "keywords_splitted = keywords_splitted.str.lower()\n",
    "\n",
    "print(len(keywords_splitted.value_counts(sort=True)))\n",
    "keywords_splitted.value_counts(sort=True).head(25)"
   ]
  },
  {
   "cell_type": "code",
   "execution_count": null,
   "metadata": {},
   "outputs": [],
   "source": [
    "# keyword für begrenzten Typen\n",
    "pd.options.mode.chained_assignment = None  # default='warn'\n",
    "# https://stackoverflow.com/questions/20625582/how-to-deal-with-settingwithcopywarning-in-pandas\n",
    "\n",
    "keywords = search_df_reduced_2010[\"authkeywords\"]\n",
    "# split \n",
    "keywords_split = keywords.str.split(pat='|').explode(\"authkeywords\")\n",
    "keywords_splitted = keywords_split.str.split(pat='(').explode(\"authkeywords\")\n",
    "\n",
    "# remove spaces\n",
    "keywords_splitted = keywords_splitted.str.strip()\n",
    "\n",
    "# remove trailing )\n",
    "for row, keyword in enumerate(keywords_splitted):\n",
    "    if keyword: # could be none\n",
    "        if keyword.endswith(\")\"):\n",
    "            keywords_splitted[row] = keyword[:-1]\n",
    "\n",
    "# transform to lower case\n",
    "keywords_splitted = keywords_splitted.str.lower()\n",
    "\n",
    "print(len(keywords_splitted.value_counts(sort=True)))\n",
    "keywords_splitted.value_counts(sort=True).head(25)"
   ]
  },
  {
   "cell_type": "code",
   "execution_count": null,
   "metadata": {},
   "outputs": [],
   "source": [
    "# Such Prüfung wird die Differenz der per OR verkünpften Suchstrings betrachtet\n",
    "query2010_2 = 'TITLE-ABS-KEY ( ( \"ALD\" AND \"thin film*\" ) AND NOT \"atomic layer deposition\" ) AND PUBYEAR > 2009 AND PUBYEAR < 2014'\n",
    "search2010_2 = ScopusSearch(query2010_2, verbose=True, download=True)\n",
    "\n",
    "print(search2010_2.get_results_size())\n",
    "search_diff_2010 = pd.DataFrame([doc._asdict() for doc in search2010_2.results])\n",
    "\n",
    "df = search_diff_2010[[\"doi\",\"title\"]]\n",
    "pd.options.display.max_colwidth = 100\n",
    "print(df)"
   ]
  },
  {
   "cell_type": "code",
   "execution_count": null,
   "metadata": {},
   "outputs": [],
   "source": [
    "# Suche nur nach ALD\n",
    "query_ALD = 'TITLE-ABS-KEY (\"ALD\" AND NOT \"atomic layer deposition\") AND PUBYEAR > 2009 AND PUBYEAR < 2014'\n",
    "search_ALD = ScopusSearch(query_ALD, verbose=True, download=True)\n",
    "\n",
    "search_ALD.get_results_size()\n",
    "search_diff_ALD = pd.DataFrame([doc._asdict() for doc in search_ALD.results])\n",
    "\n",
    "\n",
    "df = search_diff_ALD[[\"doi\",\"title\"]]\n",
    "pd.options.display.max_colwidth = 100\n",
    "# df.to_csv(\"data_only_ALD.csv\")\n",
    "print(df)"
   ]
  }
 ],
 "metadata": {
  "kernelspec": {
   "display_name": "Python 3 (ipykernel)",
   "language": "python",
   "name": "python3"
  },
  "language_info": {
   "codemirror_mode": {
    "name": "ipython",
    "version": 3
   },
   "file_extension": ".py",
   "mimetype": "text/x-python",
   "name": "python",
   "nbconvert_exporter": "python",
   "pygments_lexer": "ipython3",
   "version": "3.11.2"
  }
 },
 "nbformat": 4,
 "nbformat_minor": 2
}
