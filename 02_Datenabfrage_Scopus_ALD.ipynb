{
 "cells": [
  {
   "cell_type": "markdown",
   "metadata": {},
   "source": [
    "# Datenabfrage von Scopus\n"
   ]
  },
  {
   "cell_type": "markdown",
   "metadata": {},
   "source": [
    "# Table of contents\n",
    "\n",
    "1. [Abfrage Daten Scopus für Zeitscheibe 1: 2010 - 2013](#import_scopus_2010)\n",
    "2. [Abfrage Daten Scopus für Zeitscheibe 2: 2020 - 2023](#import_scopus_2020)"
   ]
  },
  {
   "cell_type": "code",
   "execution_count": 1,
   "metadata": {},
   "outputs": [],
   "source": [
    "import pybliometrics\n",
    "import pandas as pd\n",
    "from pybliometrics.scopus import ScopusSearch\n",
    "\n",
    "pybliometrics.scopus.init()  # read API key"
   ]
  },
  {
   "cell_type": "code",
   "execution_count": 2,
   "metadata": {},
   "outputs": [],
   "source": [
    "import jupyter_black\n",
    "\n",
    "jupyter_black.load()"
   ]
  },
  {
   "cell_type": "code",
   "execution_count": 3,
   "metadata": {},
   "outputs": [
    {
     "name": "stdout",
     "output_type": "stream",
     "text": [
      "Python implementation: CPython\n",
      "Python version       : 3.11.2\n",
      "IPython version      : 8.5.0\n",
      "\n",
      "jupyter_black: 0.4.0\n",
      "pybliometrics: 4.1\n",
      "pandas       : 1.5.3\n",
      "\n"
     ]
    }
   ],
   "source": [
    "%load_ext watermark\n",
    "%watermark -v --iversions"
   ]
  },
  {
   "cell_type": "markdown",
   "metadata": {},
   "source": [
    "## Abfrage Daten Scopus für Zeitscheibe 1: 2010 - 2013<a class=\"anchor\" id=\"import_scopus_2010\"></a>\n"
   ]
  },
  {
   "cell_type": "code",
   "execution_count": 4,
   "metadata": {},
   "outputs": [
    {
     "name": "stdout",
     "output_type": "stream",
     "text": [
      "4086\n"
     ]
    }
   ],
   "source": [
    "# Datenabfrage fuer ALD Zeitscheibe 1: 2010 - 2013\n",
    "query2010 = 'TITLE-ABS-Key(\"atomic layer deposition\" OR (\"ALD\" AND \"thin film*\" AND NOT (\"alcohol-related liver disease\"))) AND PUBYEAR > 2009 AND PUBYEAR < 2014'\n",
    "search2010 = ScopusSearch(query2010, verbose=True, download=True)\n",
    "\n",
    "print(search2010.get_results_size())"
   ]
  },
  {
   "cell_type": "code",
   "execution_count": 5,
   "metadata": {},
   "outputs": [],
   "source": [
    "# Daten in DataFrame umwandeln\n",
    "search2010_df = pd.DataFrame([doc._asdict() for doc in search2010.results])"
   ]
  },
  {
   "cell_type": "code",
   "execution_count": 6,
   "metadata": {},
   "outputs": [],
   "source": [
    "# Alle Daten abspeichern\n",
    "search2010_df.to_csv(f\"../data/raw/data_scopus_2010.csv\", encoding=\"utf-8\", index=False)"
   ]
  },
  {
   "cell_type": "markdown",
   "metadata": {},
   "source": [
    "### Analyse Daten Scopus für Zeitscheibe 1"
   ]
  },
  {
   "cell_type": "code",
   "execution_count": 7,
   "metadata": {},
   "outputs": [
    {
     "name": "stdout",
     "output_type": "stream",
     "text": [
      "Article              2695\n",
      "Conference Paper     1203\n",
      "Review                 57\n",
      "Conference Review      56\n",
      "Book Chapter           51\n",
      "Erratum                10\n",
      "Letter                  8\n",
      "Short Survey            2\n",
      "Editorial               2\n",
      "Book                    2\n",
      "Name: subtypeDescription, dtype: int64\n"
     ]
    }
   ],
   "source": [
    "# Publikationsarten\n",
    "type_counts2010 = search2010_df[\"subtypeDescription\"].value_counts()\n",
    "print(type_counts2010)"
   ]
  },
  {
   "cell_type": "code",
   "execution_count": null,
   "metadata": {},
   "outputs": [],
   "source": [
    "conf_review2010 = search2010_df[\n",
    "    search2010_df[\"subtypeDescription\"] == \"Conference Review\"\n",
    "]\n",
    "pd.options.display.max_colwidth = 200\n",
    "\n",
    "print(conf_review2010.iloc[54])\n",
    "conf_review2010[\"publicationName\"].value_counts()"
   ]
  },
  {
   "cell_type": "code",
   "execution_count": null,
   "metadata": {},
   "outputs": [],
   "source": [
    "search2010_df[search2010_df[\"subtypeDescription\"] == \"Editorial\"]"
   ]
  },
  {
   "cell_type": "code",
   "execution_count": null,
   "metadata": {},
   "outputs": [],
   "source": [
    "search2010_df[search2010_df[\"subtypeDescription\"] == \"Short Survey\"]"
   ]
  },
  {
   "cell_type": "code",
   "execution_count": 11,
   "metadata": {},
   "outputs": [
    {
     "name": "stdout",
     "output_type": "stream",
     "text": [
      "4086\n",
      "Keine DOI: 243 (5.95 %) \n",
      "kein Abstract: 63 (1.54 %)\n"
     ]
    }
   ],
   "source": [
    "# keine DOI oder kein Abstract über alle Daten\n",
    "total_count = search2010_df.shape[0]\n",
    "print(total_count)\n",
    "no_doi = search2010_df[search2010_df[\"doi\"].isnull()].shape[0]\n",
    "no_abstract = search2010_df[search2010_df[\"description\"].isnull()].shape[0]\n",
    "print(\n",
    "    f\"Keine DOI: {no_doi} ({no_doi/total_count*100:.2f} %) \\nkein Abstract: {no_abstract} ({no_abstract/total_count*100:.2f} %)\"\n",
    ")"
   ]
  },
  {
   "cell_type": "code",
   "execution_count": 12,
   "metadata": {},
   "outputs": [
    {
     "name": "stdout",
     "output_type": "stream",
     "text": [
      "Von 2695 Einträgen vom Typ Article haben 33 (1.22 %) Einträge keine DOI und 5 (0.19 %) keinen Abstract.\n",
      "Von 1203 Einträgen vom Typ Conference Paper haben 146 (12.14 %) Einträge keine DOI und 26 (2.16 %) keinen Abstract.\n",
      "Von 57 Einträgen vom Typ Review haben 2 (3.51 %) Einträge keine DOI und 0 (0.00 %) keinen Abstract.\n",
      "Von 56 Einträgen vom Typ Conference Review haben 56 (100.00 %) Einträge keine DOI und 0 (0.00 %) keinen Abstract.\n",
      "Von 51 Einträgen vom Typ Book Chapter haben 4 (7.84 %) Einträge keine DOI und 20 (39.22 %) keinen Abstract.\n",
      "Von 10 Einträgen vom Typ Erratum haben 0 (0.00 %) Einträge keine DOI und 10 (100.00 %) keinen Abstract.\n",
      "Von 8 Einträgen vom Typ Letter haben 0 (0.00 %) Einträge keine DOI und 0 (0.00 %) keinen Abstract.\n",
      "Von 2 Einträgen vom Typ Short Survey haben 2 (100.00 %) Einträge keine DOI und 0 (0.00 %) keinen Abstract.\n",
      "Von 2 Einträgen vom Typ Editorial haben 0 (0.00 %) Einträge keine DOI und 2 (100.00 %) keinen Abstract.\n",
      "Von 2 Einträgen vom Typ Book haben 0 (0.00 %) Einträge keine DOI und 0 (0.00 %) keinen Abstract.\n"
     ]
    }
   ],
   "source": [
    "# Wieviele Einträge davon haben keine DOI bzw. keinen Abstract?\n",
    "\n",
    "for type in [\n",
    "    \"Article\",\n",
    "    \"Conference Paper\",\n",
    "    \"Review\",\n",
    "    \"Conference Review\",\n",
    "    \"Book Chapter\",\n",
    "    \"Erratum\",\n",
    "    \"Letter\",\n",
    "    \"Short Survey\",\n",
    "    \"Editorial\",\n",
    "    \"Book\",\n",
    "]:\n",
    "    total_count = type_counts2010[type]\n",
    "    search2010_type = search2010_df[search2010_df[\"subtypeDescription\"] == type]\n",
    "    no_doi = search2010_type[search2010_type[\"doi\"].isnull()].shape[0]\n",
    "    no_abstract = search2010_type[search2010_type[\"description\"].isnull()].shape[0]\n",
    "    print(\n",
    "        f\"Von {total_count} Einträgen vom Typ {type} haben {no_doi} ({no_doi/total_count*100:.2f} %) Einträge keine DOI und {no_abstract} ({no_abstract/total_count*100:.2f} %) keinen Abstract.\"\n",
    "    )"
   ]
  },
  {
   "cell_type": "markdown",
   "metadata": {},
   "source": [
    "## Abfrage Daten Scopus für Zeitscheibe 2: 2020 - 2023<a class=\"anchor\" id=\"import_scopus_2020\"></a>\n"
   ]
  },
  {
   "cell_type": "code",
   "execution_count": 13,
   "metadata": {},
   "outputs": [
    {
     "name": "stdout",
     "output_type": "stream",
     "text": [
      "6505\n"
     ]
    }
   ],
   "source": [
    "# Datenabfrage für ALD\n",
    "query2020 = 'TITLE-ABS-Key(\"atomic layer deposition\" OR (\"ALD\" AND \"thin film*\" AND NOT (\"alcohol-related liver disease\"))) AND PUBYEAR > 2019 AND PUBYEAR < 2024'\n",
    "search2020 = ScopusSearch(query2020, verbose=True, download=True)\n",
    "\n",
    "print(search2020.get_results_size())"
   ]
  },
  {
   "cell_type": "code",
   "execution_count": 14,
   "metadata": {},
   "outputs": [
    {
     "data": {
      "text/plain": [
       "(6505, 36)"
      ]
     },
     "execution_count": 14,
     "metadata": {},
     "output_type": "execute_result"
    }
   ],
   "source": [
    "# Daten in DataFrame umwandeln\n",
    "search2020_df = pd.DataFrame([doc._asdict() for doc in search2020.results])\n",
    "search2020_df.shape"
   ]
  },
  {
   "cell_type": "code",
   "execution_count": 15,
   "metadata": {},
   "outputs": [],
   "source": [
    "# Alle Daten abspeichern\n",
    "search2020_df.to_csv(f\"../data/raw/data_scopus_2020.csv\", encoding=\"utf-8\", index=False)"
   ]
  },
  {
   "cell_type": "markdown",
   "metadata": {},
   "source": [
    "### Analyse Zeitscheibe 2"
   ]
  },
  {
   "cell_type": "code",
   "execution_count": 16,
   "metadata": {},
   "outputs": [
    {
     "name": "stdout",
     "output_type": "stream",
     "text": [
      "Article              5470\n",
      "Conference Paper      591\n",
      "Review                289\n",
      "Book Chapter           87\n",
      "Erratum                25\n",
      "Conference Review      18\n",
      "Book                    7\n",
      "Note                    5\n",
      "Editorial               4\n",
      "Letter                  4\n",
      "Short Survey            3\n",
      "Retracted               1\n",
      "Data Paper              1\n",
      "Name: subtypeDescription, dtype: int64\n"
     ]
    }
   ],
   "source": [
    "# Publikationsarten\n",
    "type_counts2020 = search2020_df[\"subtypeDescription\"].value_counts()\n",
    "print(type_counts2020)"
   ]
  },
  {
   "cell_type": "code",
   "execution_count": null,
   "metadata": {},
   "outputs": [],
   "source": [
    "search2020_df[search2020_df[\"subtypeDescription\"] == \"Note\"]"
   ]
  },
  {
   "cell_type": "code",
   "execution_count": 18,
   "metadata": {},
   "outputs": [
    {
     "name": "stdout",
     "output_type": "stream",
     "text": [
      "Keine DOI: 113 (1.74 %) \n",
      "kein Abstract: 18 (0.28 %)\n"
     ]
    }
   ],
   "source": [
    "# keine DOI oder kein Abstract über alle Daten\n",
    "total_count = search2020_df.shape[0]\n",
    "no_doi = search2020_df[search2020_df[\"doi\"].isnull()].shape[0]\n",
    "no_abstract = search2020_df[search2020_df[\"description\"].isnull()].shape[0]\n",
    "print(\n",
    "    f\"Keine DOI: {no_doi} ({no_doi/total_count*100:.2f} %) \\nkein Abstract: {no_abstract} ({no_abstract/total_count*100:.2f} %)\"\n",
    ")"
   ]
  },
  {
   "cell_type": "code",
   "execution_count": 19,
   "metadata": {},
   "outputs": [
    {
     "name": "stdout",
     "output_type": "stream",
     "text": [
      "Von 5470 Einträgen vom Typ Article haben 14 (0.26 %) Einträge keine DOI und 1 (0.02 %) keinen Abstract.\n",
      "Von 591 Einträgen vom Typ Conference Paper haben 75 (12.69 %) Einträge keine DOI und 4 (0.68 %) keinen Abstract.\n",
      "Von 289 Einträgen vom Typ Review haben 0 (0.00 %) Einträge keine DOI und 0 (0.00 %) keinen Abstract.\n",
      "Von 87 Einträgen vom Typ Book Chapter haben 6 (6.90 %) Einträge keine DOI und 3 (3.45 %) keinen Abstract.\n",
      "Von 25 Einträgen vom Typ Erratum haben 0 (0.00 %) Einträge keine DOI und 1 (4.00 %) keinen Abstract.\n",
      "Von 18 Einträgen vom Typ Conference Review haben 18 (100.00 %) Einträge keine DOI und 0 (0.00 %) keinen Abstract.\n",
      "Von 7 Einträgen vom Typ Book haben 0 (0.00 %) Einträge keine DOI und 0 (0.00 %) keinen Abstract.\n",
      "Von 5 Einträgen vom Typ Note haben 0 (0.00 %) Einträge keine DOI und 3 (60.00 %) keinen Abstract.\n",
      "Von 4 Einträgen vom Typ Editorial haben 0 (0.00 %) Einträge keine DOI und 4 (100.00 %) keinen Abstract.\n",
      "Von 4 Einträgen vom Typ Letter haben 0 (0.00 %) Einträge keine DOI und 1 (25.00 %) keinen Abstract.\n",
      "Von 3 Einträgen vom Typ Short Survey haben 0 (0.00 %) Einträge keine DOI und 1 (33.33 %) keinen Abstract.\n",
      "Von 1 Einträgen vom Typ Retracted haben 0 (0.00 %) Einträge keine DOI und 0 (0.00 %) keinen Abstract.\n",
      "Von 1 Einträgen vom Typ Data Paper haben 0 (0.00 %) Einträge keine DOI und 0 (0.00 %) keinen Abstract.\n"
     ]
    }
   ],
   "source": [
    "# Wieviele Einträge davon haben keine DOI bzw. keinen Abstract?\n",
    "\n",
    "for type in [\n",
    "    \"Article\",\n",
    "    \"Conference Paper\",\n",
    "    \"Review\",\n",
    "    \"Book Chapter\",\n",
    "    \"Erratum\",\n",
    "    \"Conference Review\",\n",
    "    \"Book\",\n",
    "    \"Note\",\n",
    "    \"Editorial\",\n",
    "    \"Letter\",\n",
    "    \"Short Survey\",\n",
    "    \"Retracted\",\n",
    "    \"Data Paper\",\n",
    "]:\n",
    "    total_count = type_counts2020[type]\n",
    "    search2020_type = search2020_df[search2020_df[\"subtypeDescription\"] == type]\n",
    "    no_doi = search2020_type[search2020_type[\"doi\"].isnull()].shape[0]\n",
    "    no_abstract = search2020_type[search2020_type[\"description\"].isnull()].shape[0]\n",
    "    print(\n",
    "        f\"Von {total_count} Einträgen vom Typ {type} haben {no_doi} ({no_doi/total_count*100:.2f} %) Einträge keine DOI und {no_abstract} ({no_abstract/total_count*100:.2f} %) keinen Abstract.\"\n",
    "    )"
   ]
  }
 ],
 "metadata": {
  "kernelspec": {
   "display_name": "Python 3 (ipykernel)",
   "language": "python",
   "name": "python3"
  },
  "language_info": {
   "codemirror_mode": {
    "name": "ipython",
    "version": 3
   },
   "file_extension": ".py",
   "mimetype": "text/x-python",
   "name": "python",
   "nbconvert_exporter": "python",
   "pygments_lexer": "ipython3",
   "version": "3.11.2"
  }
 },
 "nbformat": 4,
 "nbformat_minor": 2
}
