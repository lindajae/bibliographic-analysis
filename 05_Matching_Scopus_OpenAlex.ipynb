{
 "cells": [
  {
   "cell_type": "markdown",
   "metadata": {},
   "source": [
    "# Matching der Ergebnisse Scopus und OpenAlex\n"
   ]
  },
  {
   "cell_type": "markdown",
   "metadata": {},
   "source": [
    "## Inhalt\n",
    "\n",
    "* [Zeitscheibe 1: 2010 - 2013](#2010)\n",
    "  * [Matching](#matching_2010)\n",
    "* [Zeitscheibe 2: 2020 - 2023](#2020)\n",
    "  * [Matching](#matching_2020)"
   ]
  },
  {
   "cell_type": "code",
   "execution_count": 1,
   "metadata": {},
   "outputs": [],
   "source": [
    "import pandas as pd\n",
    "import numpy as np\n",
    "from rapidfuzz.distance import Levenshtein\n",
    "import uuid\n",
    "import matplotlib.pyplot as plt\n",
    "\n",
    "pd.options.mode.copy_on_write = True"
   ]
  },
  {
   "cell_type": "code",
   "execution_count": 2,
   "metadata": {},
   "outputs": [],
   "source": [
    "import jupyter_black\n",
    "\n",
    "jupyter_black.load()"
   ]
  },
  {
   "cell_type": "code",
   "execution_count": 3,
   "metadata": {},
   "outputs": [
    {
     "name": "stdout",
     "output_type": "stream",
     "text": [
      "Python implementation: CPython\n",
      "Python version       : 3.11.2\n",
      "IPython version      : 8.5.0\n",
      "\n",
      "jupyter_black: 0.4.0\n",
      "rapidfuzz    : 3.13.0\n",
      "matplotlib   : 3.6.3\n",
      "numpy        : 1.24.2\n",
      "pandas       : 1.5.3\n",
      "\n"
     ]
    }
   ],
   "source": [
    "%load_ext watermark\n",
    "%watermark -v --iversions"
   ]
  },
  {
   "cell_type": "code",
   "execution_count": 4,
   "metadata": {},
   "outputs": [],
   "source": [
    "# implementation based on https://github.com/gavieira/biblioverlap/blob/main/R/04-score_matching.R\n",
    "\n",
    "\n",
    "def calc_distance_score_matrix(db1_col, db2_col, max_score, penalty):\n",
    "    \"\"\"  Compute normalized Levenshtein distance matrix. \"\"\" \n",
    "    n, m = len(db1_col), len(db2_col)\n",
    "    matrix = np.zeros((n, m), dtype=np.float32)\n",
    "    for i, val1 in enumerate(db1_col):\n",
    "        for j, val2 in enumerate(db2_col):\n",
    "            dist = Levenshtein.normalized_distance(str(val1), str(val2))\n",
    "            matrix[i, j] = max_score - dist * penalty\n",
    "    return matrix\n",
    "\n",
    "\n",
    "def calc_year_score_matrix(db1_col, db2_col):\n",
    "    \"\"\"  Compute score for year  difference. \"\"\"\n",
    "    n, m = len(db1_col), len(db2_col)\n",
    "    matrix = np.zeros((n, m), dtype=np.float32)\n",
    "    for i, val1 in enumerate(db1_col):\n",
    "        for j, val2 in enumerate(db2_col):\n",
    "            if val1 == val2:\n",
    "                matrix[i, j] = 0\n",
    "            elif abs(val1 - val2) == 1:\n",
    "                matrix[i, j] = 0.5\n",
    "            else:\n",
    "                matrix[i, j] = 1.0\n",
    "\n",
    "    return matrix\n",
    "\n",
    "\n",
    "def extract_score_matches(final_score_matrix, db1_index, db2_index):\n",
    "    \"\"\" Get matches based on score. \"\"\"\n",
    "    max_scores = final_score_matrix.max(\n",
    "        axis=1\n",
    "    )  # get max value for all rows (db1 values)\n",
    "    db2_pos = final_score_matrix.argmax(axis=1)\n",
    "    matches = []\n",
    "    for db1_id, score, db2_idx in zip(db1_index, max_scores, db2_pos):\n",
    "        if score != 0:\n",
    "            matches.append(\n",
    "                {\"scopus_id\": db1_id, \"score\": score, \"openalex_id\": db2_index[db2_idx]}\n",
    "            )\n",
    "    return matches\n",
    "\n",
    "\n",
    "def score_matching(\n",
    "    db1,\n",
    "    db2,\n",
    "    title_penalty,\n",
    "    title_max,\n",
    "    source_penalty,\n",
    "    source_max,\n",
    "    author_penalty,\n",
    "    author_max,\n",
    "    score_cutoff,\n",
    "):\n",
    "    \"\"\"\n",
    "    Conduct score based matching.\n",
    "\n",
    "    Parameters\n",
    "    ----------\n",
    "    db1 : pandas.DataFrame\n",
    "        First collection of works for comparison, from Scopus.\n",
    "    db2 : pandas.DataFrame\n",
    "        Second collection of works for comparison, from OpenAlex.\n",
    "    title_penalty: float\n",
    "        Penalty for title score calculation\n",
    "    title_max: float\n",
    "        Maximum value for title score calculation\n",
    "    source_penalty: float\n",
    "        Penalty for source title score calculation\n",
    "    source_max: float\n",
    "        Maximum value for source title score calculation\n",
    "    author_penalty : float\n",
    "        Penalty for author name score calculation\n",
    "    author_max : float\n",
    "        Maximum value for author name score calculation\n",
    "    score_cutoff : float\n",
    "        Cutoff value to determine matching\n",
    "     \n",
    "    Returns\n",
    "    --------\n",
    "    matches : array of dict\n",
    "        Found matches, contains scopus_id from db1, score and openalex_id from db2\n",
    "    final_score_matrix : np.array\n",
    "        Matrix containing final score values.\n",
    "    \"\"\" \n",
    "    title_matrix = calc_distance_score_matrix(\n",
    "        db1[\"scopus_title\"], db2[\"openalex_title\"], title_max, title_penalty\n",
    "    )\n",
    "    author_matrix = calc_distance_score_matrix(\n",
    "        db1[\"scopus_name_1st_author\"],\n",
    "        db2[\"openalex_name_1st_author\"],\n",
    "        author_max,\n",
    "        author_penalty,\n",
    "    )\n",
    "    source_matrix = calc_distance_score_matrix(\n",
    "        db1[\"scopus_source_title\"],\n",
    "        db2[\"openalex_source_title\"],\n",
    "        source_max,\n",
    "        source_penalty,\n",
    "    )\n",
    "    year_matrix = calc_year_score_matrix(\n",
    "        db1[\"scopus_publication_year\"], db2[\"openalex_publication_year\"]\n",
    "    )\n",
    "\n",
    "    final_score_matrix = title_matrix + author_matrix + source_matrix - year_matrix\n",
    "    final_score_matrix = final_score_matrix * (final_score_matrix >= score_cutoff)\n",
    "    matches = extract_score_matches(\n",
    "        final_score_matrix, db1[\"scopus_id\"], db2[\"openalex_id\"]\n",
    "    )\n",
    "    return matches, final_score_matrix"
   ]
  },
  {
   "cell_type": "code",
   "execution_count": 5,
   "metadata": {},
   "outputs": [],
   "source": [
    "# Check: Wurden Anhand des Score Publikationen gematcht, welche unterschiedliche DOIS besitzen? \n",
    "# --> Test für mögliche falsch positive Matches\n",
    "\n",
    "\n",
    "def get_scopus_id_for_false_positive_matches(data_matches, data_scopus, data_openalex):\n",
    "    \"\"\"\n",
    "    Check found matches and identify falsely matched works.\n",
    "\n",
    "    Parameters\n",
    "    ----------\n",
    "    data_matches : array of dict\n",
    "        Found matches, contains scopus_id from db1, score and openalex_id from db2\n",
    "    data_scopus : pandas.DataFrame\n",
    "        Collections of works from Scopus.\n",
    "    data_openalex : pandas.DataFrame\n",
    "        Collections of works from OpenAlex.\n",
    "     \n",
    "    Returns\n",
    "    --------\n",
    "    index_list_to_be_removed : list\n",
    "        Indexes of data_matches which contain falsely matched works.\n",
    "    \"\"\"\n",
    "    index_list_to_be_removed = []\n",
    "    data_matches_df = pd.DataFrame.from_dict(data_matches)\n",
    "\n",
    "    for index, row in data_matches_df.iterrows():\n",
    "        scopus_id = row[\"scopus_id\"]\n",
    "        openalex_id = row[\"openalex_id\"]\n",
    "        scopus_data = data_scopus[data_scopus[\"scopus_id\"] == scopus_id]\n",
    "        openalex_data = data_openalex[data_openalex[\"openalex_id\"] == openalex_id]\n",
    "\n",
    "        if not scopus_data.empty:  # Scopus Eintrag vorhanden?\n",
    "            if not openalex_data.empty:  # OpenAlex Eintrag vorhanden?\n",
    "                scopus_doi = scopus_data.iloc[0, scopus_data.columns.get_loc(\"doi\")]\n",
    "                openalex_doi = openalex_data.iloc[\n",
    "                    0, openalex_data.columns.get_loc(\"doi\")\n",
    "                ]\n",
    "                if scopus_doi != openalex_doi:  #  DOI unterschiedlich?\n",
    "                    index_list_to_be_removed.append(index)\n",
    "    return index_list_to_be_removed\n",
    "\n",
    "\n",
    "def remove_matches_with_different_doi(data_matches, data_scopus, data_openalex):\n",
    "    \"\"\"\n",
    "    Check found matches and remove falsely matched works.\n",
    "\n",
    "    Parameters\n",
    "    ----------\n",
    "    data_matches : array of dict\n",
    "        Found matches, contains scopus_id from db1, score and openalex_id from db2\n",
    "    data_scopus : pandas.DataFrame\n",
    "        Collections of works from Scopus.\n",
    "    data_openalex : pandas.DataFrame\n",
    "        Collections of works from OpenAlex.\n",
    "     \n",
    "    Returns\n",
    "    --------\n",
    "    data_matches_update : array of dict\n",
    "        Updated array of matches with falsely matched works removed.\n",
    "    \"\"\"\n",
    "    index_to_be_removed = get_scopus_id_for_false_positive_matches(\n",
    "        data_matches, data_scopus, data_openalex\n",
    "    )\n",
    "    data_matches_update = [\n",
    "        i for j, i in enumerate(data_matches) if j not in index_to_be_removed\n",
    "    ]\n",
    "    return data_matches_update"
   ]
  },
  {
   "cell_type": "markdown",
   "metadata": {},
   "source": [
    "## Zeitscheibe 1: 2010 - 2013<a class=\"anchor\" id=\"2010\"></a>\n"
   ]
  },
  {
   "cell_type": "code",
   "execution_count": 6,
   "metadata": {},
   "outputs": [],
   "source": [
    "# Daten einlesen\n",
    "data_scopus_2010 = pd.read_csv(\"../data/processed/data_scopus_2010_cleaned.csv\")\n",
    "data_openalex_2010 = pd.read_csv(\"../data/processed/data_openalex_2010_cleaned.csv\")"
   ]
  },
  {
   "cell_type": "code",
   "execution_count": 7,
   "metadata": {},
   "outputs": [
    {
     "data": {
      "text/plain": [
       "Index(['eid', 'doi', 'pii', 'pubmed_id', 'title', 'subtype',\n",
       "       'subtypeDescription', 'creator', 'afid', 'affilname',\n",
       "       'affiliation_city', 'affiliation_country', 'author_count',\n",
       "       'author_names', 'author_ids', 'author_afids', 'coverDate',\n",
       "       'coverDisplayDate', 'publicationName', 'issn', 'source_id', 'eIssn',\n",
       "       'aggregationType', 'volume', 'issueIdentifier', 'article_number',\n",
       "       'pageRange', 'description', 'authkeywords', 'citedby_count',\n",
       "       'openaccess', 'freetoread', 'freetoreadLabel', 'fund_acr', 'fund_no',\n",
       "       'fund_sponsor', 'name_1st_author', 'publication_year'],\n",
       "      dtype='object')"
      ]
     },
     "execution_count": 7,
     "metadata": {},
     "output_type": "execute_result"
    }
   ],
   "source": [
    "data_scopus_2010.columns"
   ]
  },
  {
   "cell_type": "code",
   "execution_count": 8,
   "metadata": {},
   "outputs": [],
   "source": [
    "# Spaltennamen umbenennen für Abgleich\n",
    "data_scopus_2010.rename(\n",
    "    columns={\n",
    "        \"eid\": \"scopus_id\",\n",
    "        \"title\": \"scopus_title\",\n",
    "        \"name_1st_author\": \"scopus_name_1st_author\",\n",
    "        \"publicationName\": \"scopus_source_title\",\n",
    "        \"volume\": \"scopus_volume\",\n",
    "        \"publication_year\": \"scopus_publication_year\",\n",
    "    },\n",
    "    inplace=True,\n",
    ")\n",
    "data_openalex_2010.rename(\n",
    "    columns={\n",
    "        \"id\": \"openalex_id\",\n",
    "        \"title\": \"openalex_title\",\n",
    "        \"name_1st_author\": \"openalex_name_1st_author\",\n",
    "        \"source_title\": \"openalex_source_title\",\n",
    "        \"volume\": \"openalex_volume\",\n",
    "        \"publication_year\": \"openalex_publication_year\",\n",
    "    },\n",
    "    inplace=True,\n",
    ")"
   ]
  },
  {
   "cell_type": "code",
   "execution_count": null,
   "metadata": {},
   "outputs": [],
   "source": [
    "data_scopus_2010.head()"
   ]
  },
  {
   "cell_type": "code",
   "execution_count": 10,
   "metadata": {},
   "outputs": [
    {
     "data": {
      "text/plain": [
       "Index(['openalex_id', 'doi', 'openalex_title', 'type', 'publication_date',\n",
       "       'openalex_publication_year', 'openalex_volume', 'issue', 'first_page',\n",
       "       'last_page', 'authors', 'keywords', 'abstract', 'openalex_source_title',\n",
       "       'source_issn', 'source_type', 'cited_by_count', 'referenced_works',\n",
       "       'openalex_name_1st_author'],\n",
       "      dtype='object')"
      ]
     },
     "execution_count": 10,
     "metadata": {},
     "output_type": "execute_result"
    }
   ],
   "source": [
    "data_openalex_2010.columns"
   ]
  },
  {
   "cell_type": "code",
   "execution_count": 11,
   "metadata": {},
   "outputs": [
    {
     "data": {
      "text/plain": [
       "5000"
      ]
     },
     "execution_count": 11,
     "metadata": {},
     "output_type": "execute_result"
    }
   ],
   "source": [
    "data_openalex_2010.index[-1]"
   ]
  },
  {
   "cell_type": "code",
   "execution_count": 12,
   "metadata": {},
   "outputs": [
    {
     "data": {
      "text/html": [
       "<div>\n",
       "<style scoped>\n",
       "    .dataframe tbody tr th:only-of-type {\n",
       "        vertical-align: middle;\n",
       "    }\n",
       "\n",
       "    .dataframe tbody tr th {\n",
       "        vertical-align: top;\n",
       "    }\n",
       "\n",
       "    .dataframe thead th {\n",
       "        text-align: right;\n",
       "    }\n",
       "</style>\n",
       "<table border=\"1\" class=\"dataframe\">\n",
       "  <thead>\n",
       "    <tr style=\"text-align: right;\">\n",
       "      <th></th>\n",
       "      <th>openalex_id</th>\n",
       "      <th>doi</th>\n",
       "      <th>openalex_title</th>\n",
       "      <th>type</th>\n",
       "      <th>publication_date</th>\n",
       "      <th>openalex_publication_year</th>\n",
       "      <th>openalex_volume</th>\n",
       "      <th>issue</th>\n",
       "      <th>first_page</th>\n",
       "      <th>last_page</th>\n",
       "      <th>authors</th>\n",
       "      <th>keywords</th>\n",
       "      <th>abstract</th>\n",
       "      <th>openalex_source_title</th>\n",
       "      <th>source_issn</th>\n",
       "      <th>source_type</th>\n",
       "      <th>cited_by_count</th>\n",
       "      <th>referenced_works</th>\n",
       "      <th>openalex_name_1st_author</th>\n",
       "    </tr>\n",
       "  </thead>\n",
       "  <tbody>\n",
       "    <tr>\n",
       "      <th>0</th>\n",
       "      <td>https://openalex.org/W2035931858</td>\n",
       "      <td>10.1063/1.4757907</td>\n",
       "      <td>crystallinity of inorganic films grown by atom...</td>\n",
       "      <td>article</td>\n",
       "      <td>2013-01-08</td>\n",
       "      <td>2013</td>\n",
       "      <td>113</td>\n",
       "      <td>2</td>\n",
       "      <td>NaN</td>\n",
       "      <td>NaN</td>\n",
       "      <td>Ville Miikkulainen, Markku Leskelä, Mikko Rita...</td>\n",
       "      <td>Deposition</td>\n",
       "      <td>Atomic layer deposition (ALD) is gaining atten...</td>\n",
       "      <td>journal of applied physics</td>\n",
       "      <td>['0021-8979', '1089-7550', '1520-8850']</td>\n",
       "      <td>journal</td>\n",
       "      <td>1339</td>\n",
       "      <td>['https://openalex.org/W101290300', 'https://o...</td>\n",
       "      <td>Miikkulainen</td>\n",
       "    </tr>\n",
       "    <tr>\n",
       "      <th>1</th>\n",
       "      <td>https://openalex.org/W2025831662</td>\n",
       "      <td>10.1021/ja4050828</td>\n",
       "      <td>vapor-phase metalation by atomic layer deposit...</td>\n",
       "      <td>article</td>\n",
       "      <td>2013-07-05</td>\n",
       "      <td>2013</td>\n",
       "      <td>135</td>\n",
       "      <td>28</td>\n",
       "      <td>10294</td>\n",
       "      <td>10297</td>\n",
       "      <td>Joseph E. Mondloch, Wojciech Bury, David Faire...</td>\n",
       "      <td>Metalation, Deposition</td>\n",
       "      <td>Metal–organic frameworks (MOFs) have received ...</td>\n",
       "      <td>journal of the american chemical society</td>\n",
       "      <td>['0002-7863', '1520-5126', '1943-2984']</td>\n",
       "      <td>journal</td>\n",
       "      <td>899</td>\n",
       "      <td>['https://openalex.org/W1578420299', 'https://...</td>\n",
       "      <td>Mondloch</td>\n",
       "    </tr>\n",
       "    <tr>\n",
       "      <th>2</th>\n",
       "      <td>https://openalex.org/W2149248689</td>\n",
       "      <td>10.1116/1.3609974</td>\n",
       "      <td>plasma-assisted atomic layer deposition: basic...</td>\n",
       "      <td>article</td>\n",
       "      <td>2011-08-18</td>\n",
       "      <td>2011</td>\n",
       "      <td>29</td>\n",
       "      <td>5</td>\n",
       "      <td>NaN</td>\n",
       "      <td>NaN</td>\n",
       "      <td>Harald B. Profijt, Stephen E. Potts, M. C. M. ...</td>\n",
       "      <td>Microelectronics, Plasma Processing, Deposition</td>\n",
       "      <td>Plasma-assisted atomic layer deposition (ALD) ...</td>\n",
       "      <td>journal of vacuum science &amp; technology a vacuu...</td>\n",
       "      <td>['0734-2101', '1520-8559']</td>\n",
       "      <td>journal</td>\n",
       "      <td>811</td>\n",
       "      <td>['https://openalex.org/W1508775127', 'https://...</td>\n",
       "      <td>Profijt</td>\n",
       "    </tr>\n",
       "    <tr>\n",
       "      <th>3</th>\n",
       "      <td>https://openalex.org/W2054254706</td>\n",
       "      <td>10.1126/science.1212906</td>\n",
       "      <td>coking- and sintering-resistant palladium cata...</td>\n",
       "      <td>article</td>\n",
       "      <td>2012-03-08</td>\n",
       "      <td>2012</td>\n",
       "      <td>335</td>\n",
       "      <td>6073</td>\n",
       "      <td>1205</td>\n",
       "      <td>1208</td>\n",
       "      <td>Junling Lu, Baosong Fu, Mayfair C. Kung, Guomi...</td>\n",
       "      <td>Thermogravimetric analysis, Deposition</td>\n",
       "      <td>We showed that alumina (Al(2)O(3)) overcoating...</td>\n",
       "      <td>science</td>\n",
       "      <td>['0036-8075', '1095-9203']</td>\n",
       "      <td>journal</td>\n",
       "      <td>795</td>\n",
       "      <td>['https://openalex.org/W1547883012', 'https://...</td>\n",
       "      <td>Lu</td>\n",
       "    </tr>\n",
       "    <tr>\n",
       "      <th>4</th>\n",
       "      <td>https://openalex.org/W2151747661</td>\n",
       "      <td>10.1038/srep01775</td>\n",
       "      <td>single-atom catalysis using pt/graphene achiev...</td>\n",
       "      <td>article</td>\n",
       "      <td>2013-05-03</td>\n",
       "      <td>2013</td>\n",
       "      <td>3</td>\n",
       "      <td>1</td>\n",
       "      <td>NaN</td>\n",
       "      <td>NaN</td>\n",
       "      <td>Shuhui Sun, Gaixia Zhang, Nicolas Gauquelin, N...</td>\n",
       "      <td>Nanosheet, Deposition</td>\n",
       "      <td>Platinum-nanoparticle-based catalysts are wide...</td>\n",
       "      <td>scientific reports</td>\n",
       "      <td>['2045-2322']</td>\n",
       "      <td>journal</td>\n",
       "      <td>837</td>\n",
       "      <td>['https://openalex.org/W1495146461', 'https://...</td>\n",
       "      <td>Sun</td>\n",
       "    </tr>\n",
       "  </tbody>\n",
       "</table>\n",
       "</div>"
      ],
      "text/plain": [
       "                        openalex_id                      doi  \\\n",
       "0  https://openalex.org/W2035931858        10.1063/1.4757907   \n",
       "1  https://openalex.org/W2025831662        10.1021/ja4050828   \n",
       "2  https://openalex.org/W2149248689        10.1116/1.3609974   \n",
       "3  https://openalex.org/W2054254706  10.1126/science.1212906   \n",
       "4  https://openalex.org/W2151747661        10.1038/srep01775   \n",
       "\n",
       "                                      openalex_title     type  \\\n",
       "0  crystallinity of inorganic films grown by atom...  article   \n",
       "1  vapor-phase metalation by atomic layer deposit...  article   \n",
       "2  plasma-assisted atomic layer deposition: basic...  article   \n",
       "3  coking- and sintering-resistant palladium cata...  article   \n",
       "4  single-atom catalysis using pt/graphene achiev...  article   \n",
       "\n",
       "  publication_date  openalex_publication_year openalex_volume issue  \\\n",
       "0       2013-01-08                       2013             113     2   \n",
       "1       2013-07-05                       2013             135    28   \n",
       "2       2011-08-18                       2011              29     5   \n",
       "3       2012-03-08                       2012             335  6073   \n",
       "4       2013-05-03                       2013               3     1   \n",
       "\n",
       "  first_page last_page                                            authors  \\\n",
       "0        NaN       NaN  Ville Miikkulainen, Markku Leskelä, Mikko Rita...   \n",
       "1      10294     10297  Joseph E. Mondloch, Wojciech Bury, David Faire...   \n",
       "2        NaN       NaN  Harald B. Profijt, Stephen E. Potts, M. C. M. ...   \n",
       "3       1205      1208  Junling Lu, Baosong Fu, Mayfair C. Kung, Guomi...   \n",
       "4        NaN       NaN  Shuhui Sun, Gaixia Zhang, Nicolas Gauquelin, N...   \n",
       "\n",
       "                                          keywords  \\\n",
       "0                                       Deposition   \n",
       "1                           Metalation, Deposition   \n",
       "2  Microelectronics, Plasma Processing, Deposition   \n",
       "3           Thermogravimetric analysis, Deposition   \n",
       "4                            Nanosheet, Deposition   \n",
       "\n",
       "                                            abstract  \\\n",
       "0  Atomic layer deposition (ALD) is gaining atten...   \n",
       "1  Metal–organic frameworks (MOFs) have received ...   \n",
       "2  Plasma-assisted atomic layer deposition (ALD) ...   \n",
       "3  We showed that alumina (Al(2)O(3)) overcoating...   \n",
       "4  Platinum-nanoparticle-based catalysts are wide...   \n",
       "\n",
       "                               openalex_source_title  \\\n",
       "0                         journal of applied physics   \n",
       "1           journal of the american chemical society   \n",
       "2  journal of vacuum science & technology a vacuu...   \n",
       "3                                            science   \n",
       "4                                 scientific reports   \n",
       "\n",
       "                               source_issn source_type  cited_by_count  \\\n",
       "0  ['0021-8979', '1089-7550', '1520-8850']     journal            1339   \n",
       "1  ['0002-7863', '1520-5126', '1943-2984']     journal             899   \n",
       "2               ['0734-2101', '1520-8559']     journal             811   \n",
       "3               ['0036-8075', '1095-9203']     journal             795   \n",
       "4                            ['2045-2322']     journal             837   \n",
       "\n",
       "                                    referenced_works openalex_name_1st_author  \n",
       "0  ['https://openalex.org/W101290300', 'https://o...             Miikkulainen  \n",
       "1  ['https://openalex.org/W1578420299', 'https://...                 Mondloch  \n",
       "2  ['https://openalex.org/W1508775127', 'https://...                  Profijt  \n",
       "3  ['https://openalex.org/W1547883012', 'https://...                       Lu  \n",
       "4  ['https://openalex.org/W1495146461', 'https://...                      Sun  "
      ]
     },
     "execution_count": 12,
     "metadata": {},
     "output_type": "execute_result"
    }
   ],
   "source": [
    "data_openalex_2010.head()"
   ]
  },
  {
   "cell_type": "markdown",
   "metadata": {},
   "source": [
    "### Matching<a class=\"anchor\" id=\"matching_2010\"></a>\n",
    "\n",
    "Das Vorgehen zum Abgleich der Datenbanken bzw. Matching der Datenbankeinträge orientiert sich an [Vieira & Leta, 2024](https://doi.org/10.1007/s11192-024-05065-5), welche die documentbasierte Matching-Stratgie der R-Bibliothek *biblioverlap* beschreibt. "
   ]
  },
  {
   "cell_type": "code",
   "execution_count": 13,
   "metadata": {},
   "outputs": [],
   "source": [
    "# Erzeuge UUID zur eindeutigen Identifikation der Daten\n",
    "# Scopus dient als UUID Spender, bei erfolgten Match wird der OpenAlex Datensatz mit dieser UUID verknüpft\n",
    "\n",
    "data_scopus_2010[\"uuid\"] = [uuid.uuid4() for _ in range(len(data_scopus_2010.index))]\n",
    "data_openalex_2010[\"uuid\"] = pd.Series(dtype=\"object\")"
   ]
  },
  {
   "cell_type": "code",
   "execution_count": 14,
   "metadata": {},
   "outputs": [
    {
     "data": {
      "text/plain": [
       "0       d676dcb2-2d94-47e2-ab80-f857fee22536\n",
       "1       8f5df863-ccfe-424b-b8ea-e00551c3d542\n",
       "2       3b34101c-b6fc-4373-b90f-db3f7d6b92d0\n",
       "3       23e52f82-eabe-41f9-9b0b-100990e512ea\n",
       "4       5df2cf85-2690-45db-8739-db3e1deaccea\n",
       "                        ...                 \n",
       "4001    ec1d84f6-8952-4063-bed1-66685ef741db\n",
       "4002    298f65c1-9b8b-448b-83d5-ef18f6d511b3\n",
       "4003    34525b1f-64ac-48bb-8eba-efc43a7ef3ea\n",
       "4004    f3622463-312a-4339-8b52-5a15f5916773\n",
       "4005    998e588c-98bc-4e9f-a6c2-3ba9743fd596\n",
       "Name: uuid, Length: 4006, dtype: object"
      ]
     },
     "execution_count": 14,
     "metadata": {},
     "output_type": "execute_result"
    }
   ],
   "source": [
    "data_scopus_2010[\"uuid\"]"
   ]
  },
  {
   "cell_type": "code",
   "execution_count": 15,
   "metadata": {},
   "outputs": [
    {
     "data": {
      "text/plain": [
       "0       NaN\n",
       "1       NaN\n",
       "2       NaN\n",
       "3       NaN\n",
       "4       NaN\n",
       "       ... \n",
       "4996    NaN\n",
       "4997    NaN\n",
       "4998    NaN\n",
       "4999    NaN\n",
       "5000    NaN\n",
       "Name: uuid, Length: 5001, dtype: object"
      ]
     },
     "execution_count": 15,
     "metadata": {},
     "output_type": "execute_result"
    }
   ],
   "source": [
    "data_openalex_2010[\"uuid\"]"
   ]
  },
  {
   "cell_type": "code",
   "execution_count": 16,
   "metadata": {},
   "outputs": [],
   "source": [
    "# Desweiteren wird ein Label genutzt um schon gematchte Datensätze besser identifizieren zu können\n",
    "data_scopus_2010[\"matched\"] = False\n",
    "data_openalex_2010[\"matched\"] = False"
   ]
  },
  {
   "cell_type": "code",
   "execution_count": 17,
   "metadata": {},
   "outputs": [
    {
     "name": "stdout",
     "output_type": "stream",
     "text": [
      "3837\n",
      "4375\n"
     ]
    }
   ],
   "source": [
    "# Schritt 1: Matching anhand der DOI\n",
    "# Zuerst werden die Einträge mit DOI aus Scopus mit den Einträgen mit DOI aus OpenAlex verglichen.\n",
    "\n",
    "# Nur Datensätze mit DOI berücksichtigen\n",
    "data_scopus_2010_mitdoi = data_scopus_2010[data_scopus_2010[\"doi\"].notnull()]\n",
    "data_openalex_2010_mitdoi = data_openalex_2010[data_openalex_2010[\"doi\"].notnull()]\n",
    "\n",
    "# Index aktualisieren\n",
    "data_scopus_2010_mitdoi.reset_index(drop=True, inplace=True)\n",
    "data_openalex_2010_mitdoi.reset_index(drop=True, inplace=True)\n",
    "\n",
    "print(data_scopus_2010_mitdoi.shape[0])\n",
    "print(data_openalex_2010_mitdoi.shape[0])"
   ]
  },
  {
   "cell_type": "code",
   "execution_count": 18,
   "metadata": {},
   "outputs": [],
   "source": [
    "for index_scopus, row_scopus in data_scopus_2010_mitdoi.iterrows():\n",
    "    for index_openalex, row_openalex in data_openalex_2010_mitdoi.iterrows():\n",
    "        if row_scopus[\"doi\"] == row_openalex[\"doi\"]:\n",
    "            # mark rows as matched\n",
    "            data_scopus_2010_mitdoi.iloc[\n",
    "                index_scopus, data_scopus_2010_mitdoi.columns.get_loc(\"matched\")\n",
    "            ] = True\n",
    "            data_openalex_2010_mitdoi.iloc[\n",
    "                index_openalex, data_openalex_2010_mitdoi.columns.get_loc(\"matched\")\n",
    "            ] = True\n",
    "            # write UUID to OpenAlex\n",
    "            data_openalex_2010_mitdoi.iloc[\n",
    "                index_openalex, data_openalex_2010_mitdoi.columns.get_loc(\"uuid\")\n",
    "            ] = row_scopus[\"uuid\"]"
   ]
  },
  {
   "cell_type": "code",
   "execution_count": 19,
   "metadata": {},
   "outputs": [
    {
     "name": "stdout",
     "output_type": "stream",
     "text": [
      "Es wurden 2872 übereinstimmende DOIs gefunden.\n"
     ]
    }
   ],
   "source": [
    "# No. of matched items\n",
    "data_scopus_2010_doi_matched = data_scopus_2010_mitdoi[\n",
    "    data_scopus_2010_mitdoi[\"matched\"] == True\n",
    "]\n",
    "data_openalex_2010_doi_matched = data_openalex_2010_mitdoi[\n",
    "    data_openalex_2010_mitdoi[\"matched\"] == True\n",
    "]\n",
    "num_scopus = data_scopus_2010_doi_matched.shape[0]\n",
    "num_openalex = data_openalex_2010_doi_matched.shape[0]\n",
    "\n",
    "if num_scopus == num_openalex:\n",
    "    print(f\"Es wurden {num_scopus} übereinstimmende DOIs gefunden.\")"
   ]
  },
  {
   "cell_type": "markdown",
   "metadata": {},
   "source": [
    "Für alle weiteren Datensätze wird in einem zweiten Schritt ein Matching anhand der Metadaten erzielt.   \n",
    "Die Entwicklung des genutzen Scores erfolgt in einem separaten Notebook ('05a_Matching_score.ipynb'). Hierfür wurden die per DOI gematchten Daten für die Zeitscheibe 2010 - 2013 genutzt."
   ]
  },
  {
   "cell_type": "code",
   "execution_count": null,
   "metadata": {},
   "outputs": [],
   "source": [
    "# scopus data\n",
    "data_doi_matched_scopus = data_scopus_2010_doi_matched[\n",
    "    [\n",
    "        \"eid\",\n",
    "        \"doi\",\n",
    "        \"title\",\n",
    "        \"name_1st_author\",\n",
    "        \"publicationName\",\n",
    "        \"volume\",\n",
    "        \"publication_year\",\n",
    "    ]\n",
    "].copy()\n",
    "data_doi_matched_scopus.rename(\n",
    "    columns={\n",
    "        \"eid\": \"scopus_id\",\n",
    "        \"title\": \"scopus_title\",\n",
    "        \"name_1st_author\": \"scopus_name_1st_author\",\n",
    "        \"publicationName\": \"scopus_source_title\",\n",
    "        \"volume\": \"scopus_volume\",\n",
    "        \"publication_year\": \"scopus_publication_year\",\n",
    "    },\n",
    "    inplace=True,\n",
    ")\n",
    "\n",
    "# openalex data\n",
    "data_doi_matched_openalex = data_openalex_2010_doi_matched[\n",
    "    [\n",
    "        \"id\",\n",
    "        \"doi\",\n",
    "        \"title\",\n",
    "        \"name_1st_author\",\n",
    "        \"source_title\",\n",
    "        \"volume\",\n",
    "        \"publication_year\",\n",
    "    ]\n",
    "].copy()\n",
    "data_doi_matched_openalex.rename(\n",
    "    columns={\n",
    "        \"id\": \"openalex_id\",\n",
    "        \"title\": \"openalex_title\",\n",
    "        \"name_1st_author\": \"openalex_name_1st_author\",\n",
    "        \"source_title\": \"openalex_source_title\",\n",
    "        \"volume\": \"openalex_volume\",\n",
    "        \"publication_year\": \"openalex_publication_year\",\n",
    "    },\n",
    "    inplace=True,\n",
    ")\n",
    "\n",
    "# join\n",
    "data_doi_matched = pd.merge(\n",
    "    data_doi_matched_scopus, data_doi_matched_openalex, on=\"doi\"\n",
    ")\n",
    "\n",
    "# save data\n",
    "data_doi_matched.to_csv(\"../data/processed/data_doi_matched.csv\", index=False)"
   ]
  },
  {
   "cell_type": "code",
   "execution_count": 20,
   "metadata": {},
   "outputs": [],
   "source": [
    "# Erstellung der noch zu matchenden Datensätze: ohne DOI und die mit DOI aber unmatched\n",
    "\n",
    "data_scopus_2010_doi_unmatched = data_scopus_2010_mitdoi[\n",
    "    data_scopus_2010_mitdoi[\"matched\"] == False\n",
    "]\n",
    "data_openalex_2010_doi_unmatched = data_openalex_2010_mitdoi[\n",
    "    data_openalex_2010_mitdoi[\"matched\"] == False\n",
    "]\n",
    "\n",
    "data_scopus_2010_nodoi = data_scopus_2010[data_scopus_2010[\"doi\"].isnull()]\n",
    "data_openalex_2010_nodoi = data_openalex_2010[data_openalex_2010[\"doi\"].isnull()]\n",
    "\n",
    "data_scopus_2010_unmatched = pd.concat(\n",
    "    [data_scopus_2010_doi_unmatched, data_scopus_2010_nodoi], ignore_index=True\n",
    ")\n",
    "data_openalex_2010_unmatched = pd.concat(\n",
    "    [data_openalex_2010_doi_unmatched, data_openalex_2010_nodoi], ignore_index=True\n",
    ")"
   ]
  },
  {
   "cell_type": "code",
   "execution_count": 21,
   "metadata": {},
   "outputs": [
    {
     "name": "stdout",
     "output_type": "stream",
     "text": [
      "Für Scopus sind 4006 Einträge vorhanden. Hiervon haben 3837 eine DOI und 169 keine DOI.\n",
      "Für OpenAlex sind 5001 Einträge vorhanden. Hiervon haben 4375 eine DOI und 626 keine DOI.\n"
     ]
    }
   ],
   "source": [
    "print(\n",
    "    f\"Für Scopus sind {data_scopus_2010.shape[0]} Einträge vorhanden. Hiervon haben {data_scopus_2010_mitdoi.shape[0]} eine DOI und {data_scopus_2010_nodoi.shape[0]} keine DOI.\"\n",
    ")\n",
    "print(\n",
    "    f\"Für OpenAlex sind {data_openalex_2010.shape[0]} Einträge vorhanden. Hiervon haben {data_openalex_2010_mitdoi.shape[0]} eine DOI und {data_openalex_2010_nodoi.shape[0]} keine DOI.\"\n",
    ")"
   ]
  },
  {
   "cell_type": "code",
   "execution_count": 22,
   "metadata": {},
   "outputs": [
    {
     "name": "stdout",
     "output_type": "stream",
     "text": [
      "Scopus ohne Titel: 0\n",
      "OpenAlex ohne Titel: 0 \n",
      "\n",
      "Scopus ohne Publikationsjahr: 0\n",
      "OpenAlex ohne Publikationsjahr: 0 \n",
      "\n",
      "Scopus ohne Autorennamen: 5\n",
      "OpenAlex ohne Autorennamen: 8 \n",
      "\n",
      "Scopus ohne Quellentitel: 0\n",
      "OpenAlex ohne Quellentitel: 641 \n",
      "\n",
      "Scopus ohne Ausgabe (Volume): 428\n",
      "OpenAlex ohne Ausgabe (Volume): 964\n",
      "\n",
      "Scopus ohne ISSN: 391\n",
      "OpenAlex ohne ISSN: 960\n",
      "\n",
      "Scopus ohne Seitenangaben: 1233\n",
      "OpenAlex ohne Seitenangaben: 1316\n",
      "\n",
      "Scopus ohne Abstract: 61\n",
      "OpenAlex ohne Abstract: 703\n"
     ]
    }
   ],
   "source": [
    "# ohne Titel\n",
    "print(\n",
    "    f\"Scopus ohne Titel: {data_scopus_2010[data_scopus_2010['scopus_title'].isnull()].shape[0]}\"\n",
    ")\n",
    "print(\n",
    "    f\"OpenAlex ohne Titel: {data_openalex_2010[data_openalex_2010['openalex_title'].isnull()].shape[0]} \\n\"\n",
    ")\n",
    "\n",
    "# ohne Publikationsjahr\n",
    "\n",
    "print(\n",
    "    f\"Scopus ohne Publikationsjahr: {data_scopus_2010[data_scopus_2010['scopus_publication_year'].isnull()].shape[0]}\"\n",
    ")\n",
    "print(\n",
    "    f\"OpenAlex ohne Publikationsjahr: {data_openalex_2010[data_openalex_2010['openalex_publication_year'].isnull()].shape[0]} \\n\"\n",
    ")\n",
    "\n",
    "# ohne Autornamen\n",
    "\n",
    "print(\n",
    "    f\"Scopus ohne Autorennamen: {data_scopus_2010[data_scopus_2010['scopus_name_1st_author'].isnull()].shape[0]}\"\n",
    ")\n",
    "print(\n",
    "    f\"OpenAlex ohne Autorennamen: {data_openalex_2010[data_openalex_2010['openalex_name_1st_author'].isnull()].shape[0]} \\n\"\n",
    ")\n",
    "\n",
    "# ohne Titel Quelle (e.g. Journal)\n",
    "\n",
    "print(\n",
    "    f\"Scopus ohne Quellentitel: {data_scopus_2010[data_scopus_2010['scopus_source_title'].isnull()].shape[0]}\"\n",
    ")\n",
    "print(\n",
    "    f\"OpenAlex ohne Quellentitel: {data_openalex_2010[data_openalex_2010['openalex_source_title'].isnull()].shape[0]} \\n\"\n",
    ")\n",
    "\n",
    "# ohne Volume\n",
    "\n",
    "print(\n",
    "    f\"Scopus ohne Ausgabe (Volume): {data_scopus_2010[data_scopus_2010['scopus_volume'].isnull()].shape[0]}\"\n",
    ")\n",
    "print(\n",
    "    f\"OpenAlex ohne Ausgabe (Volume): {data_openalex_2010[data_openalex_2010['openalex_volume'].isnull()].shape[0]}\\n\"\n",
    ")\n",
    "\n",
    "\n",
    "# ohne ISSN\n",
    "\n",
    "print(\n",
    "    f\"Scopus ohne ISSN: {data_scopus_2010[data_scopus_2010['issn'].isnull()].shape[0]}\"\n",
    ")\n",
    "print(\n",
    "    f\"OpenAlex ohne ISSN: {data_openalex_2010[data_openalex_2010['source_issn'].isnull()].shape[0]}\\n\"\n",
    ")\n",
    "\n",
    "\n",
    "# ohne Seitenangaben\n",
    "\n",
    "print(\n",
    "    f\"Scopus ohne Seitenangaben: {data_scopus_2010[data_scopus_2010['pageRange'].isnull()].shape[0]}\"\n",
    ")\n",
    "print(\n",
    "    f\"OpenAlex ohne Seitenangaben: {data_openalex_2010[data_openalex_2010['first_page'].isnull()].shape[0]}\\n\"\n",
    ")\n",
    "\n",
    "# ohne Abstract\n",
    "\n",
    "print(\n",
    "    f\"Scopus ohne Abstract: {data_scopus_2010[data_scopus_2010['description'].isnull()].shape[0]}\"\n",
    ")\n",
    "print(\n",
    "    f\"OpenAlex ohne Abstract: {data_openalex_2010[data_openalex_2010['abstract'].isnull()].shape[0]}\"\n",
    ")"
   ]
  },
  {
   "cell_type": "code",
   "execution_count": 23,
   "metadata": {},
   "outputs": [
    {
     "name": "stdout",
     "output_type": "stream",
     "text": [
      "1134\n",
      "2129\n",
      "0\n",
      "0\n"
     ]
    }
   ],
   "source": [
    "print(data_scopus_2010_unmatched.shape[0])\n",
    "print(data_openalex_2010_unmatched.shape[0])\n",
    "\n",
    "print(\n",
    "    data_scopus_2010_unmatched[data_scopus_2010_unmatched[\"matched\"] == True].shape[0]\n",
    ")\n",
    "print(\n",
    "    data_openalex_2010_unmatched[data_openalex_2010_unmatched[\"matched\"] == True].shape[\n",
    "        0\n",
    "    ]\n",
    ")"
   ]
  },
  {
   "cell_type": "code",
   "execution_count": null,
   "metadata": {},
   "outputs": [],
   "source": [
    "data_scopus_2010_unmatched"
   ]
  },
  {
   "cell_type": "code",
   "execution_count": 25,
   "metadata": {},
   "outputs": [],
   "source": [
    "# match rest of data\n",
    "matches_2010, score_matrix_2010 = score_matching(\n",
    "    data_scopus_2010_unmatched,\n",
    "    data_openalex_2010_unmatched,\n",
    "    title_penalty=0.1,\n",
    "    title_max=0.5,\n",
    "    source_penalty=0.1,\n",
    "    source_max=0.3,\n",
    "    author_penalty=0.1,\n",
    "    author_max=0.3,\n",
    "    score_cutoff=1.0,\n",
    ")"
   ]
  },
  {
   "cell_type": "code",
   "execution_count": 26,
   "metadata": {},
   "outputs": [],
   "source": [
    "# Entferne Matches mit unterschiedlicher DOI (vermutlich falsch positiv)\n",
    "matches_2010 = remove_matches_with_different_doi(\n",
    "    matches_2010, data_scopus_2010_mitdoi, data_openalex_2010_mitdoi\n",
    ")"
   ]
  },
  {
   "cell_type": "code",
   "execution_count": 27,
   "metadata": {},
   "outputs": [
    {
     "data": {
      "text/html": [
       "<div>\n",
       "<style scoped>\n",
       "    .dataframe tbody tr th:only-of-type {\n",
       "        vertical-align: middle;\n",
       "    }\n",
       "\n",
       "    .dataframe tbody tr th {\n",
       "        vertical-align: top;\n",
       "    }\n",
       "\n",
       "    .dataframe thead th {\n",
       "        text-align: right;\n",
       "    }\n",
       "</style>\n",
       "<table border=\"1\" class=\"dataframe\">\n",
       "  <thead>\n",
       "    <tr style=\"text-align: right;\">\n",
       "      <th></th>\n",
       "      <th>scopus_id</th>\n",
       "      <th>score</th>\n",
       "      <th>openalex_id</th>\n",
       "    </tr>\n",
       "  </thead>\n",
       "  <tbody>\n",
       "    <tr>\n",
       "      <th>0</th>\n",
       "      <td>2-s2.0-84887892210</td>\n",
       "      <td>1.093750</td>\n",
       "      <td>https://openalex.org/W2587422537</td>\n",
       "    </tr>\n",
       "    <tr>\n",
       "      <th>1</th>\n",
       "      <td>2-s2.0-84887868619</td>\n",
       "      <td>1.038793</td>\n",
       "      <td>https://openalex.org/W3036867614</td>\n",
       "    </tr>\n",
       "    <tr>\n",
       "      <th>2</th>\n",
       "      <td>2-s2.0-84887112409</td>\n",
       "      <td>1.041448</td>\n",
       "      <td>https://openalex.org/W590265867</td>\n",
       "    </tr>\n",
       "    <tr>\n",
       "      <th>3</th>\n",
       "      <td>2-s2.0-84889053031</td>\n",
       "      <td>1.044003</td>\n",
       "      <td>https://openalex.org/W343490430</td>\n",
       "    </tr>\n",
       "    <tr>\n",
       "      <th>4</th>\n",
       "      <td>2-s2.0-84883141524</td>\n",
       "      <td>1.062424</td>\n",
       "      <td>https://openalex.org/W278034884</td>\n",
       "    </tr>\n",
       "    <tr>\n",
       "      <th>5</th>\n",
       "      <td>2-s2.0-84880995336</td>\n",
       "      <td>1.006000</td>\n",
       "      <td>https://openalex.org/W2417444939</td>\n",
       "    </tr>\n",
       "    <tr>\n",
       "      <th>6</th>\n",
       "      <td>2-s2.0-84878700951</td>\n",
       "      <td>1.100000</td>\n",
       "      <td>https://openalex.org/W1188059325</td>\n",
       "    </tr>\n",
       "    <tr>\n",
       "      <th>7</th>\n",
       "      <td>2-s2.0-84878679783</td>\n",
       "      <td>1.100000</td>\n",
       "      <td>https://openalex.org/W2143765521</td>\n",
       "    </tr>\n",
       "    <tr>\n",
       "      <th>8</th>\n",
       "      <td>2-s2.0-84880858566</td>\n",
       "      <td>1.048907</td>\n",
       "      <td>https://openalex.org/W592904155</td>\n",
       "    </tr>\n",
       "    <tr>\n",
       "      <th>9</th>\n",
       "      <td>2-s2.0-78651500481</td>\n",
       "      <td>1.008333</td>\n",
       "      <td>https://openalex.org/W3144443442</td>\n",
       "    </tr>\n",
       "    <tr>\n",
       "      <th>10</th>\n",
       "      <td>2-s2.0-84898074402</td>\n",
       "      <td>1.048485</td>\n",
       "      <td>https://openalex.org/W2318135859</td>\n",
       "    </tr>\n",
       "    <tr>\n",
       "      <th>11</th>\n",
       "      <td>2-s2.0-84898063528</td>\n",
       "      <td>1.048485</td>\n",
       "      <td>https://openalex.org/W2313617301</td>\n",
       "    </tr>\n",
       "    <tr>\n",
       "      <th>12</th>\n",
       "      <td>2-s2.0-84887844562</td>\n",
       "      <td>1.048951</td>\n",
       "      <td>https://openalex.org/W1683448281</td>\n",
       "    </tr>\n",
       "    <tr>\n",
       "      <th>13</th>\n",
       "      <td>2-s2.0-84884574628</td>\n",
       "      <td>1.017391</td>\n",
       "      <td>https://openalex.org/W2725088738</td>\n",
       "    </tr>\n",
       "    <tr>\n",
       "      <th>14</th>\n",
       "      <td>2-s2.0-84884555996</td>\n",
       "      <td>1.100000</td>\n",
       "      <td>https://openalex.org/W4382585062</td>\n",
       "    </tr>\n",
       "    <tr>\n",
       "      <th>15</th>\n",
       "      <td>2-s2.0-84883056133</td>\n",
       "      <td>1.080488</td>\n",
       "      <td>https://openalex.org/W2141198345</td>\n",
       "    </tr>\n",
       "    <tr>\n",
       "      <th>16</th>\n",
       "      <td>2-s2.0-84907300889</td>\n",
       "      <td>1.003488</td>\n",
       "      <td>https://openalex.org/W2169335962</td>\n",
       "    </tr>\n",
       "    <tr>\n",
       "      <th>17</th>\n",
       "      <td>2-s2.0-84897440438</td>\n",
       "      <td>1.020000</td>\n",
       "      <td>https://openalex.org/W2096959000</td>\n",
       "    </tr>\n",
       "    <tr>\n",
       "      <th>18</th>\n",
       "      <td>2-s2.0-84872585686</td>\n",
       "      <td>1.061290</td>\n",
       "      <td>https://openalex.org/W3114855679</td>\n",
       "    </tr>\n",
       "    <tr>\n",
       "      <th>19</th>\n",
       "      <td>2-s2.0-84885672276</td>\n",
       "      <td>1.001808</td>\n",
       "      <td>https://openalex.org/W2181800337</td>\n",
       "    </tr>\n",
       "    <tr>\n",
       "      <th>20</th>\n",
       "      <td>2-s2.0-84885590391</td>\n",
       "      <td>1.007982</td>\n",
       "      <td>https://openalex.org/W187949764</td>\n",
       "    </tr>\n",
       "    <tr>\n",
       "      <th>21</th>\n",
       "      <td>2-s2.0-84875743294</td>\n",
       "      <td>1.007857</td>\n",
       "      <td>https://openalex.org/W4378376796</td>\n",
       "    </tr>\n",
       "    <tr>\n",
       "      <th>22</th>\n",
       "      <td>2-s2.0-84867909219</td>\n",
       "      <td>1.048611</td>\n",
       "      <td>https://openalex.org/W1838703554</td>\n",
       "    </tr>\n",
       "    <tr>\n",
       "      <th>23</th>\n",
       "      <td>2-s2.0-84867871169</td>\n",
       "      <td>1.058937</td>\n",
       "      <td>https://openalex.org/W3036139952</td>\n",
       "    </tr>\n",
       "    <tr>\n",
       "      <th>24</th>\n",
       "      <td>2-s2.0-84863844261</td>\n",
       "      <td>1.098742</td>\n",
       "      <td>https://openalex.org/W2263143652</td>\n",
       "    </tr>\n",
       "    <tr>\n",
       "      <th>25</th>\n",
       "      <td>2-s2.0-84865058338</td>\n",
       "      <td>1.033029</td>\n",
       "      <td>https://openalex.org/W2375114237</td>\n",
       "    </tr>\n",
       "    <tr>\n",
       "      <th>26</th>\n",
       "      <td>2-s2.0-84860721179</td>\n",
       "      <td>1.013258</td>\n",
       "      <td>https://openalex.org/W1536430608</td>\n",
       "    </tr>\n",
       "    <tr>\n",
       "      <th>27</th>\n",
       "      <td>2-s2.0-84860704284</td>\n",
       "      <td>1.013475</td>\n",
       "      <td>https://openalex.org/W1497883881</td>\n",
       "    </tr>\n",
       "    <tr>\n",
       "      <th>28</th>\n",
       "      <td>2-s2.0-85020271706</td>\n",
       "      <td>1.010465</td>\n",
       "      <td>https://openalex.org/W2980309246</td>\n",
       "    </tr>\n",
       "    <tr>\n",
       "      <th>29</th>\n",
       "      <td>2-s2.0-84944653236</td>\n",
       "      <td>1.100000</td>\n",
       "      <td>https://openalex.org/W2408194187</td>\n",
       "    </tr>\n",
       "    <tr>\n",
       "      <th>30</th>\n",
       "      <td>2-s2.0-84911387671</td>\n",
       "      <td>1.002308</td>\n",
       "      <td>https://openalex.org/W2098501271</td>\n",
       "    </tr>\n",
       "    <tr>\n",
       "      <th>31</th>\n",
       "      <td>2-s2.0-84867471767</td>\n",
       "      <td>1.096154</td>\n",
       "      <td>https://openalex.org/W1638022320</td>\n",
       "    </tr>\n",
       "    <tr>\n",
       "      <th>32</th>\n",
       "      <td>2-s2.0-84863795341</td>\n",
       "      <td>1.098333</td>\n",
       "      <td>https://openalex.org/W2579902150</td>\n",
       "    </tr>\n",
       "    <tr>\n",
       "      <th>33</th>\n",
       "      <td>2-s2.0-84893599973</td>\n",
       "      <td>1.020536</td>\n",
       "      <td>https://openalex.org/W2229231060</td>\n",
       "    </tr>\n",
       "    <tr>\n",
       "      <th>34</th>\n",
       "      <td>2-s2.0-84881067757</td>\n",
       "      <td>1.084615</td>\n",
       "      <td>https://openalex.org/W1750562632</td>\n",
       "    </tr>\n",
       "    <tr>\n",
       "      <th>35</th>\n",
       "      <td>2-s2.0-84863297426</td>\n",
       "      <td>1.072528</td>\n",
       "      <td>https://openalex.org/W2096119584</td>\n",
       "    </tr>\n",
       "    <tr>\n",
       "      <th>36</th>\n",
       "      <td>2-s2.0-84861091090</td>\n",
       "      <td>1.048780</td>\n",
       "      <td>https://openalex.org/W2056445665</td>\n",
       "    </tr>\n",
       "    <tr>\n",
       "      <th>37</th>\n",
       "      <td>2-s2.0-84860746841</td>\n",
       "      <td>1.025000</td>\n",
       "      <td>https://openalex.org/W4378447408</td>\n",
       "    </tr>\n",
       "    <tr>\n",
       "      <th>38</th>\n",
       "      <td>2-s2.0-84858219271</td>\n",
       "      <td>1.071229</td>\n",
       "      <td>https://openalex.org/W2135904835</td>\n",
       "    </tr>\n",
       "    <tr>\n",
       "      <th>39</th>\n",
       "      <td>2-s2.0-84855776491</td>\n",
       "      <td>1.010395</td>\n",
       "      <td>https://openalex.org/W2597780944</td>\n",
       "    </tr>\n",
       "    <tr>\n",
       "      <th>40</th>\n",
       "      <td>2-s2.0-80053458333</td>\n",
       "      <td>1.012500</td>\n",
       "      <td>https://openalex.org/W2242290833</td>\n",
       "    </tr>\n",
       "    <tr>\n",
       "      <th>41</th>\n",
       "      <td>2-s2.0-79958220314</td>\n",
       "      <td>1.061290</td>\n",
       "      <td>https://openalex.org/W2247366056</td>\n",
       "    </tr>\n",
       "    <tr>\n",
       "      <th>42</th>\n",
       "      <td>2-s2.0-85054884593</td>\n",
       "      <td>1.003409</td>\n",
       "      <td>https://openalex.org/W576577634</td>\n",
       "    </tr>\n",
       "    <tr>\n",
       "      <th>43</th>\n",
       "      <td>2-s2.0-78649457156</td>\n",
       "      <td>1.007407</td>\n",
       "      <td>https://openalex.org/W3195428747</td>\n",
       "    </tr>\n",
       "    <tr>\n",
       "      <th>44</th>\n",
       "      <td>2-s2.0-84896767109</td>\n",
       "      <td>1.048485</td>\n",
       "      <td>https://openalex.org/W2323994595</td>\n",
       "    </tr>\n",
       "    <tr>\n",
       "      <th>45</th>\n",
       "      <td>2-s2.0-84887331048</td>\n",
       "      <td>1.003093</td>\n",
       "      <td>https://openalex.org/W2303656131</td>\n",
       "    </tr>\n",
       "    <tr>\n",
       "      <th>46</th>\n",
       "      <td>2-s2.0-79956100431</td>\n",
       "      <td>1.064833</td>\n",
       "      <td>https://openalex.org/W2538759061</td>\n",
       "    </tr>\n",
       "    <tr>\n",
       "      <th>47</th>\n",
       "      <td>2-s2.0-79951937609</td>\n",
       "      <td>1.068000</td>\n",
       "      <td>https://openalex.org/W2123784581</td>\n",
       "    </tr>\n",
       "    <tr>\n",
       "      <th>48</th>\n",
       "      <td>2-s2.0-77957852195</td>\n",
       "      <td>1.085714</td>\n",
       "      <td>https://openalex.org/W1531779540</td>\n",
       "    </tr>\n",
       "    <tr>\n",
       "      <th>49</th>\n",
       "      <td>2-s2.0-77957844962</td>\n",
       "      <td>1.085714</td>\n",
       "      <td>https://openalex.org/W1569984057</td>\n",
       "    </tr>\n",
       "    <tr>\n",
       "      <th>50</th>\n",
       "      <td>2-s2.0-77957832589</td>\n",
       "      <td>1.003896</td>\n",
       "      <td>https://openalex.org/W1586886734</td>\n",
       "    </tr>\n",
       "    <tr>\n",
       "      <th>51</th>\n",
       "      <td>2-s2.0-77956315822</td>\n",
       "      <td>1.003093</td>\n",
       "      <td>https://openalex.org/W71251282</td>\n",
       "    </tr>\n",
       "  </tbody>\n",
       "</table>\n",
       "</div>"
      ],
      "text/plain": [
       "             scopus_id     score                       openalex_id\n",
       "0   2-s2.0-84887892210  1.093750  https://openalex.org/W2587422537\n",
       "1   2-s2.0-84887868619  1.038793  https://openalex.org/W3036867614\n",
       "2   2-s2.0-84887112409  1.041448   https://openalex.org/W590265867\n",
       "3   2-s2.0-84889053031  1.044003   https://openalex.org/W343490430\n",
       "4   2-s2.0-84883141524  1.062424   https://openalex.org/W278034884\n",
       "5   2-s2.0-84880995336  1.006000  https://openalex.org/W2417444939\n",
       "6   2-s2.0-84878700951  1.100000  https://openalex.org/W1188059325\n",
       "7   2-s2.0-84878679783  1.100000  https://openalex.org/W2143765521\n",
       "8   2-s2.0-84880858566  1.048907   https://openalex.org/W592904155\n",
       "9   2-s2.0-78651500481  1.008333  https://openalex.org/W3144443442\n",
       "10  2-s2.0-84898074402  1.048485  https://openalex.org/W2318135859\n",
       "11  2-s2.0-84898063528  1.048485  https://openalex.org/W2313617301\n",
       "12  2-s2.0-84887844562  1.048951  https://openalex.org/W1683448281\n",
       "13  2-s2.0-84884574628  1.017391  https://openalex.org/W2725088738\n",
       "14  2-s2.0-84884555996  1.100000  https://openalex.org/W4382585062\n",
       "15  2-s2.0-84883056133  1.080488  https://openalex.org/W2141198345\n",
       "16  2-s2.0-84907300889  1.003488  https://openalex.org/W2169335962\n",
       "17  2-s2.0-84897440438  1.020000  https://openalex.org/W2096959000\n",
       "18  2-s2.0-84872585686  1.061290  https://openalex.org/W3114855679\n",
       "19  2-s2.0-84885672276  1.001808  https://openalex.org/W2181800337\n",
       "20  2-s2.0-84885590391  1.007982   https://openalex.org/W187949764\n",
       "21  2-s2.0-84875743294  1.007857  https://openalex.org/W4378376796\n",
       "22  2-s2.0-84867909219  1.048611  https://openalex.org/W1838703554\n",
       "23  2-s2.0-84867871169  1.058937  https://openalex.org/W3036139952\n",
       "24  2-s2.0-84863844261  1.098742  https://openalex.org/W2263143652\n",
       "25  2-s2.0-84865058338  1.033029  https://openalex.org/W2375114237\n",
       "26  2-s2.0-84860721179  1.013258  https://openalex.org/W1536430608\n",
       "27  2-s2.0-84860704284  1.013475  https://openalex.org/W1497883881\n",
       "28  2-s2.0-85020271706  1.010465  https://openalex.org/W2980309246\n",
       "29  2-s2.0-84944653236  1.100000  https://openalex.org/W2408194187\n",
       "30  2-s2.0-84911387671  1.002308  https://openalex.org/W2098501271\n",
       "31  2-s2.0-84867471767  1.096154  https://openalex.org/W1638022320\n",
       "32  2-s2.0-84863795341  1.098333  https://openalex.org/W2579902150\n",
       "33  2-s2.0-84893599973  1.020536  https://openalex.org/W2229231060\n",
       "34  2-s2.0-84881067757  1.084615  https://openalex.org/W1750562632\n",
       "35  2-s2.0-84863297426  1.072528  https://openalex.org/W2096119584\n",
       "36  2-s2.0-84861091090  1.048780  https://openalex.org/W2056445665\n",
       "37  2-s2.0-84860746841  1.025000  https://openalex.org/W4378447408\n",
       "38  2-s2.0-84858219271  1.071229  https://openalex.org/W2135904835\n",
       "39  2-s2.0-84855776491  1.010395  https://openalex.org/W2597780944\n",
       "40  2-s2.0-80053458333  1.012500  https://openalex.org/W2242290833\n",
       "41  2-s2.0-79958220314  1.061290  https://openalex.org/W2247366056\n",
       "42  2-s2.0-85054884593  1.003409   https://openalex.org/W576577634\n",
       "43  2-s2.0-78649457156  1.007407  https://openalex.org/W3195428747\n",
       "44  2-s2.0-84896767109  1.048485  https://openalex.org/W2323994595\n",
       "45  2-s2.0-84887331048  1.003093  https://openalex.org/W2303656131\n",
       "46  2-s2.0-79956100431  1.064833  https://openalex.org/W2538759061\n",
       "47  2-s2.0-79951937609  1.068000  https://openalex.org/W2123784581\n",
       "48  2-s2.0-77957852195  1.085714  https://openalex.org/W1531779540\n",
       "49  2-s2.0-77957844962  1.085714  https://openalex.org/W1569984057\n",
       "50  2-s2.0-77957832589  1.003896  https://openalex.org/W1586886734\n",
       "51  2-s2.0-77956315822  1.003093    https://openalex.org/W71251282"
      ]
     },
     "execution_count": 27,
     "metadata": {},
     "output_type": "execute_result"
    }
   ],
   "source": [
    "matches_2010_df = pd.DataFrame.from_dict(matches_2010)\n",
    "matches_2010_df"
   ]
  },
  {
   "cell_type": "code",
   "execution_count": 28,
   "metadata": {},
   "outputs": [
    {
     "data": {
      "text/html": [
       "<div>\n",
       "<style scoped>\n",
       "    .dataframe tbody tr th:only-of-type {\n",
       "        vertical-align: middle;\n",
       "    }\n",
       "\n",
       "    .dataframe tbody tr th {\n",
       "        vertical-align: top;\n",
       "    }\n",
       "\n",
       "    .dataframe thead th {\n",
       "        text-align: right;\n",
       "    }\n",
       "</style>\n",
       "<table border=\"1\" class=\"dataframe\">\n",
       "  <thead>\n",
       "    <tr style=\"text-align: right;\">\n",
       "      <th></th>\n",
       "      <th>scopus_id</th>\n",
       "      <th>score</th>\n",
       "      <th>openalex_id</th>\n",
       "    </tr>\n",
       "  </thead>\n",
       "  <tbody>\n",
       "  </tbody>\n",
       "</table>\n",
       "</div>"
      ],
      "text/plain": [
       "Empty DataFrame\n",
       "Columns: [scopus_id, score, openalex_id]\n",
       "Index: []"
      ]
     },
     "execution_count": 28,
     "metadata": {},
     "output_type": "execute_result"
    }
   ],
   "source": [
    "matches_2010_df[matches_2010_df.duplicated(\"scopus_id\", keep=False)]"
   ]
  },
  {
   "cell_type": "code",
   "execution_count": 29,
   "metadata": {},
   "outputs": [
    {
     "data": {
      "text/html": [
       "<div>\n",
       "<style scoped>\n",
       "    .dataframe tbody tr th:only-of-type {\n",
       "        vertical-align: middle;\n",
       "    }\n",
       "\n",
       "    .dataframe tbody tr th {\n",
       "        vertical-align: top;\n",
       "    }\n",
       "\n",
       "    .dataframe thead th {\n",
       "        text-align: right;\n",
       "    }\n",
       "</style>\n",
       "<table border=\"1\" class=\"dataframe\">\n",
       "  <thead>\n",
       "    <tr style=\"text-align: right;\">\n",
       "      <th></th>\n",
       "      <th>scopus_id</th>\n",
       "      <th>score</th>\n",
       "      <th>openalex_id</th>\n",
       "    </tr>\n",
       "  </thead>\n",
       "  <tbody>\n",
       "  </tbody>\n",
       "</table>\n",
       "</div>"
      ],
      "text/plain": [
       "Empty DataFrame\n",
       "Columns: [scopus_id, score, openalex_id]\n",
       "Index: []"
      ]
     },
     "execution_count": 29,
     "metadata": {},
     "output_type": "execute_result"
    }
   ],
   "source": [
    "matches_2010_df[matches_2010_df.duplicated(\"openalex_id\", keep=False)]"
   ]
  },
  {
   "cell_type": "code",
   "execution_count": 30,
   "metadata": {},
   "outputs": [],
   "source": [
    "# copy results back to dataframes\n",
    "data_openalex_2010_unmatched[\"score\"] = None\n",
    "for match in matches_2010:\n",
    "    # set entries as matched\n",
    "    index_scopus = data_scopus_2010_unmatched[\n",
    "        data_scopus_2010_unmatched[\"scopus_id\"] == match[\"scopus_id\"]\n",
    "    ].index.to_list()[0]\n",
    "    index_openalex = data_openalex_2010_unmatched[\n",
    "        data_openalex_2010_unmatched[\"openalex_id\"] == match[\"openalex_id\"]\n",
    "    ].index.to_list()[0]\n",
    "\n",
    "    data_scopus_2010_unmatched.iloc[\n",
    "        index_scopus, data_scopus_2010_unmatched.columns.get_loc(\"matched\")\n",
    "    ] = True\n",
    "    data_openalex_2010_unmatched.iloc[\n",
    "        index_openalex, data_openalex_2010_unmatched.columns.get_loc(\"matched\")\n",
    "    ] = True\n",
    "\n",
    "    # write UUID to OpenAlex\n",
    "    uuid_scopus = data_scopus_2010_unmatched.iloc[\n",
    "        index_scopus, data_scopus_2010_unmatched.columns.get_loc(\"uuid\")\n",
    "    ]\n",
    "    data_openalex_2010_unmatched.iloc[\n",
    "        index_openalex, data_openalex_2010_unmatched.columns.get_loc(\"uuid\")\n",
    "    ] = uuid_scopus\n",
    "\n",
    "    # write score to openalex data\n",
    "    data_openalex_2010_unmatched.iloc[\n",
    "        index_openalex, data_openalex_2010_unmatched.columns.get_loc(\"score\")\n",
    "    ] = match[\"score\"]"
   ]
  },
  {
   "cell_type": "code",
   "execution_count": 31,
   "metadata": {},
   "outputs": [
    {
     "data": {
      "text/plain": [
       "52"
      ]
     },
     "execution_count": 31,
     "metadata": {},
     "output_type": "execute_result"
    }
   ],
   "source": [
    "data_scopus_2010_unmatched[data_scopus_2010_unmatched[\"matched\"] == True].shape[0]"
   ]
  },
  {
   "cell_type": "code",
   "execution_count": 32,
   "metadata": {},
   "outputs": [
    {
     "data": {
      "text/plain": [
       "1082"
      ]
     },
     "execution_count": 32,
     "metadata": {},
     "output_type": "execute_result"
    }
   ],
   "source": [
    "data_scopus_2010_unmatched[data_scopus_2010_unmatched[\"matched\"] == False].shape[0]"
   ]
  },
  {
   "cell_type": "code",
   "execution_count": 33,
   "metadata": {},
   "outputs": [
    {
     "data": {
      "text/plain": [
       "2077"
      ]
     },
     "execution_count": 33,
     "metadata": {},
     "output_type": "execute_result"
    }
   ],
   "source": [
    "data_openalex_2010_unmatched[data_openalex_2010_unmatched[\"matched\"] == False].shape[0]"
   ]
  },
  {
   "cell_type": "code",
   "execution_count": 34,
   "metadata": {},
   "outputs": [
    {
     "name": "stdout",
     "output_type": "stream",
     "text": [
      "Es wurden 52 übereinstimmende DOIs gefunden.\n"
     ]
    }
   ],
   "source": [
    "# No. of matched items\n",
    "data_scopus_2010_score_matched = data_scopus_2010_unmatched[\n",
    "    data_scopus_2010_unmatched[\"matched\"] == True\n",
    "]\n",
    "data_openalex_2010_score_matched = data_openalex_2010_unmatched[\n",
    "    data_openalex_2010_unmatched[\"matched\"] == True\n",
    "]\n",
    "num_scopus = data_scopus_2010_score_matched.shape[0]\n",
    "num_openalex = data_openalex_2010_score_matched.shape[0]\n",
    "\n",
    "if num_scopus == num_openalex:\n",
    "    print(f\"Es wurden {num_scopus} übereinstimmende DOIs gefunden.\")"
   ]
  },
  {
   "cell_type": "code",
   "execution_count": 35,
   "metadata": {},
   "outputs": [
    {
     "data": {
      "text/html": [
       "<div>\n",
       "<style scoped>\n",
       "    .dataframe tbody tr th:only-of-type {\n",
       "        vertical-align: middle;\n",
       "    }\n",
       "\n",
       "    .dataframe tbody tr th {\n",
       "        vertical-align: top;\n",
       "    }\n",
       "\n",
       "    .dataframe thead th {\n",
       "        text-align: right;\n",
       "    }\n",
       "</style>\n",
       "<table border=\"1\" class=\"dataframe\">\n",
       "  <thead>\n",
       "    <tr style=\"text-align: right;\">\n",
       "      <th></th>\n",
       "      <th>openalex_id</th>\n",
       "      <th>doi</th>\n",
       "      <th>openalex_title</th>\n",
       "      <th>type</th>\n",
       "      <th>publication_date</th>\n",
       "      <th>openalex_publication_year</th>\n",
       "      <th>openalex_volume</th>\n",
       "      <th>issue</th>\n",
       "      <th>first_page</th>\n",
       "      <th>last_page</th>\n",
       "      <th>...</th>\n",
       "      <th>abstract</th>\n",
       "      <th>openalex_source_title</th>\n",
       "      <th>source_issn</th>\n",
       "      <th>source_type</th>\n",
       "      <th>cited_by_count</th>\n",
       "      <th>referenced_works</th>\n",
       "      <th>openalex_name_1st_author</th>\n",
       "      <th>uuid</th>\n",
       "      <th>matched</th>\n",
       "      <th>score</th>\n",
       "    </tr>\n",
       "  </thead>\n",
       "  <tbody>\n",
       "  </tbody>\n",
       "</table>\n",
       "<p>0 rows × 22 columns</p>\n",
       "</div>"
      ],
      "text/plain": [
       "Empty DataFrame\n",
       "Columns: [openalex_id, doi, openalex_title, type, publication_date, openalex_publication_year, openalex_volume, issue, first_page, last_page, authors, keywords, abstract, openalex_source_title, source_issn, source_type, cited_by_count, referenced_works, openalex_name_1st_author, uuid, matched, score]\n",
       "Index: []\n",
       "\n",
       "[0 rows x 22 columns]"
      ]
     },
     "execution_count": 35,
     "metadata": {},
     "output_type": "execute_result"
    }
   ],
   "source": [
    "# entries in openalex with same uuid??\n",
    "data_openalex_matched = data_openalex_2010_unmatched[\n",
    "    data_openalex_2010_unmatched[\"matched\"] == True\n",
    "]\n",
    "data_openalex_matched[data_openalex_matched.duplicated(\"uuid\", keep=False)]"
   ]
  },
  {
   "cell_type": "code",
   "execution_count": 36,
   "metadata": {},
   "outputs": [],
   "source": [
    "# Ergebnisse aus beiden Matching Schritten zusammen führen\n",
    "\n",
    "data_scopus_2010_matched = pd.concat(\n",
    "    [data_scopus_2010_doi_matched, data_scopus_2010_score_matched]\n",
    ")\n",
    "data_openalex_2010_matched = pd.concat(\n",
    "    [data_openalex_2010_doi_matched, data_openalex_2010_score_matched]\n",
    ")\n",
    "\n",
    "data_2010_matched = pd.merge(\n",
    "    data_scopus_2010_matched, data_openalex_2010_matched, on=\"uuid\"\n",
    ")\n",
    "\n",
    "# Spalten umbenennen\n",
    "data_2010_matched.rename(\n",
    "    columns={\n",
    "        \"matched_y\": \"matched\",\n",
    "        \"doi_x\": \"doi\",\n",
    "    },\n",
    "    inplace=True,\n",
    ")\n",
    "\n",
    "# Spalte uuid nicht mit abspeichern\n",
    "data_2010_matched.drop(columns=[\"uuid\", \"matched_x\", \"doi_y\"], inplace=True)"
   ]
  },
  {
   "cell_type": "code",
   "execution_count": 37,
   "metadata": {},
   "outputs": [
    {
     "data": {
      "text/plain": [
       "Index(['scopus_id', 'doi', 'pii', 'pubmed_id', 'scopus_title', 'subtype',\n",
       "       'subtypeDescription', 'creator', 'afid', 'affilname',\n",
       "       'affiliation_city', 'affiliation_country', 'author_count',\n",
       "       'author_names', 'author_ids', 'author_afids', 'coverDate',\n",
       "       'coverDisplayDate', 'scopus_source_title', 'issn', 'source_id', 'eIssn',\n",
       "       'aggregationType', 'scopus_volume', 'issueIdentifier', 'article_number',\n",
       "       'pageRange', 'description', 'authkeywords', 'citedby_count',\n",
       "       'openaccess', 'freetoread', 'freetoreadLabel', 'fund_acr', 'fund_no',\n",
       "       'fund_sponsor', 'scopus_name_1st_author', 'scopus_publication_year',\n",
       "       'openalex_id', 'openalex_title', 'type', 'publication_date',\n",
       "       'openalex_publication_year', 'openalex_volume', 'issue', 'first_page',\n",
       "       'last_page', 'authors', 'keywords', 'abstract', 'openalex_source_title',\n",
       "       'source_issn', 'source_type', 'cited_by_count', 'referenced_works',\n",
       "       'openalex_name_1st_author', 'matched', 'score'],\n",
       "      dtype='object')"
      ]
     },
     "execution_count": 37,
     "metadata": {},
     "output_type": "execute_result"
    }
   ],
   "source": [
    "data_2010_matched.columns"
   ]
  },
  {
   "cell_type": "code",
   "execution_count": 38,
   "metadata": {},
   "outputs": [],
   "source": [
    "# Daten speichern\n",
    "data_2010_matched.to_csv(\"../data/diff/data_2010_matched.csv\")\n",
    "\n",
    "data_scopus_2010_unmatched[data_scopus_2010_unmatched[\"matched\"] == False].to_csv(\n",
    "    \"../data/diff/data_2010_only_scopus.csv\"\n",
    ")\n",
    "data_openalex_2010_unmatched[data_openalex_2010_unmatched[\"matched\"] == False].to_csv(\n",
    "    \"../data/diff/data_2010_only_openalex.csv\"\n",
    ")"
   ]
  },
  {
   "cell_type": "code",
   "execution_count": 39,
   "metadata": {},
   "outputs": [],
   "source": [
    "# Daten für Veröffentlichung (nur DOI, EID und ID)\n",
    "df_2010_matched = data_2010_matched[\n",
    "    [\n",
    "        \"doi\",\n",
    "        \"scopus_id\",\n",
    "        \"openalex_id\",\n",
    "    ]\n",
    "]\n",
    "df_2010_only_scopus = data_scopus_2010_unmatched[\n",
    "    [\n",
    "        \"doi\",\n",
    "        \"scopus_id\",\n",
    "    ]\n",
    "]\n",
    "df_2010_only_openalex = data_openalex_2010_unmatched[\n",
    "    [\n",
    "        \"doi\",\n",
    "        \"openalex_id\",\n",
    "    ]\n",
    "]\n",
    "\n",
    "df_2010_matched_all = pd.concat(\n",
    "    [df_2010_matched, df_2010_only_scopus, df_2010_only_openalex]\n",
    ")"
   ]
  },
  {
   "cell_type": "code",
   "execution_count": 40,
   "metadata": {},
   "outputs": [
    {
     "data": {
      "text/plain": [
       "True"
      ]
     },
     "execution_count": 40,
     "metadata": {},
     "output_type": "execute_result"
    }
   ],
   "source": [
    "# check: correct df size\n",
    "df_2010_matched_all.shape[0] == (\n",
    "    df_2010_matched.shape[0]\n",
    "    + df_2010_only_scopus.shape[0]\n",
    "    + df_2010_only_openalex.shape[0]\n",
    ")"
   ]
  },
  {
   "cell_type": "code",
   "execution_count": 41,
   "metadata": {},
   "outputs": [],
   "source": [
    "# Daten speichern\n",
    "df_2010_matched_all.to_csv(\"../data/diff/data_2010_matching_results.csv\")"
   ]
  },
  {
   "cell_type": "markdown",
   "metadata": {},
   "source": [
    "## Zeitscheibe 2: 2020 - 2023<a class=\"anchor\" id=\"2020\"></a>"
   ]
  },
  {
   "cell_type": "code",
   "execution_count": 42,
   "metadata": {},
   "outputs": [],
   "source": [
    "# Daten einlesen\n",
    "data_scopus_2020 = pd.read_csv(\"../data/processed/data_scopus_2020_cleaned.csv\")\n",
    "data_openalex_2020 = pd.read_csv(\"../data/processed/data_openalex_2020_cleaned.csv\")"
   ]
  },
  {
   "cell_type": "code",
   "execution_count": 43,
   "metadata": {},
   "outputs": [],
   "source": [
    "# Spaltennamen umbennnen für Abgleich\n",
    "data_scopus_2020.rename(\n",
    "    columns={\n",
    "        \"eid\": \"scopus_id\",\n",
    "        \"title\": \"scopus_title\",\n",
    "        \"name_1st_author\": \"scopus_name_1st_author\",\n",
    "        \"publicationName\": \"scopus_source_title\",\n",
    "        \"volume\": \"scopus_volume\",\n",
    "        \"publication_year\": \"scopus_publication_year\",\n",
    "    },\n",
    "    inplace=True,\n",
    ")\n",
    "data_openalex_2020.rename(\n",
    "    columns={\n",
    "        \"id\": \"openalex_id\",\n",
    "        \"title\": \"openalex_title\",\n",
    "        \"name_1st_author\": \"openalex_name_1st_author\",\n",
    "        \"source_title\": \"openalex_source_title\",\n",
    "        \"volume\": \"openalex_volume\",\n",
    "        \"publication_year\": \"openalex_publication_year\",\n",
    "    },\n",
    "    inplace=True,\n",
    ")"
   ]
  },
  {
   "cell_type": "code",
   "execution_count": null,
   "metadata": {},
   "outputs": [],
   "source": [
    "data_scopus_2020.head()"
   ]
  },
  {
   "cell_type": "code",
   "execution_count": 45,
   "metadata": {},
   "outputs": [
    {
     "data": {
      "text/html": [
       "<div>\n",
       "<style scoped>\n",
       "    .dataframe tbody tr th:only-of-type {\n",
       "        vertical-align: middle;\n",
       "    }\n",
       "\n",
       "    .dataframe tbody tr th {\n",
       "        vertical-align: top;\n",
       "    }\n",
       "\n",
       "    .dataframe thead th {\n",
       "        text-align: right;\n",
       "    }\n",
       "</style>\n",
       "<table border=\"1\" class=\"dataframe\">\n",
       "  <thead>\n",
       "    <tr style=\"text-align: right;\">\n",
       "      <th></th>\n",
       "      <th>openalex_id</th>\n",
       "      <th>doi</th>\n",
       "      <th>openalex_title</th>\n",
       "      <th>type</th>\n",
       "      <th>publication_date</th>\n",
       "      <th>openalex_publication_year</th>\n",
       "      <th>openalex_volume</th>\n",
       "      <th>issue</th>\n",
       "      <th>first_page</th>\n",
       "      <th>last_page</th>\n",
       "      <th>authors</th>\n",
       "      <th>keywords</th>\n",
       "      <th>abstract</th>\n",
       "      <th>openalex_source_title</th>\n",
       "      <th>source_issn</th>\n",
       "      <th>source_type</th>\n",
       "      <th>cited_by_count</th>\n",
       "      <th>referenced_works</th>\n",
       "      <th>openalex_name_1st_author</th>\n",
       "    </tr>\n",
       "  </thead>\n",
       "  <tbody>\n",
       "    <tr>\n",
       "      <th>0</th>\n",
       "      <td>https://openalex.org/W3001010696</td>\n",
       "      <td>10.1063/1.5133390</td>\n",
       "      <td>understanding chemical and physical mechanisms...</td>\n",
       "      <td>article</td>\n",
       "      <td>2020-01-22</td>\n",
       "      <td>2020</td>\n",
       "      <td>152</td>\n",
       "      <td>4</td>\n",
       "      <td>NaN</td>\n",
       "      <td>NaN</td>\n",
       "      <td>Nathaniel E. Richey, Camila de Paula, Stacey F...</td>\n",
       "      <td>Chemisorption, Deposition, Atomic layer epitaxy</td>\n",
       "      <td>Atomic layer deposition (ALD) is a powerful to...</td>\n",
       "      <td>the journal of chemical physics</td>\n",
       "      <td>['0021-9606', '1089-7690', '1520-9032']</td>\n",
       "      <td>journal</td>\n",
       "      <td>229</td>\n",
       "      <td>['https://openalex.org/W1905740964', 'https://...</td>\n",
       "      <td>Richey</td>\n",
       "    </tr>\n",
       "    <tr>\n",
       "      <th>1</th>\n",
       "      <td>https://openalex.org/W3168021923</td>\n",
       "      <td>10.1021/acscatal.1c01200</td>\n",
       "      <td>single-atom catalysts designed and prepared by...</td>\n",
       "      <td>article</td>\n",
       "      <td>2021-06-02</td>\n",
       "      <td>2021</td>\n",
       "      <td>11</td>\n",
       "      <td>12</td>\n",
       "      <td>7018</td>\n",
       "      <td>7059</td>\n",
       "      <td>Javier Fonseca, Junling Lu</td>\n",
       "      <td>Atomic units, Characterization, Deposition, At...</td>\n",
       "      <td>The atomic layer deposition (ALD) technique al...</td>\n",
       "      <td>acs catalysis</td>\n",
       "      <td>['2155-5435']</td>\n",
       "      <td>journal</td>\n",
       "      <td>206</td>\n",
       "      <td>['https://openalex.org/W1162924051', 'https://...</td>\n",
       "      <td>Fonseca</td>\n",
       "    </tr>\n",
       "    <tr>\n",
       "      <th>2</th>\n",
       "      <td>https://openalex.org/W3022712516</td>\n",
       "      <td>10.1039/d0ee00385a</td>\n",
       "      <td>applications of atomic layer deposition and ch...</td>\n",
       "      <td>article</td>\n",
       "      <td>2020-01-01</td>\n",
       "      <td>2020</td>\n",
       "      <td>13</td>\n",
       "      <td>7</td>\n",
       "      <td>1997</td>\n",
       "      <td>2023</td>\n",
       "      <td>James A. Raiford, Solomon T. Oyakhire, Stacey ...</td>\n",
       "      <td>Deposition, Perovskite solar cell</td>\n",
       "      <td>A review on the versatility of atomic layer de...</td>\n",
       "      <td>energy &amp; environmental science</td>\n",
       "      <td>['1754-5692', '1754-5706']</td>\n",
       "      <td>journal</td>\n",
       "      <td>155</td>\n",
       "      <td>['https://openalex.org/W1184977109', 'https://...</td>\n",
       "      <td>Raiford</td>\n",
       "    </tr>\n",
       "    <tr>\n",
       "      <th>3</th>\n",
       "      <td>https://openalex.org/W4212902471</td>\n",
       "      <td>10.1038/s41928-022-00718-w</td>\n",
       "      <td>scaled indium oxide transistors fabricated usi...</td>\n",
       "      <td>article</td>\n",
       "      <td>2022-02-21</td>\n",
       "      <td>2022</td>\n",
       "      <td>5</td>\n",
       "      <td>3</td>\n",
       "      <td>164</td>\n",
       "      <td>170</td>\n",
       "      <td>Mengwei Si, Zehao Lin, Zhizhong Chen, Xing Sun...</td>\n",
       "      <td>Transconductance</td>\n",
       "      <td>NaN</td>\n",
       "      <td>nature electronics</td>\n",
       "      <td>['2520-1131']</td>\n",
       "      <td>journal</td>\n",
       "      <td>179</td>\n",
       "      <td>['https://openalex.org/W1990230218', 'https://...</td>\n",
       "      <td>Si</td>\n",
       "    </tr>\n",
       "    <tr>\n",
       "      <th>4</th>\n",
       "      <td>https://openalex.org/W3006809768</td>\n",
       "      <td>10.1021/acs.chemmater.9b04647</td>\n",
       "      <td>inherently selective atomic layer deposition a...</td>\n",
       "      <td>article</td>\n",
       "      <td>2020-02-26</td>\n",
       "      <td>2020</td>\n",
       "      <td>32</td>\n",
       "      <td>6</td>\n",
       "      <td>2195</td>\n",
       "      <td>2207</td>\n",
       "      <td>Kun Cao, Jiaming Cai, Rong Chen</td>\n",
       "      <td>Dangling bond, Passivation</td>\n",
       "      <td>The chemical approaches enabling selective ato...</td>\n",
       "      <td>chemistry of materials</td>\n",
       "      <td>['0897-4756', '1520-5002']</td>\n",
       "      <td>journal</td>\n",
       "      <td>108</td>\n",
       "      <td>['https://openalex.org/W1463728261', 'https://...</td>\n",
       "      <td>Cao</td>\n",
       "    </tr>\n",
       "  </tbody>\n",
       "</table>\n",
       "</div>"
      ],
      "text/plain": [
       "                        openalex_id                            doi  \\\n",
       "0  https://openalex.org/W3001010696              10.1063/1.5133390   \n",
       "1  https://openalex.org/W3168021923       10.1021/acscatal.1c01200   \n",
       "2  https://openalex.org/W3022712516             10.1039/d0ee00385a   \n",
       "3  https://openalex.org/W4212902471     10.1038/s41928-022-00718-w   \n",
       "4  https://openalex.org/W3006809768  10.1021/acs.chemmater.9b04647   \n",
       "\n",
       "                                      openalex_title     type  \\\n",
       "0  understanding chemical and physical mechanisms...  article   \n",
       "1  single-atom catalysts designed and prepared by...  article   \n",
       "2  applications of atomic layer deposition and ch...  article   \n",
       "3  scaled indium oxide transistors fabricated usi...  article   \n",
       "4  inherently selective atomic layer deposition a...  article   \n",
       "\n",
       "  publication_date  openalex_publication_year openalex_volume issue  \\\n",
       "0       2020-01-22                       2020             152     4   \n",
       "1       2021-06-02                       2021              11    12   \n",
       "2       2020-01-01                       2020              13     7   \n",
       "3       2022-02-21                       2022               5     3   \n",
       "4       2020-02-26                       2020              32     6   \n",
       "\n",
       "  first_page last_page                                            authors  \\\n",
       "0        NaN       NaN  Nathaniel E. Richey, Camila de Paula, Stacey F...   \n",
       "1       7018      7059                         Javier Fonseca, Junling Lu   \n",
       "2       1997      2023  James A. Raiford, Solomon T. Oyakhire, Stacey ...   \n",
       "3        164       170  Mengwei Si, Zehao Lin, Zhizhong Chen, Xing Sun...   \n",
       "4       2195      2207                    Kun Cao, Jiaming Cai, Rong Chen   \n",
       "\n",
       "                                            keywords  \\\n",
       "0    Chemisorption, Deposition, Atomic layer epitaxy   \n",
       "1  Atomic units, Characterization, Deposition, At...   \n",
       "2                  Deposition, Perovskite solar cell   \n",
       "3                                   Transconductance   \n",
       "4                         Dangling bond, Passivation   \n",
       "\n",
       "                                            abstract  \\\n",
       "0  Atomic layer deposition (ALD) is a powerful to...   \n",
       "1  The atomic layer deposition (ALD) technique al...   \n",
       "2  A review on the versatility of atomic layer de...   \n",
       "3                                                NaN   \n",
       "4  The chemical approaches enabling selective ato...   \n",
       "\n",
       "             openalex_source_title                              source_issn  \\\n",
       "0  the journal of chemical physics  ['0021-9606', '1089-7690', '1520-9032']   \n",
       "1                    acs catalysis                            ['2155-5435']   \n",
       "2   energy & environmental science               ['1754-5692', '1754-5706']   \n",
       "3               nature electronics                            ['2520-1131']   \n",
       "4           chemistry of materials               ['0897-4756', '1520-5002']   \n",
       "\n",
       "  source_type  cited_by_count  \\\n",
       "0     journal             229   \n",
       "1     journal             206   \n",
       "2     journal             155   \n",
       "3     journal             179   \n",
       "4     journal             108   \n",
       "\n",
       "                                    referenced_works openalex_name_1st_author  \n",
       "0  ['https://openalex.org/W1905740964', 'https://...                   Richey  \n",
       "1  ['https://openalex.org/W1162924051', 'https://...                  Fonseca  \n",
       "2  ['https://openalex.org/W1184977109', 'https://...                  Raiford  \n",
       "3  ['https://openalex.org/W1990230218', 'https://...                       Si  \n",
       "4  ['https://openalex.org/W1463728261', 'https://...                      Cao  "
      ]
     },
     "execution_count": 45,
     "metadata": {},
     "output_type": "execute_result"
    }
   ],
   "source": [
    "data_openalex_2020.head()"
   ]
  },
  {
   "cell_type": "markdown",
   "metadata": {},
   "source": [
    "### Matching<a class=\"anchor\" id=\"matching_2020\"></a>"
   ]
  },
  {
   "cell_type": "code",
   "execution_count": 46,
   "metadata": {},
   "outputs": [],
   "source": [
    "# Erzeuge UUID zur eindeutigen Identifikation der Daten\n",
    "# Scopus dient als UUID Spender, bei erfolgten Match wird der OpenAlex Datensatz mit dieser UUId verknüpft\n",
    "\n",
    "data_scopus_2020[\"uuid\"] = [uuid.uuid4() for _ in range(len(data_scopus_2020.index))]\n",
    "data_openalex_2020[\"uuid\"] = pd.Series(dtype=\"object\")\n",
    "\n",
    "# Desweiteren wird ein Label genutzt um schon gematchte Datensätze besser identifizieren zu können\n",
    "data_scopus_2020[\"matched\"] = False\n",
    "data_openalex_2020[\"matched\"] = False"
   ]
  },
  {
   "cell_type": "code",
   "execution_count": 47,
   "metadata": {},
   "outputs": [
    {
     "name": "stdout",
     "output_type": "stream",
     "text": [
      "Für Scopus wurden 6476 Einträge gefunden. Hiervon haben 6388 eine DOI und 88 keine DOI.\n",
      "Für OpenAlex wurden 6282 Einträge gefunden. Hiervon haben 6118 eine DOI und 164 keine DOI.\n"
     ]
    }
   ],
   "source": [
    "# Aufteilung in Daten mit und ohne DOI\n",
    "data_scopus_2020_nodoi = data_scopus_2020[data_scopus_2020[\"doi\"].isnull()]\n",
    "data_scopus_2020_mitdoi = data_scopus_2020[data_scopus_2020[\"doi\"].notnull()]\n",
    "\n",
    "data_openalex_2020_nodoi = data_openalex_2020[data_openalex_2020[\"doi\"].isnull()]\n",
    "data_openalex_2020_mitdoi = data_openalex_2020[data_openalex_2020[\"doi\"].notnull()]\n",
    "\n",
    "print(\n",
    "    f\"Für Scopus wurden {data_scopus_2020.shape[0]} Einträge gefunden. Hiervon haben {data_scopus_2020_mitdoi.shape[0]} eine DOI und {data_scopus_2020_nodoi.shape[0]} keine DOI.\"\n",
    ")\n",
    "print(\n",
    "    f\"Für OpenAlex wurden {data_openalex_2020.shape[0]} Einträge gefunden. Hiervon haben {data_openalex_2020_mitdoi.shape[0]} eine DOI und {data_openalex_2020_nodoi.shape[0]} keine DOI.\"\n",
    ")"
   ]
  },
  {
   "cell_type": "code",
   "execution_count": 48,
   "metadata": {},
   "outputs": [
    {
     "name": "stdout",
     "output_type": "stream",
     "text": [
      "Scopus ohne Titel: 0\n",
      "OpenAlex ohne Titel: 0 \n",
      "\n",
      "Scopus ohne Publikationsjahr: 0\n",
      "OpenAlex ohne Publikationsjahr: 0 \n",
      "\n",
      "Scopus ohne Autorennamen: 7\n",
      "OpenAlex ohne Autorennamen: 15 \n",
      "\n",
      "Scopus ohne Quellentitel: 0\n",
      "OpenAlex ohne Quellentitel: 465 \n",
      "\n",
      "Scopus ohne Ausgabe (Volume): 345\n",
      "OpenAlex ohne Ausgabe (Volume): 763\n",
      "\n",
      "Scopus ohne ISSN: 1891\n",
      "OpenAlex ohne ISSN: 716\n",
      "\n",
      "Scopus ohne Seitenangaben: 3530\n",
      "OpenAlex ohne Seitenangaben: 1684\n",
      "\n",
      "Scopus ohne Abstract: 18\n",
      "OpenAlex ohne Abstract: 750\n"
     ]
    }
   ],
   "source": [
    "# ohen Titel\n",
    "print(\n",
    "    f\"Scopus ohne Titel: {data_scopus_2020[data_scopus_2020['scopus_title'].isnull()].shape[0]}\"\n",
    ")\n",
    "print(\n",
    "    f\"OpenAlex ohne Titel: {data_openalex_2020[data_openalex_2020['openalex_title'].isnull()].shape[0]} \\n\"\n",
    ")\n",
    "\n",
    "# ohne Publikationsjahr\n",
    "\n",
    "print(\n",
    "    f\"Scopus ohne Publikationsjahr: {data_scopus_2020[data_scopus_2020['scopus_publication_year'].isnull()].shape[0]}\"\n",
    ")\n",
    "print(\n",
    "    f\"OpenAlex ohne Publikationsjahr: {data_openalex_2020[data_openalex_2020['openalex_publication_year'].isnull()].shape[0]} \\n\"\n",
    ")\n",
    "\n",
    "# ohne Autornamen\n",
    "\n",
    "print(\n",
    "    f\"Scopus ohne Autorennamen: {data_scopus_2020[data_scopus_2020['scopus_name_1st_author'].isnull()].shape[0]}\"\n",
    ")\n",
    "print(\n",
    "    f\"OpenAlex ohne Autorennamen: {data_openalex_2020[data_openalex_2020['openalex_name_1st_author'].isnull()].shape[0]} \\n\"\n",
    ")\n",
    "\n",
    "# ohne Titel Quelle (e.g. Journal)\n",
    "\n",
    "print(\n",
    "    f\"Scopus ohne Quellentitel: {data_scopus_2020[data_scopus_2020['scopus_source_title'].isnull()].shape[0]}\"\n",
    ")\n",
    "print(\n",
    "    f\"OpenAlex ohne Quellentitel: {data_openalex_2020[data_openalex_2020['openalex_source_title'].isnull()].shape[0]} \\n\"\n",
    ")\n",
    "\n",
    "# ohne Volume\n",
    "\n",
    "print(\n",
    "    f\"Scopus ohne Ausgabe (Volume): {data_scopus_2020[data_scopus_2020['scopus_volume'].isnull()].shape[0]}\"\n",
    ")\n",
    "print(\n",
    "    f\"OpenAlex ohne Ausgabe (Volume): {data_openalex_2020[data_openalex_2020['openalex_volume'].isnull()].shape[0]}\\n\"\n",
    ")\n",
    "\n",
    "\n",
    "# ohne ISSN\n",
    "\n",
    "print(\n",
    "    f\"Scopus ohne ISSN: {data_scopus_2020[data_scopus_2020['issn'].isnull()].shape[0]}\"\n",
    ")\n",
    "print(\n",
    "    f\"OpenAlex ohne ISSN: {data_openalex_2020[data_openalex_2020['source_issn'].isnull()].shape[0]}\\n\"\n",
    ")\n",
    "\n",
    "\n",
    "# ohne Seitenangaben\n",
    "\n",
    "print(\n",
    "    f\"Scopus ohne Seitenangaben: {data_scopus_2020[data_scopus_2020['pageRange'].isnull()].shape[0]}\"\n",
    ")\n",
    "print(\n",
    "    f\"OpenAlex ohne Seitenangaben: {data_openalex_2020[data_openalex_2020['first_page'].isnull()].shape[0]}\\n\"\n",
    ")\n",
    "\n",
    "# ohne Abstract\n",
    "\n",
    "print(\n",
    "    f\"Scopus ohne Abstract: {data_scopus_2020[data_scopus_2020['description'].isnull()].shape[0]}\"\n",
    ")\n",
    "print(\n",
    "    f\"OpenAlex ohne Abstract: {data_openalex_2020[data_openalex_2020['abstract'].isnull()].shape[0]}\"\n",
    ")"
   ]
  },
  {
   "cell_type": "code",
   "execution_count": 49,
   "metadata": {},
   "outputs": [
    {
     "name": "stdout",
     "output_type": "stream",
     "text": [
      "6388\n",
      "6118\n"
     ]
    }
   ],
   "source": [
    "# Schritt 1: Matching anhand der DOI\n",
    "# Zuerst werden die Einträge mit DOI aus Scopus mit den Einträgen mit DOI aus OpenAlex verglichen.\n",
    "\n",
    "# Nur Datensätze mit DOI berücksichtigen\n",
    "# Index aktualisieren\n",
    "data_scopus_2020_mitdoi.reset_index(drop=True, inplace=True)\n",
    "data_openalex_2020_mitdoi.reset_index(drop=True, inplace=True)\n",
    "\n",
    "print(data_scopus_2020_mitdoi.shape[0])\n",
    "print(data_openalex_2020_mitdoi.shape[0])"
   ]
  },
  {
   "cell_type": "code",
   "execution_count": 50,
   "metadata": {},
   "outputs": [
    {
     "name": "stdout",
     "output_type": "stream",
     "text": [
      "Es wurden 4237 übereinstimmende DOIs gefunden.\n"
     ]
    }
   ],
   "source": [
    "for index_scopus, row_scopus in data_scopus_2020_mitdoi.iterrows():\n",
    "    for index_openalex, row_openalex in data_openalex_2020_mitdoi.iterrows():\n",
    "        if row_scopus[\"doi\"] == row_openalex[\"doi\"]:\n",
    "            # mark rows as matched\n",
    "            data_scopus_2020_mitdoi.iloc[\n",
    "                index_scopus, data_scopus_2020_mitdoi.columns.get_loc(\"matched\")\n",
    "            ] = True\n",
    "            data_openalex_2020_mitdoi.iloc[\n",
    "                index_openalex, data_openalex_2020_mitdoi.columns.get_loc(\"matched\")\n",
    "            ] = True\n",
    "            # write UUID to OpenAlex\n",
    "            data_openalex_2020_mitdoi.iloc[\n",
    "                index_openalex, data_openalex_2020_mitdoi.columns.get_loc(\"uuid\")\n",
    "            ] = row_scopus[\"uuid\"]\n",
    "\n",
    "# No. of matched items\n",
    "data_scopus_2020_doi_matched = data_scopus_2020_mitdoi[\n",
    "    data_scopus_2020_mitdoi[\"matched\"] == True\n",
    "]\n",
    "data_openalex_2020_doi_matched = data_openalex_2020_mitdoi[\n",
    "    data_openalex_2020_mitdoi[\"matched\"] == True\n",
    "]\n",
    "num_scopus = data_scopus_2020_doi_matched.shape[0]\n",
    "num_openalex = data_openalex_2020_doi_matched.shape[0]\n",
    "\n",
    "if num_scopus == num_openalex:\n",
    "    print(f\"Es wurden {num_scopus} übereinstimmende DOIs gefunden.\")"
   ]
  },
  {
   "cell_type": "code",
   "execution_count": 51,
   "metadata": {},
   "outputs": [],
   "source": [
    "# Schritt 2: Matching anhand des Scores\n",
    "# Erstellung der noch zu matchenden Datensätze: ohne DOI und die mit DOI aber unmatched\n",
    "\n",
    "data_scopus_2020_doi_unmatched = data_scopus_2020_mitdoi[\n",
    "    data_scopus_2020_mitdoi[\"matched\"] == False\n",
    "]\n",
    "data_openalex_2020_doi_unmatched = data_openalex_2020_mitdoi[\n",
    "    data_openalex_2020_mitdoi[\"matched\"] == False\n",
    "]\n",
    "\n",
    "data_scopus_2020_nodoi = data_scopus_2020[data_scopus_2020[\"doi\"].isnull()]\n",
    "data_openalex_2020_nodoi = data_openalex_2020[data_openalex_2020[\"doi\"].isnull()]\n",
    "\n",
    "data_scopus_2020_unmatched = pd.concat(\n",
    "    [data_scopus_2020_doi_unmatched, data_scopus_2020_nodoi], ignore_index=True\n",
    ")\n",
    "data_openalex_2020_unmatched = pd.concat(\n",
    "    [data_openalex_2020_doi_unmatched, data_openalex_2020_nodoi], ignore_index=True\n",
    ")"
   ]
  },
  {
   "cell_type": "code",
   "execution_count": 52,
   "metadata": {},
   "outputs": [],
   "source": [
    "# match rest of data\n",
    "matches_2020, score_matrix_2020 = score_matching(\n",
    "    data_scopus_2020_unmatched,\n",
    "    data_openalex_2020_unmatched,\n",
    "    title_penalty=0.1,\n",
    "    title_max=0.5,\n",
    "    source_penalty=0.1,\n",
    "    source_max=0.3,\n",
    "    author_penalty=0.1,\n",
    "    author_max=0.3,\n",
    "    score_cutoff=1.0,\n",
    ")"
   ]
  },
  {
   "cell_type": "code",
   "execution_count": 53,
   "metadata": {},
   "outputs": [],
   "source": [
    "# Entferne Matches mit unterschiedlicher DOI (vermutlich falsch positiv)\n",
    "matches_2020 = remove_matches_with_different_doi(\n",
    "    matches_2020, data_scopus_2020_mitdoi, data_openalex_2020_mitdoi\n",
    ")"
   ]
  },
  {
   "cell_type": "code",
   "execution_count": 54,
   "metadata": {},
   "outputs": [
    {
     "data": {
      "text/html": [
       "<div>\n",
       "<style scoped>\n",
       "    .dataframe tbody tr th:only-of-type {\n",
       "        vertical-align: middle;\n",
       "    }\n",
       "\n",
       "    .dataframe tbody tr th {\n",
       "        vertical-align: top;\n",
       "    }\n",
       "\n",
       "    .dataframe thead th {\n",
       "        text-align: right;\n",
       "    }\n",
       "</style>\n",
       "<table border=\"1\" class=\"dataframe\">\n",
       "  <thead>\n",
       "    <tr style=\"text-align: right;\">\n",
       "      <th></th>\n",
       "      <th>scopus_id</th>\n",
       "      <th>score</th>\n",
       "      <th>openalex_id</th>\n",
       "    </tr>\n",
       "  </thead>\n",
       "  <tbody>\n",
       "    <tr>\n",
       "      <th>0</th>\n",
       "      <td>2-s2.0-85091847825</td>\n",
       "      <td>1.000000</td>\n",
       "      <td>https://openalex.org/W3036865856</td>\n",
       "    </tr>\n",
       "    <tr>\n",
       "      <th>1</th>\n",
       "      <td>2-s2.0-85213956793</td>\n",
       "      <td>1.003191</td>\n",
       "      <td>https://openalex.org/W4400943923</td>\n",
       "    </tr>\n",
       "    <tr>\n",
       "      <th>2</th>\n",
       "      <td>2-s2.0-85176363689</td>\n",
       "      <td>1.005455</td>\n",
       "      <td>https://openalex.org/W4385365359</td>\n",
       "    </tr>\n",
       "    <tr>\n",
       "      <th>3</th>\n",
       "      <td>2-s2.0-85174120522</td>\n",
       "      <td>1.004054</td>\n",
       "      <td>https://openalex.org/W4386762134</td>\n",
       "    </tr>\n",
       "    <tr>\n",
       "      <th>4</th>\n",
       "      <td>2-s2.0-85128729486</td>\n",
       "      <td>1.010870</td>\n",
       "      <td>https://openalex.org/W4310748616</td>\n",
       "    </tr>\n",
       "  </tbody>\n",
       "</table>\n",
       "</div>"
      ],
      "text/plain": [
       "            scopus_id     score                       openalex_id\n",
       "0  2-s2.0-85091847825  1.000000  https://openalex.org/W3036865856\n",
       "1  2-s2.0-85213956793  1.003191  https://openalex.org/W4400943923\n",
       "2  2-s2.0-85176363689  1.005455  https://openalex.org/W4385365359\n",
       "3  2-s2.0-85174120522  1.004054  https://openalex.org/W4386762134\n",
       "4  2-s2.0-85128729486  1.010870  https://openalex.org/W4310748616"
      ]
     },
     "execution_count": 54,
     "metadata": {},
     "output_type": "execute_result"
    }
   ],
   "source": [
    "matches_2020_df = pd.DataFrame.from_dict(matches_2020)\n",
    "matches_2020_df.head()"
   ]
  },
  {
   "cell_type": "code",
   "execution_count": 55,
   "metadata": {},
   "outputs": [
    {
     "data": {
      "text/plain": [
       "26"
      ]
     },
     "execution_count": 55,
     "metadata": {},
     "output_type": "execute_result"
    }
   ],
   "source": [
    "matches_2020_df.shape[0]"
   ]
  },
  {
   "cell_type": "code",
   "execution_count": 56,
   "metadata": {},
   "outputs": [
    {
     "data": {
      "text/html": [
       "<div>\n",
       "<style scoped>\n",
       "    .dataframe tbody tr th:only-of-type {\n",
       "        vertical-align: middle;\n",
       "    }\n",
       "\n",
       "    .dataframe tbody tr th {\n",
       "        vertical-align: top;\n",
       "    }\n",
       "\n",
       "    .dataframe thead th {\n",
       "        text-align: right;\n",
       "    }\n",
       "</style>\n",
       "<table border=\"1\" class=\"dataframe\">\n",
       "  <thead>\n",
       "    <tr style=\"text-align: right;\">\n",
       "      <th></th>\n",
       "      <th>scopus_id</th>\n",
       "      <th>score</th>\n",
       "      <th>openalex_id</th>\n",
       "    </tr>\n",
       "  </thead>\n",
       "  <tbody>\n",
       "  </tbody>\n",
       "</table>\n",
       "</div>"
      ],
      "text/plain": [
       "Empty DataFrame\n",
       "Columns: [scopus_id, score, openalex_id]\n",
       "Index: []"
      ]
     },
     "execution_count": 56,
     "metadata": {},
     "output_type": "execute_result"
    }
   ],
   "source": [
    "matches_2020_df[matches_2020_df.duplicated(\"scopus_id\", keep=False)]"
   ]
  },
  {
   "cell_type": "code",
   "execution_count": 57,
   "metadata": {},
   "outputs": [
    {
     "data": {
      "text/html": [
       "<div>\n",
       "<style scoped>\n",
       "    .dataframe tbody tr th:only-of-type {\n",
       "        vertical-align: middle;\n",
       "    }\n",
       "\n",
       "    .dataframe tbody tr th {\n",
       "        vertical-align: top;\n",
       "    }\n",
       "\n",
       "    .dataframe thead th {\n",
       "        text-align: right;\n",
       "    }\n",
       "</style>\n",
       "<table border=\"1\" class=\"dataframe\">\n",
       "  <thead>\n",
       "    <tr style=\"text-align: right;\">\n",
       "      <th></th>\n",
       "      <th>scopus_id</th>\n",
       "      <th>score</th>\n",
       "      <th>openalex_id</th>\n",
       "    </tr>\n",
       "  </thead>\n",
       "  <tbody>\n",
       "    <tr>\n",
       "      <th>17</th>\n",
       "      <td>2-s2.0-85120485661</td>\n",
       "      <td>1.055770</td>\n",
       "      <td>https://openalex.org/W3194456814</td>\n",
       "    </tr>\n",
       "    <tr>\n",
       "      <th>24</th>\n",
       "      <td>2-s2.0-85119440571</td>\n",
       "      <td>1.028205</td>\n",
       "      <td>https://openalex.org/W3194456814</td>\n",
       "    </tr>\n",
       "  </tbody>\n",
       "</table>\n",
       "</div>"
      ],
      "text/plain": [
       "             scopus_id     score                       openalex_id\n",
       "17  2-s2.0-85120485661  1.055770  https://openalex.org/W3194456814\n",
       "24  2-s2.0-85119440571  1.028205  https://openalex.org/W3194456814"
      ]
     },
     "execution_count": 57,
     "metadata": {},
     "output_type": "execute_result"
    }
   ],
   "source": [
    "matches_2020_df[matches_2020_df.duplicated(\"openalex_id\", keep=False)]"
   ]
  },
  {
   "cell_type": "code",
   "execution_count": 58,
   "metadata": {},
   "outputs": [],
   "source": [
    "# OpenAlex-Eintrag doppelt gematcht, Eintrag immer geringerem Score entfernen\n",
    "del matches_2020[24]"
   ]
  },
  {
   "cell_type": "code",
   "execution_count": 59,
   "metadata": {},
   "outputs": [],
   "source": [
    "# copy results back to dataframes\n",
    "data_openalex_2020_unmatched[\"score\"] = None\n",
    "for match in matches_2020:\n",
    "    # set entries as matched\n",
    "    index_scopus = data_scopus_2020_unmatched[\n",
    "        data_scopus_2020_unmatched[\"scopus_id\"] == match[\"scopus_id\"]\n",
    "    ].index.to_list()[0]\n",
    "    index_openalex = data_openalex_2020_unmatched[\n",
    "        data_openalex_2020_unmatched[\"openalex_id\"] == match[\"openalex_id\"]\n",
    "    ].index.to_list()[0]\n",
    "\n",
    "    data_scopus_2020_unmatched.iloc[\n",
    "        index_scopus, data_scopus_2020_unmatched.columns.get_loc(\"matched\")\n",
    "    ] = True\n",
    "    data_openalex_2020_unmatched.iloc[\n",
    "        index_openalex, data_openalex_2020_unmatched.columns.get_loc(\"matched\")\n",
    "    ] = True\n",
    "\n",
    "    # write UUID to OpenAlex\n",
    "    uuid_scopus = data_scopus_2020_unmatched.iloc[\n",
    "        index_scopus, data_scopus_2020_unmatched.columns.get_loc(\"uuid\")\n",
    "    ]\n",
    "    data_openalex_2020_unmatched.iloc[\n",
    "        index_openalex, data_openalex_2020_unmatched.columns.get_loc(\"uuid\")\n",
    "    ] = uuid_scopus\n",
    "\n",
    "    # write score to openalex data\n",
    "    data_openalex_2020_unmatched.iloc[\n",
    "        index_openalex, data_openalex_2020_unmatched.columns.get_loc(\"score\")\n",
    "    ] = match[\"score\"]"
   ]
  },
  {
   "cell_type": "code",
   "execution_count": 60,
   "metadata": {},
   "outputs": [
    {
     "data": {
      "text/plain": [
       "2214"
      ]
     },
     "execution_count": 60,
     "metadata": {},
     "output_type": "execute_result"
    }
   ],
   "source": [
    "data_scopus_2020_unmatched[data_scopus_2020_unmatched[\"matched\"] == False].shape[0]"
   ]
  },
  {
   "cell_type": "code",
   "execution_count": 61,
   "metadata": {},
   "outputs": [
    {
     "data": {
      "text/plain": [
       "25"
      ]
     },
     "execution_count": 61,
     "metadata": {},
     "output_type": "execute_result"
    }
   ],
   "source": [
    "data_scopus_2020_unmatched[data_scopus_2020_unmatched[\"matched\"] == True].shape[0]"
   ]
  },
  {
   "cell_type": "code",
   "execution_count": 62,
   "metadata": {},
   "outputs": [
    {
     "data": {
      "text/plain": [
       "25"
      ]
     },
     "execution_count": 62,
     "metadata": {},
     "output_type": "execute_result"
    }
   ],
   "source": [
    "data_openalex_2020_unmatched[data_openalex_2020_unmatched[\"matched\"] == True].shape[0]"
   ]
  },
  {
   "cell_type": "code",
   "execution_count": 63,
   "metadata": {},
   "outputs": [
    {
     "name": "stdout",
     "output_type": "stream",
     "text": [
      "25\n",
      "25\n",
      "Es wurden 25 übereinstimmende DOIs gefunden.\n"
     ]
    }
   ],
   "source": [
    "# No. of matched items\n",
    "data_scopus_2020_score_matched = data_scopus_2020_unmatched[\n",
    "    data_scopus_2020_unmatched[\"matched\"] == True\n",
    "]\n",
    "data_openalex_2020_score_matched = data_openalex_2020_unmatched[\n",
    "    data_openalex_2020_unmatched[\"matched\"] == True\n",
    "]\n",
    "num_scopus = data_scopus_2020_score_matched.shape[0]\n",
    "num_openalex = data_openalex_2020_score_matched.shape[0]\n",
    "\n",
    "print(num_scopus)\n",
    "print(num_openalex)\n",
    "\n",
    "if num_scopus == num_openalex:\n",
    "    print(f\"Es wurden {num_scopus} übereinstimmende DOIs gefunden.\")"
   ]
  },
  {
   "cell_type": "code",
   "execution_count": 64,
   "metadata": {},
   "outputs": [],
   "source": [
    "# Ergebnisse aus beiden Matching-Schritten zusammen führen\n",
    "data_scopus_2020_matched = pd.concat(\n",
    "    [data_scopus_2020_doi_matched, data_scopus_2020_score_matched]\n",
    ")\n",
    "data_openalex_2020_matched = pd.concat(\n",
    "    [data_openalex_2020_doi_matched, data_openalex_2020_score_matched]\n",
    ")\n",
    "\n",
    "data_2020_matched = pd.merge(\n",
    "    data_scopus_2020_matched, data_openalex_2020_matched, on=\"uuid\"\n",
    ")\n",
    "\n",
    "# Spalten umbenennen\n",
    "data_2020_matched.rename(\n",
    "    columns={\n",
    "        \"doi_x\": \"doi\",\n",
    "        \"matched_y\": \"matched\",\n",
    "    },\n",
    "    inplace=True,\n",
    ")\n",
    "\n",
    "# Spalte UUID nicht mit abspeichern\n",
    "data_2020_matched.drop(columns=[\"uuid\", \"matched_x\", \"doi_y\"], inplace=True)"
   ]
  },
  {
   "cell_type": "code",
   "execution_count": 65,
   "metadata": {},
   "outputs": [
    {
     "data": {
      "text/plain": [
       "Index(['scopus_id', 'doi', 'pii', 'pubmed_id', 'scopus_title', 'subtype',\n",
       "       'subtypeDescription', 'creator', 'afid', 'affilname',\n",
       "       'affiliation_city', 'affiliation_country', 'author_count',\n",
       "       'author_names', 'author_ids', 'author_afids', 'coverDate',\n",
       "       'coverDisplayDate', 'scopus_source_title', 'issn', 'source_id', 'eIssn',\n",
       "       'aggregationType', 'scopus_volume', 'issueIdentifier', 'article_number',\n",
       "       'pageRange', 'description', 'authkeywords', 'citedby_count',\n",
       "       'openaccess', 'freetoread', 'freetoreadLabel', 'fund_acr', 'fund_no',\n",
       "       'fund_sponsor', 'scopus_name_1st_author', 'scopus_publication_year',\n",
       "       'openalex_id', 'openalex_title', 'type', 'publication_date',\n",
       "       'openalex_publication_year', 'openalex_volume', 'issue', 'first_page',\n",
       "       'last_page', 'authors', 'keywords', 'abstract', 'openalex_source_title',\n",
       "       'source_issn', 'source_type', 'cited_by_count', 'referenced_works',\n",
       "       'openalex_name_1st_author', 'matched', 'score'],\n",
       "      dtype='object')"
      ]
     },
     "execution_count": 65,
     "metadata": {},
     "output_type": "execute_result"
    }
   ],
   "source": [
    "data_2020_matched.columns"
   ]
  },
  {
   "cell_type": "code",
   "execution_count": 66,
   "metadata": {},
   "outputs": [],
   "source": [
    "# Daten speichern\n",
    "data_2020_matched.to_csv(\"../data/diff/data_2020_matched.csv\")\n",
    "\n",
    "data_scopus_2020_unmatched[data_scopus_2020_unmatched[\"matched\"] == False].to_csv(\n",
    "    \"../data/diff/data_2020_only_scopus.csv\"\n",
    ")\n",
    "data_openalex_2020_unmatched[data_openalex_2020_unmatched[\"matched\"] == False].to_csv(\n",
    "    \"../data/diff/data_2020_only_openalex.csv\"\n",
    ")"
   ]
  },
  {
   "cell_type": "code",
   "execution_count": 67,
   "metadata": {},
   "outputs": [
    {
     "data": {
      "text/plain": [
       "Index(['scopus_id', 'doi', 'pii', 'pubmed_id', 'scopus_title', 'subtype',\n",
       "       'subtypeDescription', 'creator', 'afid', 'affilname',\n",
       "       'affiliation_city', 'affiliation_country', 'author_count',\n",
       "       'author_names', 'author_ids', 'author_afids', 'coverDate',\n",
       "       'coverDisplayDate', 'scopus_source_title', 'issn', 'source_id', 'eIssn',\n",
       "       'aggregationType', 'scopus_volume', 'issueIdentifier', 'article_number',\n",
       "       'pageRange', 'description', 'authkeywords', 'citedby_count',\n",
       "       'openaccess', 'freetoread', 'freetoreadLabel', 'fund_acr', 'fund_no',\n",
       "       'fund_sponsor', 'scopus_name_1st_author', 'scopus_publication_year',\n",
       "       'uuid', 'matched'],\n",
       "      dtype='object')"
      ]
     },
     "execution_count": 67,
     "metadata": {},
     "output_type": "execute_result"
    }
   ],
   "source": [
    "data_scopus_2020_unmatched.columns"
   ]
  },
  {
   "cell_type": "code",
   "execution_count": 68,
   "metadata": {},
   "outputs": [],
   "source": [
    "# Daten für Veröffentlichung (nur DOI, EID und ID)\n",
    "df_2020_matched = data_2020_matched[\n",
    "    [\n",
    "        \"doi\",\n",
    "        \"scopus_id\",\n",
    "        \"openalex_id\",\n",
    "    ]\n",
    "]\n",
    "df_2020_only_scopus = data_scopus_2020_unmatched[\n",
    "    [\n",
    "        \"doi\",\n",
    "        \"scopus_id\",\n",
    "    ]\n",
    "]\n",
    "df_2020_only_openalex = data_openalex_2020_unmatched[\n",
    "    [\n",
    "        \"doi\",\n",
    "        \"openalex_id\",\n",
    "    ]\n",
    "]\n",
    "\n",
    "df_2020_matched_all = pd.concat(\n",
    "    [df_2020_matched, df_2020_only_scopus, df_2020_only_openalex]\n",
    ")"
   ]
  },
  {
   "cell_type": "code",
   "execution_count": 69,
   "metadata": {},
   "outputs": [
    {
     "data": {
      "text/plain": [
       "True"
      ]
     },
     "execution_count": 69,
     "metadata": {},
     "output_type": "execute_result"
    }
   ],
   "source": [
    "# check: correct df size\n",
    "df_2020_matched_all.shape[0] == (\n",
    "    df_2020_matched.shape[0]\n",
    "    + df_2020_only_scopus.shape[0]\n",
    "    + df_2020_only_openalex.shape[0]\n",
    ")"
   ]
  },
  {
   "cell_type": "code",
   "execution_count": null,
   "metadata": {},
   "outputs": [],
   "source": [
    "df_2020_matched_all.head(10)"
   ]
  },
  {
   "cell_type": "code",
   "execution_count": 71,
   "metadata": {},
   "outputs": [],
   "source": [
    "# Daten speichern\n",
    "df_2020_matched_all.to_csv(\"../data/diff/data_2020_matching_results.csv\")"
   ]
  }
 ],
 "metadata": {
  "kernelspec": {
   "display_name": "Python 3 (ipykernel)",
   "language": "python",
   "name": "python3"
  },
  "language_info": {
   "codemirror_mode": {
    "name": "ipython",
    "version": 3
   },
   "file_extension": ".py",
   "mimetype": "text/x-python",
   "name": "python",
   "nbconvert_exporter": "python",
   "pygments_lexer": "ipython3",
   "version": "3.11.2"
  }
 },
 "nbformat": 4,
 "nbformat_minor": 2
}
